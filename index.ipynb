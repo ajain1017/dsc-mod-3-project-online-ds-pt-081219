{
 "cells": [
  {
   "cell_type": "code",
   "execution_count": 1,
   "metadata": {},
   "outputs": [],
   "source": [
    "#import necessary packages\n",
    "import sqlite3\n",
    "import numpy as np\n",
    "import pandas as pd\n",
    "import statsmodels.api as sm\n",
    "from statsmodels.formula.api import ols\n",
    "from statsmodels.stats.multicomp import pairwise_tukeyhsd\n",
    "from statsmodels.stats.multicomp import MultiComparison\n",
    "import seaborn as sns\n",
    "from datetime import date\n",
    "import matplotlib.pyplot as plt\n",
    "%matplotlib inline \n",
    "import warnings\n",
    "warnings.filterwarnings('ignore')"
   ]
  },
  {
   "cell_type": "code",
   "execution_count": 2,
   "metadata": {},
   "outputs": [],
   "source": [
    "conn = sqlite3.connect('Northwind_small.sqlite')"
   ]
  },
  {
   "cell_type": "markdown",
   "metadata": {},
   "source": [
    "## Goal\n",
    "In this statistical analysis, we perform hypothesis tests to answer the following questions:  \n",
    "##### Question 1\n",
    "Does discount amount have a statistically significant effect on the quantity of a product in an order? If so, at what level(s) of discount?  \n",
    "##### Question 2\n",
    "Is there a statistically significant difference in the level(s) of discount offered by UK employees and USA employees?  \n",
    "Does the level(s) of discount offered by US employees have a statistically significant effect on the quantity ordered? If so, at what level(s) of discount?  \n",
    "Does the level(s) of discount offered by UK employees have a statistically significant effect on the quantity ordered? If so, at what level(s) of discount?  \n",
    "##### Question 3\n",
    "Does the age of the employee have a statistically significant effect on number of orders processed?  \n",
    "Does having a managerial position in Northwind have a statistically significant effect on number of orders recieved?  \n",
    "Does the age of the employee have a statistically significant effect on the quantity of a product in an order?  \n",
    "Does having manager in your title have a statistically significant effect on quantity ordered by the customer?\n",
    "##### Question 4\n",
    "For each category type of product, does the season in which the order was placed have a statistically significant effect on the quantity of a product in an order?  \n",
    "##### Question 5\n",
    "Does shipping company used have a statistically significant effect on the freight cost of shipping?  \n",
    "##### Question 6\n",
    "Does category of product have a statistically signficiant effect on processing time? If so, which ones?  \n",
    "Does having a discount on the order have a statistically significant effect on processing time?  \n",
    "Does size of order have a statistically signficant effect on processing time?  \n",
    "Does shipping company have a statistically significant effect on processing time?"
   ]
  },
  {
   "cell_type": "markdown",
   "metadata": {},
   "source": [
    "We will use one-tailed ANOVA a.k.a one-way ANOVA tests to answer the questions listed above. We will have a continous dependent variable and discrete values making up a categorical independent variable. We use ANOVA since we want to compare populations containing several levels (subgroups). Note that, for each test we will have a null hypothesis stating the group means are equal and an alternative hypothesis stating the group means are different (not equal)."
   ]
  },
  {
   "cell_type": "markdown",
   "metadata": {},
   "source": [
    "## Question 1\n",
    "### Does discount amount have a statistically significant effect on the quantity of a product in an order? If so, at what level(s) of discount?\n",
    "\n",
    "$H_0$: there is no significant difference in quantity ordered due to discount  \n",
    "$H_\\alpha$: there is a significant difference in order quantity due to discount"
   ]
  },
  {
   "cell_type": "code",
   "execution_count": 3,
   "metadata": {},
   "outputs": [
    {
     "data": {
      "text/html": [
       "<div>\n",
       "<style scoped>\n",
       "    .dataframe tbody tr th:only-of-type {\n",
       "        vertical-align: middle;\n",
       "    }\n",
       "\n",
       "    .dataframe tbody tr th {\n",
       "        vertical-align: top;\n",
       "    }\n",
       "\n",
       "    .dataframe thead th {\n",
       "        text-align: right;\n",
       "    }\n",
       "</style>\n",
       "<table border=\"1\" class=\"dataframe\">\n",
       "  <thead>\n",
       "    <tr style=\"text-align: right;\">\n",
       "      <th></th>\n",
       "      <th>Quantity</th>\n",
       "      <th>Discount</th>\n",
       "    </tr>\n",
       "  </thead>\n",
       "  <tbody>\n",
       "    <tr>\n",
       "      <th>0</th>\n",
       "      <td>12</td>\n",
       "      <td>0.0</td>\n",
       "    </tr>\n",
       "    <tr>\n",
       "      <th>1</th>\n",
       "      <td>10</td>\n",
       "      <td>0.0</td>\n",
       "    </tr>\n",
       "    <tr>\n",
       "      <th>2</th>\n",
       "      <td>5</td>\n",
       "      <td>0.0</td>\n",
       "    </tr>\n",
       "    <tr>\n",
       "      <th>3</th>\n",
       "      <td>9</td>\n",
       "      <td>0.0</td>\n",
       "    </tr>\n",
       "    <tr>\n",
       "      <th>4</th>\n",
       "      <td>40</td>\n",
       "      <td>0.0</td>\n",
       "    </tr>\n",
       "  </tbody>\n",
       "</table>\n",
       "</div>"
      ],
      "text/plain": [
       "   Quantity  Discount\n",
       "0        12       0.0\n",
       "1        10       0.0\n",
       "2         5       0.0\n",
       "3         9       0.0\n",
       "4        40       0.0"
      ]
     },
     "execution_count": 3,
     "metadata": {},
     "output_type": "execute_result"
    }
   ],
   "source": [
    "#SQL query selecting quantity ordered and discount\n",
    "x = \"\"\"SELECT Quantity, Discount\n",
    "       FROM OrderDetail\n",
    "       ;\"\"\"\n",
    "q1A = pd.read_sql_query(x, conn)\n",
    "q1A.head()"
   ]
  },
  {
   "cell_type": "code",
   "execution_count": 4,
   "metadata": {},
   "outputs": [
    {
     "data": {
      "text/html": [
       "<div>\n",
       "<style scoped>\n",
       "    .dataframe tbody tr th:only-of-type {\n",
       "        vertical-align: middle;\n",
       "    }\n",
       "\n",
       "    .dataframe tbody tr th {\n",
       "        vertical-align: top;\n",
       "    }\n",
       "\n",
       "    .dataframe thead th {\n",
       "        text-align: right;\n",
       "    }\n",
       "</style>\n",
       "<table border=\"1\" class=\"dataframe\">\n",
       "  <thead>\n",
       "    <tr style=\"text-align: right;\">\n",
       "      <th></th>\n",
       "      <th>Quantity</th>\n",
       "    </tr>\n",
       "    <tr>\n",
       "      <th>Discount</th>\n",
       "      <th></th>\n",
       "    </tr>\n",
       "  </thead>\n",
       "  <tbody>\n",
       "    <tr>\n",
       "      <th>0.00</th>\n",
       "      <td>21.715262</td>\n",
       "    </tr>\n",
       "    <tr>\n",
       "      <th>0.01</th>\n",
       "      <td>2.000000</td>\n",
       "    </tr>\n",
       "    <tr>\n",
       "      <th>0.02</th>\n",
       "      <td>2.000000</td>\n",
       "    </tr>\n",
       "    <tr>\n",
       "      <th>0.03</th>\n",
       "      <td>1.666667</td>\n",
       "    </tr>\n",
       "    <tr>\n",
       "      <th>0.04</th>\n",
       "      <td>1.000000</td>\n",
       "    </tr>\n",
       "    <tr>\n",
       "      <th>0.05</th>\n",
       "      <td>28.010811</td>\n",
       "    </tr>\n",
       "    <tr>\n",
       "      <th>0.06</th>\n",
       "      <td>2.000000</td>\n",
       "    </tr>\n",
       "    <tr>\n",
       "      <th>0.10</th>\n",
       "      <td>25.236994</td>\n",
       "    </tr>\n",
       "    <tr>\n",
       "      <th>0.15</th>\n",
       "      <td>28.382166</td>\n",
       "    </tr>\n",
       "    <tr>\n",
       "      <th>0.20</th>\n",
       "      <td>27.024845</td>\n",
       "    </tr>\n",
       "    <tr>\n",
       "      <th>0.25</th>\n",
       "      <td>28.240260</td>\n",
       "    </tr>\n",
       "  </tbody>\n",
       "</table>\n",
       "</div>"
      ],
      "text/plain": [
       "           Quantity\n",
       "Discount           \n",
       "0.00      21.715262\n",
       "0.01       2.000000\n",
       "0.02       2.000000\n",
       "0.03       1.666667\n",
       "0.04       1.000000\n",
       "0.05      28.010811\n",
       "0.06       2.000000\n",
       "0.10      25.236994\n",
       "0.15      28.382166\n",
       "0.20      27.024845\n",
       "0.25      28.240260"
      ]
     },
     "execution_count": 4,
     "metadata": {},
     "output_type": "execute_result"
    }
   ],
   "source": [
    "#grouping dataframe to show average quantity\n",
    "q1A.groupby('Discount').mean()"
   ]
  },
  {
   "cell_type": "markdown",
   "metadata": {},
   "source": [
    "The average quantity for each discount level is listed above. Before attempting the hypothesis test, we can already see discount levels of 0.05, and 0.10-0.25 see an increase in quantity ordered from no discount. Additionally, discount levels, 0.05, and 0.15-0.25 all fluctuate around 7 more units per order."
   ]
  },
  {
   "cell_type": "code",
   "execution_count": 5,
   "metadata": {},
   "outputs": [
    {
     "data": {
      "text/html": [
       "<div>\n",
       "<style scoped>\n",
       "    .dataframe tbody tr th:only-of-type {\n",
       "        vertical-align: middle;\n",
       "    }\n",
       "\n",
       "    .dataframe tbody tr th {\n",
       "        vertical-align: top;\n",
       "    }\n",
       "\n",
       "    .dataframe thead th {\n",
       "        text-align: right;\n",
       "    }\n",
       "</style>\n",
       "<table border=\"1\" class=\"dataframe\">\n",
       "  <thead>\n",
       "    <tr style=\"text-align: right;\">\n",
       "      <th></th>\n",
       "      <th>Quantity</th>\n",
       "      <th>Discount</th>\n",
       "      <th>is_Discount</th>\n",
       "    </tr>\n",
       "  </thead>\n",
       "  <tbody>\n",
       "    <tr>\n",
       "      <th>1241</th>\n",
       "      <td>36</td>\n",
       "      <td>0.00</td>\n",
       "      <td>False</td>\n",
       "    </tr>\n",
       "    <tr>\n",
       "      <th>1034</th>\n",
       "      <td>15</td>\n",
       "      <td>0.25</td>\n",
       "      <td>True</td>\n",
       "    </tr>\n",
       "    <tr>\n",
       "      <th>916</th>\n",
       "      <td>4</td>\n",
       "      <td>0.20</td>\n",
       "      <td>True</td>\n",
       "    </tr>\n",
       "    <tr>\n",
       "      <th>230</th>\n",
       "      <td>10</td>\n",
       "      <td>0.00</td>\n",
       "      <td>False</td>\n",
       "    </tr>\n",
       "    <tr>\n",
       "      <th>558</th>\n",
       "      <td>20</td>\n",
       "      <td>0.00</td>\n",
       "      <td>False</td>\n",
       "    </tr>\n",
       "    <tr>\n",
       "      <th>40</th>\n",
       "      <td>12</td>\n",
       "      <td>0.20</td>\n",
       "      <td>True</td>\n",
       "    </tr>\n",
       "    <tr>\n",
       "      <th>440</th>\n",
       "      <td>40</td>\n",
       "      <td>0.00</td>\n",
       "      <td>False</td>\n",
       "    </tr>\n",
       "    <tr>\n",
       "      <th>1143</th>\n",
       "      <td>9</td>\n",
       "      <td>0.00</td>\n",
       "      <td>False</td>\n",
       "    </tr>\n",
       "    <tr>\n",
       "      <th>921</th>\n",
       "      <td>65</td>\n",
       "      <td>0.25</td>\n",
       "      <td>True</td>\n",
       "    </tr>\n",
       "    <tr>\n",
       "      <th>887</th>\n",
       "      <td>10</td>\n",
       "      <td>0.00</td>\n",
       "      <td>False</td>\n",
       "    </tr>\n",
       "  </tbody>\n",
       "</table>\n",
       "</div>"
      ],
      "text/plain": [
       "      Quantity  Discount  is_Discount\n",
       "1241        36      0.00        False\n",
       "1034        15      0.25         True\n",
       "916          4      0.20         True\n",
       "230         10      0.00        False\n",
       "558         20      0.00        False\n",
       "40          12      0.20         True\n",
       "440         40      0.00        False\n",
       "1143         9      0.00        False\n",
       "921         65      0.25         True\n",
       "887         10      0.00        False"
      ]
     },
     "execution_count": 5,
     "metadata": {},
     "output_type": "execute_result"
    }
   ],
   "source": [
    "#for loop running through database and assign boolean value in new column if discount is applied on order\n",
    "for ind, x in enumerate(q1A.Discount):\n",
    "    if x == 0:\n",
    "        q1A.loc[ind, 'is_Discount'] = False\n",
    "    else:\n",
    "        q1A.loc[ind, 'is_Discount'] = True\n",
    "q1A.sample(10)"
   ]
  },
  {
   "cell_type": "markdown",
   "metadata": {},
   "source": [
    "I decided to run a type 2 ANOVA test as we are testing for main effect of A, then main effect B, but not main effect of both A and B. Afterwards, we run Tukey Post-HOC HSD test to find where difference lies."
   ]
  },
  {
   "cell_type": "code",
   "execution_count": 6,
   "metadata": {},
   "outputs": [
    {
     "data": {
      "text/html": [
       "<div>\n",
       "<style scoped>\n",
       "    .dataframe tbody tr th:only-of-type {\n",
       "        vertical-align: middle;\n",
       "    }\n",
       "\n",
       "    .dataframe tbody tr th {\n",
       "        vertical-align: top;\n",
       "    }\n",
       "\n",
       "    .dataframe thead th {\n",
       "        text-align: right;\n",
       "    }\n",
       "</style>\n",
       "<table border=\"1\" class=\"dataframe\">\n",
       "  <thead>\n",
       "    <tr style=\"text-align: right;\">\n",
       "      <th></th>\n",
       "      <th>sum_sq</th>\n",
       "      <th>df</th>\n",
       "      <th>F</th>\n",
       "      <th>PR(&gt;F)</th>\n",
       "    </tr>\n",
       "  </thead>\n",
       "  <tbody>\n",
       "    <tr>\n",
       "      <th>C(is_Discount)</th>\n",
       "      <td>14903.513199</td>\n",
       "      <td>1.0</td>\n",
       "      <td>41.971781</td>\n",
       "      <td>1.144092e-10</td>\n",
       "    </tr>\n",
       "    <tr>\n",
       "      <th>Residual</th>\n",
       "      <td>764496.122996</td>\n",
       "      <td>2153.0</td>\n",
       "      <td>NaN</td>\n",
       "      <td>NaN</td>\n",
       "    </tr>\n",
       "  </tbody>\n",
       "</table>\n",
       "</div>"
      ],
      "text/plain": [
       "                       sum_sq      df          F        PR(>F)\n",
       "C(is_Discount)   14903.513199     1.0  41.971781  1.144092e-10\n",
       "Residual        764496.122996  2153.0        NaN           NaN"
      ]
     },
     "metadata": {},
     "output_type": "display_data"
    },
    {
     "data": {
      "text/html": [
       "<table class=\"simpletable\">\n",
       "<caption>Multiple Comparison of Means - Tukey HSD,FWER=0.05</caption>\n",
       "<tr>\n",
       "  <th>group1</th> <th>group2</th> <th>meandiff</th>  <th>lower</th>  <th>upper</th> <th>reject</th>\n",
       "</tr>\n",
       "<tr>\n",
       "   <td>False</td>  <td>True</td>   <td>5.3945</td>  <td>3.7616</td> <td>7.0274</td>  <td>True</td> \n",
       "</tr>\n",
       "</table>"
      ],
      "text/plain": [
       "<class 'statsmodels.iolib.table.SimpleTable'>"
      ]
     },
     "metadata": {},
     "output_type": "display_data"
    }
   ],
   "source": [
    "#one-way ANOVA test\n",
    "f = 'Quantity ~ C(is_Discount)'\n",
    "lm = ols(f, q1A).fit()\n",
    "table = sm.stats.anova_lm(lm, typ=2)\n",
    "display(table)\n",
    "#conducting pairwise test\n",
    "tukey_results = pairwise_tukeyhsd(q1A['Quantity'], q1A['is_Discount'])\n",
    "display(tukey_results.summary())"
   ]
  },
  {
   "cell_type": "code",
   "execution_count": 7,
   "metadata": {},
   "outputs": [],
   "source": [
    "#defining function to calculate effect size, takes two arguments\n",
    "def cohens_d(data1, data2):\n",
    "    #difference in mean of two datasets\n",
    "    diff = data1.mean() - data2.mean()\n",
    "    #length of two datasets\n",
    "    len1, len2 = len(data1), len(data2)\n",
    "    #variances of two datasets\n",
    "    var1 = data1.var()\n",
    "    var2 = data2.var()\n",
    "    #calculate the pooled variance\n",
    "    pooled_var = (len1 * var1 + len2 * var2) / (len1 + len2)\n",
    "    #calculate Cohen's d\n",
    "    d = diff / np.sqrt(pooled_var)\n",
    "    return abs(d)"
   ]
  },
  {
   "cell_type": "code",
   "execution_count": 8,
   "metadata": {},
   "outputs": [
    {
     "name": "stdout",
     "output_type": "stream",
     "text": [
      "0.2862724481729282\n"
     ]
    }
   ],
   "source": [
    "#seperate original dataframe into two seperate dataframes to calculate effect size\n",
    "q1Anodis = q1A.loc[q1A['Discount'] == 0]\n",
    "q1Adis = q1A.loc[q1A['Discount'] != 0]\n",
    "print(cohens_d(q1Anodis['Quantity'], q1Adis['Quantity']))"
   ]
  },
  {
   "cell_type": "markdown",
   "metadata": {},
   "source": [
    "We see that we may reject our null hypothesis that there is no significant difference in quantity ordered due to discount being applied to the order. From our Tukey test, we can conclude that there is a difference of 5.39 more units for the group with discounts applied than the group without discounts. Our effect size is also at 0.29, letting us know the difference in mean is not trivial. Therefore, quantity is in fact increased when a discount is applied."
   ]
  },
  {
   "cell_type": "code",
   "execution_count": 9,
   "metadata": {},
   "outputs": [
    {
     "data": {
      "image/png": "[encoded data removed]",
      "text/plain": [
       "<Figure size 720x432 with 1 Axes>"
      ]
     },
     "metadata": {
      "needs_background": "light"
     },
     "output_type": "display_data"
    }
   ],
   "source": [
    "#plot density plot of two dataframes\n",
    "#set fig size\n",
    "plt.figure(figsize=(10,6))\n",
    "#seaborn distribution plot with arguments\n",
    "sns.distplot(q1Anodis['Quantity'], hist=True, kde=True, \n",
    "             bins=int(20), color = 'green', \n",
    "             hist_kws={'edgecolor':'black'},\n",
    "             kde_kws={'linewidth': 1, 'label': 'No Discount'})\n",
    "#seaborn distribution plot with arguments\n",
    "sns.distplot(q1Adis['Quantity'], hist=True, kde=True, \n",
    "             bins=int(20), color = 'maroon', \n",
    "             hist_kws={'edgecolor':'black'},\n",
    "             kde_kws={'linewidth': 1, 'label': 'Discount'})\n",
    "#set both mean lines\n",
    "plt.axvline(x=q1Anodis['Quantity'].mean(), color='green', linestyle='--')\n",
    "plt.axvline(x=q1Adis['Quantity'].mean(), color='maroon', linestyle='-')\n",
    "#save figure as png\n",
    "plt.savefig('DiscountDensity.png')"
   ]
  },
  {
   "cell_type": "code",
   "execution_count": 10,
   "metadata": {},
   "outputs": [
    {
     "data": {
      "text/plain": [
       "0.00    1317\n",
       "0.05     185\n",
       "0.10     173\n",
       "0.20     161\n",
       "0.15     157\n",
       "0.25     154\n",
       "0.03       3\n",
       "0.02       2\n",
       "0.01       1\n",
       "0.04       1\n",
       "0.06       1\n",
       "Name: Discount, dtype: int64"
      ]
     },
     "execution_count": 10,
     "metadata": {},
     "output_type": "execute_result"
    }
   ],
   "source": [
    "q1A.Discount.value_counts()"
   ]
  },
  {
   "cell_type": "markdown",
   "metadata": {},
   "source": [
    "It is apparent that discount levels from 0.01-0.06, excluding 0.05, are rarely offered by employees. Therefore, we will group the discount levels that are 0.06 or less. Then, to conduct the one-way ANOVA test, we assign boolean values in new columns if discount applied on order is equal to that value."
   ]
  },
  {
   "cell_type": "code",
   "execution_count": 11,
   "metadata": {},
   "outputs": [
    {
     "data": {
      "text/plain": [
       "20     98\n",
       "30     72\n",
       "15     69\n",
       "40     53\n",
       "10     51\n",
       "25     36\n",
       "50     35\n",
       "12     35\n",
       "35     29\n",
       "60     28\n",
       "6      25\n",
       "18     23\n",
       "24     22\n",
       "2      22\n",
       "8      21\n",
       "21     20\n",
       "70     18\n",
       "4      16\n",
       "5      14\n",
       "16     14\n",
       "36     12\n",
       "3      12\n",
       "42     11\n",
       "28     11\n",
       "80     10\n",
       "14      8\n",
       "9       8\n",
       "7       6\n",
       "100     6\n",
       "55      5\n",
       "65      5\n",
       "45      5\n",
       "120     5\n",
       "1       4\n",
       "49      4\n",
       "90      3\n",
       "11      2\n",
       "32      2\n",
       "13      2\n",
       "27      2\n",
       "44      2\n",
       "48      2\n",
       "56      2\n",
       "77      2\n",
       "84      2\n",
       "33      1\n",
       "54      1\n",
       "66      1\n",
       "130     1\n",
       "Name: Quantity, dtype: int64"
      ]
     },
     "metadata": {},
     "output_type": "display_data"
    },
    {
     "data": {
      "text/plain": [
       "count    838.000000\n",
       "mean      27.109785\n",
       "std       20.771439\n",
       "min        1.000000\n",
       "25%       12.000000\n",
       "50%       20.000000\n",
       "75%       36.000000\n",
       "max      130.000000\n",
       "Name: Quantity, dtype: float64"
      ]
     },
     "execution_count": 11,
     "metadata": {},
     "output_type": "execute_result"
    }
   ],
   "source": [
    "#drop all rows that don't have a discount\n",
    "q1B = q1A.loc[q1A['Discount'] != 0]\n",
    "q1B = q1B.reset_index(drop=True)\n",
    "\n",
    "#for loop creating new columns with False entries\n",
    "newc = ['Discountlow', 'Discount10', 'Discount15', 'Discount20', 'Discount25']\n",
    "for x in newc:\n",
    "    q1B[x] = False\n",
    "\n",
    "#for loop running through database and assign boolean value in new column if discount is applied on order\n",
    "for idx, x in enumerate(q1B.Discount):\n",
    "    if 0 < x <= 0.06:\n",
    "        q1B.loc[idx, 'Discountlow'] = True\n",
    "    elif x == 0.10:\n",
    "        q1B.loc[idx, 'Discount10'] = True\n",
    "    elif x == 0.15:\n",
    "        q1B.loc[idx, 'Discount15'] = True\n",
    "    elif x == 0.20:\n",
    "        q1B.loc[idx, 'Discount20'] = True\n",
    "    elif x == 0.25:\n",
    "        q1B.loc[idx, 'Discount25'] = True\n",
    "#see value counts and basic statistics to determine if there are outliers i Quantity\n",
    "display(q1B.Quantity.value_counts())\n",
    "q1B.Quantity.describe()"
   ]
  },
  {
   "cell_type": "markdown",
   "metadata": {},
   "source": [
    "I will eliminate outliers in quantity by dropping all orders with less than 3 units in the order."
   ]
  },
  {
   "cell_type": "code",
   "execution_count": 12,
   "metadata": {},
   "outputs": [
    {
     "data": {
      "text/html": [
       "<div>\n",
       "<style scoped>\n",
       "    .dataframe tbody tr th:only-of-type {\n",
       "        vertical-align: middle;\n",
       "    }\n",
       "\n",
       "    .dataframe tbody tr th {\n",
       "        vertical-align: top;\n",
       "    }\n",
       "\n",
       "    .dataframe thead th {\n",
       "        text-align: right;\n",
       "    }\n",
       "</style>\n",
       "<table border=\"1\" class=\"dataframe\">\n",
       "  <thead>\n",
       "    <tr style=\"text-align: right;\">\n",
       "      <th></th>\n",
       "      <th>Quantity</th>\n",
       "      <th>Discount</th>\n",
       "      <th>is_Discount</th>\n",
       "      <th>Discountlow</th>\n",
       "      <th>Discount10</th>\n",
       "      <th>Discount15</th>\n",
       "      <th>Discount20</th>\n",
       "      <th>Discount25</th>\n",
       "      <th>Count</th>\n",
       "    </tr>\n",
       "  </thead>\n",
       "  <tbody>\n",
       "    <tr>\n",
       "      <th>0</th>\n",
       "      <td>35</td>\n",
       "      <td>0.15</td>\n",
       "      <td>True</td>\n",
       "      <td>False</td>\n",
       "      <td>False</td>\n",
       "      <td>True</td>\n",
       "      <td>False</td>\n",
       "      <td>False</td>\n",
       "      <td>29</td>\n",
       "    </tr>\n",
       "    <tr>\n",
       "      <th>1</th>\n",
       "      <td>15</td>\n",
       "      <td>0.15</td>\n",
       "      <td>True</td>\n",
       "      <td>False</td>\n",
       "      <td>False</td>\n",
       "      <td>True</td>\n",
       "      <td>False</td>\n",
       "      <td>False</td>\n",
       "      <td>69</td>\n",
       "    </tr>\n",
       "    <tr>\n",
       "      <th>2</th>\n",
       "      <td>6</td>\n",
       "      <td>0.05</td>\n",
       "      <td>True</td>\n",
       "      <td>True</td>\n",
       "      <td>False</td>\n",
       "      <td>False</td>\n",
       "      <td>False</td>\n",
       "      <td>False</td>\n",
       "      <td>25</td>\n",
       "    </tr>\n",
       "    <tr>\n",
       "      <th>3</th>\n",
       "      <td>15</td>\n",
       "      <td>0.05</td>\n",
       "      <td>True</td>\n",
       "      <td>True</td>\n",
       "      <td>False</td>\n",
       "      <td>False</td>\n",
       "      <td>False</td>\n",
       "      <td>False</td>\n",
       "      <td>69</td>\n",
       "    </tr>\n",
       "    <tr>\n",
       "      <th>4</th>\n",
       "      <td>40</td>\n",
       "      <td>0.05</td>\n",
       "      <td>True</td>\n",
       "      <td>True</td>\n",
       "      <td>False</td>\n",
       "      <td>False</td>\n",
       "      <td>False</td>\n",
       "      <td>False</td>\n",
       "      <td>53</td>\n",
       "    </tr>\n",
       "  </tbody>\n",
       "</table>\n",
       "</div>"
      ],
      "text/plain": [
       "   Quantity  Discount  is_Discount  Discountlow  Discount10  Discount15  \\\n",
       "0        35      0.15         True        False       False        True   \n",
       "1        15      0.15         True        False       False        True   \n",
       "2         6      0.05         True         True       False       False   \n",
       "3        15      0.05         True         True       False       False   \n",
       "4        40      0.05         True         True       False       False   \n",
       "\n",
       "   Discount20  Discount25  Count  \n",
       "0       False       False     29  \n",
       "1       False       False     69  \n",
       "2       False       False     25  \n",
       "3       False       False     69  \n",
       "4       False       False     53  "
      ]
     },
     "execution_count": 12,
     "metadata": {},
     "output_type": "execute_result"
    }
   ],
   "source": [
    "#map count of each unique Quantity to each row\n",
    "z = q1B['Quantity'].value_counts()\n",
    "z1 = z.to_dict()\n",
    "q1B['Count'] = q1B['Quantity'].map(z1)\n",
    "#for loop going through count column and dropping any rows\n",
    "#that have count less than 4 except for quantity 1 to get rid of outliers\n",
    "for idx, x in enumerate(q1B.Count):\n",
    "    if x < 4:\n",
    "        if q1B.Quantity[idx] == 1:\n",
    "            pass\n",
    "        else:\n",
    "            q1B.drop(index = idx, axis = 0, inplace=True)\n",
    "q1B = q1B.reset_index(drop=True)\n",
    "q1B.head()"
   ]
  },
  {
   "cell_type": "markdown",
   "metadata": {},
   "source": [
    "### At what level(s) of discount is there a statistically significant difference in quantity ordered?\n",
    "\n",
    "$H_0$ (for each level): there is no significant difference in quantity ordered due to that specific discount level  \n",
    "$H_\\alpha$ (for each level): there is a significant difference in order quantity due to that specific discount level"
   ]
  },
  {
   "cell_type": "code",
   "execution_count": 13,
   "metadata": {},
   "outputs": [
    {
     "data": {
      "text/html": [
       "<div>\n",
       "<style scoped>\n",
       "    .dataframe tbody tr th:only-of-type {\n",
       "        vertical-align: middle;\n",
       "    }\n",
       "\n",
       "    .dataframe tbody tr th {\n",
       "        vertical-align: top;\n",
       "    }\n",
       "\n",
       "    .dataframe thead th {\n",
       "        text-align: right;\n",
       "    }\n",
       "</style>\n",
       "<table border=\"1\" class=\"dataframe\">\n",
       "  <thead>\n",
       "    <tr style=\"text-align: right;\">\n",
       "      <th></th>\n",
       "      <th>sum_sq</th>\n",
       "      <th>df</th>\n",
       "      <th>F</th>\n",
       "      <th>PR(&gt;F)</th>\n",
       "    </tr>\n",
       "  </thead>\n",
       "  <tbody>\n",
       "    <tr>\n",
       "      <th>C(Discountlow)</th>\n",
       "      <td>3859.920738</td>\n",
       "      <td>1.0</td>\n",
       "      <td>9.776806</td>\n",
       "      <td>0.001831</td>\n",
       "    </tr>\n",
       "    <tr>\n",
       "      <th>C(Discount10)</th>\n",
       "      <td>1048.339618</td>\n",
       "      <td>1.0</td>\n",
       "      <td>2.655343</td>\n",
       "      <td>0.103592</td>\n",
       "    </tr>\n",
       "    <tr>\n",
       "      <th>C(Discount15)</th>\n",
       "      <td>4808.926912</td>\n",
       "      <td>1.0</td>\n",
       "      <td>12.180547</td>\n",
       "      <td>0.000509</td>\n",
       "    </tr>\n",
       "    <tr>\n",
       "      <th>C(Discount20)</th>\n",
       "      <td>3710.582189</td>\n",
       "      <td>1.0</td>\n",
       "      <td>9.398546</td>\n",
       "      <td>0.002244</td>\n",
       "    </tr>\n",
       "    <tr>\n",
       "      <th>C(Discount25)</th>\n",
       "      <td>7210.642740</td>\n",
       "      <td>1.0</td>\n",
       "      <td>18.263861</td>\n",
       "      <td>0.000022</td>\n",
       "    </tr>\n",
       "    <tr>\n",
       "      <th>Residual</th>\n",
       "      <td>319001.510225</td>\n",
       "      <td>808.0</td>\n",
       "      <td>NaN</td>\n",
       "      <td>NaN</td>\n",
       "    </tr>\n",
       "  </tbody>\n",
       "</table>\n",
       "</div>"
      ],
      "text/plain": [
       "                       sum_sq     df          F    PR(>F)\n",
       "C(Discountlow)    3859.920738    1.0   9.776806  0.001831\n",
       "C(Discount10)     1048.339618    1.0   2.655343  0.103592\n",
       "C(Discount15)     4808.926912    1.0  12.180547  0.000509\n",
       "C(Discount20)     3710.582189    1.0   9.398546  0.002244\n",
       "C(Discount25)     7210.642740    1.0  18.263861  0.000022\n",
       "Residual        319001.510225  808.0        NaN       NaN"
      ]
     },
     "metadata": {},
     "output_type": "display_data"
    }
   ],
   "source": [
    "#one-way ANOVA test\n",
    "f = 'Quantity ~ C(Discountlow) + C(Discount10) + C(Discount15) + C(Discount20) + C(Discount25)'\n",
    "lm = ols(f, q1B).fit()\n",
    "table = sm.stats.anova_lm(lm, typ=2)\n",
    "display(table)"
   ]
  },
  {
   "cell_type": "code",
   "execution_count": 14,
   "metadata": {},
   "outputs": [
    {
     "data": {
      "text/html": [
       "<table class=\"simpletable\">\n",
       "<caption>Multiple Comparison of Means - Tukey HSD,FWER=0.05</caption>\n",
       "<tr>\n",
       "  <th>group1</th> <th>group2</th> <th>meandiff</th>  <th>lower</th>   <th>upper</th>  <th>reject</th>\n",
       "</tr>\n",
       "<tr>\n",
       "    <td>0.0</td>   <td>0.05</td>    <td>5.207</td>  <td>1.0635</td>  <td>9.3506</td>   <td>True</td> \n",
       "</tr>\n",
       "<tr>\n",
       "    <td>0.0</td>    <td>0.1</td>   <td>3.5217</td>  <td>-0.8257</td> <td>7.8692</td>   <td>False</td>\n",
       "</tr>\n",
       "<tr>\n",
       "    <td>0.0</td>   <td>0.15</td>   <td>6.6669</td>  <td>2.1279</td>  <td>11.2059</td>  <td>True</td> \n",
       "</tr>\n",
       "<tr>\n",
       "    <td>0.0</td>    <td>0.2</td>   <td>5.3096</td>  <td>0.8212</td>  <td>9.7979</td>   <td>True</td> \n",
       "</tr>\n",
       "<tr>\n",
       "    <td>0.0</td>   <td>0.25</td>    <td>6.525</td>  <td>1.9467</td>  <td>11.1033</td>  <td>True</td> \n",
       "</tr>\n",
       "<tr>\n",
       "   <td>0.05</td>    <td>0.1</td>   <td>-1.6853</td> <td>-7.3138</td> <td>3.9432</td>   <td>False</td>\n",
       "</tr>\n",
       "<tr>\n",
       "   <td>0.05</td>   <td>0.15</td>   <td>1.4599</td>  <td>-4.3179</td> <td>7.2377</td>   <td>False</td>\n",
       "</tr>\n",
       "<tr>\n",
       "   <td>0.05</td>    <td>0.2</td>   <td>0.1026</td>  <td>-5.6355</td> <td>5.8406</td>   <td>False</td>\n",
       "</tr>\n",
       "<tr>\n",
       "   <td>0.05</td>   <td>0.25</td>    <td>1.318</td>  <td>-4.4907</td> <td>7.1267</td>   <td>False</td>\n",
       "</tr>\n",
       "<tr>\n",
       "    <td>0.1</td>   <td>0.15</td>   <td>3.1452</td>  <td>-2.7805</td> <td>9.0709</td>   <td>False</td>\n",
       "</tr>\n",
       "<tr>\n",
       "    <td>0.1</td>    <td>0.2</td>   <td>1.7879</td>  <td>-4.0991</td> <td>7.6748</td>   <td>False</td>\n",
       "</tr>\n",
       "<tr>\n",
       "    <td>0.1</td>   <td>0.25</td>   <td>3.0033</td>  <td>-2.9526</td> <td>8.9591</td>   <td>False</td>\n",
       "</tr>\n",
       "<tr>\n",
       "   <td>0.15</td>    <td>0.2</td>   <td>-1.3573</td> <td>-7.3872</td> <td>4.6725</td>   <td>False</td>\n",
       "</tr>\n",
       "<tr>\n",
       "   <td>0.15</td>   <td>0.25</td>   <td>-0.1419</td> <td>-6.239</td>  <td>5.9552</td>   <td>False</td>\n",
       "</tr>\n",
       "<tr>\n",
       "    <td>0.2</td>   <td>0.25</td>   <td>1.2154</td>  <td>-4.8441</td> <td>7.2749</td>   <td>False</td>\n",
       "</tr>\n",
       "</table>"
      ],
      "text/plain": [
       "<class 'statsmodels.iolib.table.SimpleTable'>"
      ]
     },
     "metadata": {},
     "output_type": "display_data"
    },
    {
     "data": {
      "image/png": "[encoded data removed]",
      "text/plain": [
       "<Figure size 720x432 with 1 Axes>"
      ]
     },
     "metadata": {
      "needs_background": "light"
     },
     "output_type": "display_data"
    }
   ],
   "source": [
    "#for loop on original dataframe making all low discount levels equal to 0.05 to perform tukey test\n",
    "for idx, x in enumerate(q1A.Discount):\n",
    "    if 0.00 < x <= 0.06:\n",
    "        q1A.loc[idx, 'Discount'] = 0.05\n",
    "    else:\n",
    "        pass\n",
    "#conduct pairwise tukey test\n",
    "tukey_results = pairwise_tukeyhsd(q1A['Quantity'], q1A['Discount'])\n",
    "display(tukey_results.summary())\n",
    "tukey_results.plot_simultaneous().show()"
   ]
  },
  {
   "cell_type": "code",
   "execution_count": 15,
   "metadata": {},
   "outputs": [
    {
     "name": "stdout",
     "output_type": "stream",
     "text": [
      "Quantity    0.286135\n",
      "dtype: float64\n",
      "Quantity    0.372404\n",
      "dtype: float64\n",
      "Quantity    0.300712\n",
      "dtype: float64\n",
      "Quantity    0.366593\n",
      "dtype: float64\n"
     ]
    }
   ],
   "source": [
    "#make new seperate dataframes to calculate Cohen's d statistic\n",
    "q1A0 = q1A.loc[q1A['Discount'] == 0]\n",
    "q1A5 = q1A.loc[q1A['Discount'] == 0.05]\n",
    "q1A10 = q1A.loc[q1A['Discount'] == 0.10]\n",
    "q1A15 = q1A.loc[q1A['Discount'] == 0.15]\n",
    "q1A20 = q1A.loc[q1A['Discount'] == 0.20]\n",
    "q1A25 = q1A.loc[q1A['Discount'] == 0.25]\n",
    "#for loop to drop columns\n",
    "for x in [q1A0, q1A5, q1A10, q1A15, q1A20, q1A25]:\n",
    "    x.drop(['is_Discount'], axis=1, inplace = True)\n",
    "    x.drop(['Discount'], axis=1, inplace = True)\n",
    "#for loop to print Cohen's d statistic\n",
    "for x in [q1A5, q1A15, q1A20, q1A25]:\n",
    "    print(cohens_d(q1A0, x))"
   ]
  },
  {
   "cell_type": "code",
   "execution_count": 16,
   "metadata": {},
   "outputs": [
    {
     "data": {
      "image/png": "[encoded data removed]",
      "text/plain": [
       "<Figure size 720x432 with 1 Axes>"
      ]
     },
     "metadata": {
      "needs_background": "light"
     },
     "output_type": "display_data"
    }
   ],
   "source": [
    "#set fig size\n",
    "plt.figure(figsize=(10,6))\n",
    "#seaborn distribution plot with arguments\n",
    "sns.distplot(q1A0['Quantity'], hist=True, kde=True, \n",
    "             bins=int(20), color = 'blue', \n",
    "             hist_kws={'edgecolor':'black'},\n",
    "             kde_kws={'linewidth': 1, 'label': 'No Discount'})\n",
    "#seaborn distribution plot with arguments\n",
    "sns.distplot(q1A15['Quantity'], hist=True, kde=True, \n",
    "             bins=int(20), color = 'red', \n",
    "             hist_kws={'edgecolor':'black'},\n",
    "             kde_kws={'linewidth': 1, 'label': '15% Discount'})\n",
    "#plot both mean lines\n",
    "plt.axvline(x=q1A0['Quantity'].mean(), color='blue', linestyle='--')\n",
    "plt.axvline(x=q1A15['Quantity'].mean(), color='red', linestyle='-')\n",
    "#save fig as png\n",
    "plt.savefig('15DiscountDensity.png')"
   ]
  },
  {
   "cell_type": "markdown",
   "metadata": {},
   "source": [
    "We see that we may reject our null hypothesis that there is no significant difference in quantity ordered due to these specific discount being applied to the order except for discount level 10%. From our Tukey test, we can conclude that the means of groups with discount levels 0.05, 0.15, 0.20 and 0.25 differ from the mean of the group without discounts, except for the 10% level.\n",
    "\n",
    "Let's take a look at our difference in mean and effect size of our significant levels of discount:  \n",
    "1%-6% - difference in mean: 5.21, effect size: 0.29  \n",
    "15% - difference in mean: 6.67, effect size: 0.37  \n",
    "20% - difference in mean: 5.31, effect size: 0.30  \n",
    "25% - difference in mean: 6.53, effect size: 0.37\n",
    "      \n",
    "Most of our difference in means and effect sizes are relatively the same. We also see that 15% discount has the largest difference in mean and largest effect size. Therefore, I would suggest not offer discount levels above 15%."
   ]
  },
  {
   "cell_type": "markdown",
   "metadata": {},
   "source": [
    "## Question 2\n",
    "### Is there a statistically significant difference in the level(s) of discount offered by UK employees and USA employees?\n",
    "\n",
    "$H_0$: there is no significant difference in level(s) of discount offered by the two countries  \n",
    "$H_\\alpha$: there is a significant difference in level(s) of discount offered by the two countries"
   ]
  },
  {
   "cell_type": "code",
   "execution_count": 17,
   "metadata": {},
   "outputs": [
    {
     "data": {
      "text/html": [
       "<div>\n",
       "<style scoped>\n",
       "    .dataframe tbody tr th:only-of-type {\n",
       "        vertical-align: middle;\n",
       "    }\n",
       "\n",
       "    .dataframe tbody tr th {\n",
       "        vertical-align: top;\n",
       "    }\n",
       "\n",
       "    .dataframe thead th {\n",
       "        text-align: right;\n",
       "    }\n",
       "</style>\n",
       "<table border=\"1\" class=\"dataframe\">\n",
       "  <thead>\n",
       "    <tr style=\"text-align: right;\">\n",
       "      <th></th>\n",
       "      <th>Quantity</th>\n",
       "      <th>Discount</th>\n",
       "      <th>Country</th>\n",
       "    </tr>\n",
       "  </thead>\n",
       "  <tbody>\n",
       "    <tr>\n",
       "      <th>0</th>\n",
       "      <td>12</td>\n",
       "      <td>0.0</td>\n",
       "      <td>UK</td>\n",
       "    </tr>\n",
       "    <tr>\n",
       "      <th>1</th>\n",
       "      <td>10</td>\n",
       "      <td>0.0</td>\n",
       "      <td>UK</td>\n",
       "    </tr>\n",
       "    <tr>\n",
       "      <th>2</th>\n",
       "      <td>5</td>\n",
       "      <td>0.0</td>\n",
       "      <td>UK</td>\n",
       "    </tr>\n",
       "    <tr>\n",
       "      <th>3</th>\n",
       "      <td>9</td>\n",
       "      <td>0.0</td>\n",
       "      <td>UK</td>\n",
       "    </tr>\n",
       "    <tr>\n",
       "      <th>4</th>\n",
       "      <td>40</td>\n",
       "      <td>0.0</td>\n",
       "      <td>UK</td>\n",
       "    </tr>\n",
       "  </tbody>\n",
       "</table>\n",
       "</div>"
      ],
      "text/plain": [
       "   Quantity  Discount Country\n",
       "0        12       0.0      UK\n",
       "1        10       0.0      UK\n",
       "2         5       0.0      UK\n",
       "3         9       0.0      UK\n",
       "4        40       0.0      UK"
      ]
     },
     "execution_count": 17,
     "metadata": {},
     "output_type": "execute_result"
    }
   ],
   "source": [
    "#SQL query selecting quantity ordered and discount\n",
    "x = \"\"\"SELECT od.Quantity, od.Discount, e.Country\n",
    "       FROM OrderDetail AS od\n",
    "       JOIN [Order] ON od.OrderId = [Order].Id\n",
    "       JOIN Employee AS e ON [Order].EmployeeId = e.Id\n",
    "       ;\"\"\"\n",
    "q2 = pd.read_sql_query(x, conn)\n",
    "q2.head()"
   ]
  },
  {
   "cell_type": "code",
   "execution_count": 18,
   "metadata": {},
   "outputs": [
    {
     "data": {
      "text/html": [
       "<div>\n",
       "<style scoped>\n",
       "    .dataframe tbody tr th:only-of-type {\n",
       "        vertical-align: middle;\n",
       "    }\n",
       "\n",
       "    .dataframe tbody tr th {\n",
       "        vertical-align: top;\n",
       "    }\n",
       "\n",
       "    .dataframe thead th {\n",
       "        text-align: right;\n",
       "    }\n",
       "</style>\n",
       "<table border=\"1\" class=\"dataframe\">\n",
       "  <thead>\n",
       "    <tr style=\"text-align: right;\">\n",
       "      <th></th>\n",
       "      <th>Quantity</th>\n",
       "      <th>Discount</th>\n",
       "    </tr>\n",
       "    <tr>\n",
       "      <th>Country</th>\n",
       "      <th></th>\n",
       "      <th></th>\n",
       "    </tr>\n",
       "  </thead>\n",
       "  <tbody>\n",
       "    <tr>\n",
       "      <th>UK</th>\n",
       "      <td>24.448944</td>\n",
       "      <td>0.065493</td>\n",
       "    </tr>\n",
       "    <tr>\n",
       "      <th>USA</th>\n",
       "      <td>23.585381</td>\n",
       "      <td>0.052829</td>\n",
       "    </tr>\n",
       "  </tbody>\n",
       "</table>\n",
       "</div>"
      ],
      "text/plain": [
       "          Quantity  Discount\n",
       "Country                     \n",
       "UK       24.448944  0.065493\n",
       "USA      23.585381  0.052829"
      ]
     },
     "execution_count": 18,
     "metadata": {},
     "output_type": "execute_result"
    }
   ],
   "source": [
    "#groupby function to see average values by Country\n",
    "q2.groupby('Country').mean()"
   ]
  },
  {
   "cell_type": "markdown",
   "metadata": {},
   "source": [
    "On average, both UK and USA employees sell similar quantities per order of about 24 units. The discounts offered both average around 0.05-0.06 as well."
   ]
  },
  {
   "cell_type": "code",
   "execution_count": 19,
   "metadata": {},
   "outputs": [
    {
     "data": {
      "text/html": [
       "<div>\n",
       "<style scoped>\n",
       "    .dataframe tbody tr th:only-of-type {\n",
       "        vertical-align: middle;\n",
       "    }\n",
       "\n",
       "    .dataframe tbody tr th {\n",
       "        vertical-align: top;\n",
       "    }\n",
       "\n",
       "    .dataframe thead th {\n",
       "        text-align: right;\n",
       "    }\n",
       "</style>\n",
       "<table border=\"1\" class=\"dataframe\">\n",
       "  <thead>\n",
       "    <tr style=\"text-align: right;\">\n",
       "      <th>Discount</th>\n",
       "      <th>0.0</th>\n",
       "      <th>0.01</th>\n",
       "      <th>0.02</th>\n",
       "      <th>0.03</th>\n",
       "      <th>0.04</th>\n",
       "      <th>0.05</th>\n",
       "      <th>0.06</th>\n",
       "      <th>0.1</th>\n",
       "      <th>0.15</th>\n",
       "      <th>0.2</th>\n",
       "      <th>0.25</th>\n",
       "      <th>All</th>\n",
       "    </tr>\n",
       "    <tr>\n",
       "      <th>Country</th>\n",
       "      <th></th>\n",
       "      <th></th>\n",
       "      <th></th>\n",
       "      <th></th>\n",
       "      <th></th>\n",
       "      <th></th>\n",
       "      <th></th>\n",
       "      <th></th>\n",
       "      <th></th>\n",
       "      <th></th>\n",
       "      <th></th>\n",
       "      <th></th>\n",
       "    </tr>\n",
       "  </thead>\n",
       "  <tbody>\n",
       "    <tr>\n",
       "      <th>UK</th>\n",
       "      <td>309</td>\n",
       "      <td>0</td>\n",
       "      <td>0</td>\n",
       "      <td>0</td>\n",
       "      <td>0</td>\n",
       "      <td>55</td>\n",
       "      <td>0</td>\n",
       "      <td>60</td>\n",
       "      <td>53</td>\n",
       "      <td>45</td>\n",
       "      <td>46</td>\n",
       "      <td>568</td>\n",
       "    </tr>\n",
       "    <tr>\n",
       "      <th>USA</th>\n",
       "      <td>1008</td>\n",
       "      <td>1</td>\n",
       "      <td>2</td>\n",
       "      <td>3</td>\n",
       "      <td>1</td>\n",
       "      <td>130</td>\n",
       "      <td>1</td>\n",
       "      <td>113</td>\n",
       "      <td>104</td>\n",
       "      <td>116</td>\n",
       "      <td>108</td>\n",
       "      <td>1587</td>\n",
       "    </tr>\n",
       "    <tr>\n",
       "      <th>All</th>\n",
       "      <td>1317</td>\n",
       "      <td>1</td>\n",
       "      <td>2</td>\n",
       "      <td>3</td>\n",
       "      <td>1</td>\n",
       "      <td>185</td>\n",
       "      <td>1</td>\n",
       "      <td>173</td>\n",
       "      <td>157</td>\n",
       "      <td>161</td>\n",
       "      <td>154</td>\n",
       "      <td>2155</td>\n",
       "    </tr>\n",
       "  </tbody>\n",
       "</table>\n",
       "</div>"
      ],
      "text/plain": [
       "Discount   0.0  0.01  0.02  0.03  0.04  0.05  0.06  0.1  0.15  0.2  0.25   All\n",
       "Country                                                                       \n",
       "UK         309     0     0     0     0    55     0   60    53   45    46   568\n",
       "USA       1008     1     2     3     1   130     1  113   104  116   108  1587\n",
       "All       1317     1     2     3     1   185     1  173   157  161   154  2155"
      ]
     },
     "execution_count": 19,
     "metadata": {},
     "output_type": "execute_result"
    }
   ],
   "source": [
    "#create Quantity pivot table\n",
    "q2A = q2.drop('Quantity', axis = 1).pivot_table(index='Country', columns='Discount', aggfunc=len, fill_value=0, margins=True)\n",
    "q2A"
   ]
  },
  {
   "cell_type": "code",
   "execution_count": 20,
   "metadata": {},
   "outputs": [
    {
     "data": {
      "text/html": [
       "<div>\n",
       "<style scoped>\n",
       "    .dataframe tbody tr th:only-of-type {\n",
       "        vertical-align: middle;\n",
       "    }\n",
       "\n",
       "    .dataframe tbody tr th {\n",
       "        vertical-align: top;\n",
       "    }\n",
       "\n",
       "    .dataframe thead th {\n",
       "        text-align: right;\n",
       "    }\n",
       "</style>\n",
       "<table border=\"1\" class=\"dataframe\">\n",
       "  <thead>\n",
       "    <tr style=\"text-align: right;\">\n",
       "      <th>Discount</th>\n",
       "      <th>0.0</th>\n",
       "      <th>0.01</th>\n",
       "      <th>0.02</th>\n",
       "      <th>0.03</th>\n",
       "      <th>0.04</th>\n",
       "      <th>0.05</th>\n",
       "      <th>0.06</th>\n",
       "      <th>0.1</th>\n",
       "      <th>0.15</th>\n",
       "      <th>0.2</th>\n",
       "      <th>0.25</th>\n",
       "    </tr>\n",
       "    <tr>\n",
       "      <th>Country</th>\n",
       "      <th></th>\n",
       "      <th></th>\n",
       "      <th></th>\n",
       "      <th></th>\n",
       "      <th></th>\n",
       "      <th></th>\n",
       "      <th></th>\n",
       "      <th></th>\n",
       "      <th></th>\n",
       "      <th></th>\n",
       "      <th></th>\n",
       "    </tr>\n",
       "  </thead>\n",
       "  <tbody>\n",
       "    <tr>\n",
       "      <th>UK</th>\n",
       "      <td>54.40</td>\n",
       "      <td>0.00</td>\n",
       "      <td>0.00</td>\n",
       "      <td>0.00</td>\n",
       "      <td>0.00</td>\n",
       "      <td>9.68</td>\n",
       "      <td>0.00</td>\n",
       "      <td>10.56</td>\n",
       "      <td>9.33</td>\n",
       "      <td>7.92</td>\n",
       "      <td>8.10</td>\n",
       "    </tr>\n",
       "    <tr>\n",
       "      <th>USA</th>\n",
       "      <td>63.52</td>\n",
       "      <td>0.06</td>\n",
       "      <td>0.13</td>\n",
       "      <td>0.19</td>\n",
       "      <td>0.06</td>\n",
       "      <td>8.19</td>\n",
       "      <td>0.06</td>\n",
       "      <td>7.12</td>\n",
       "      <td>6.55</td>\n",
       "      <td>7.31</td>\n",
       "      <td>6.81</td>\n",
       "    </tr>\n",
       "  </tbody>\n",
       "</table>\n",
       "</div>"
      ],
      "text/plain": [
       "Discount   0.00  0.01  0.02  0.03  0.04  0.05  0.06   0.10  0.15  0.20  0.25\n",
       "Country                                                                     \n",
       "UK        54.40  0.00  0.00  0.00  0.00  9.68  0.00  10.56  9.33  7.92  8.10\n",
       "USA       63.52  0.06  0.13  0.19  0.06  8.19  0.06   7.12  6.55  7.31  6.81"
      ]
     },
     "execution_count": 20,
     "metadata": {},
     "output_type": "execute_result"
    }
   ],
   "source": [
    "#for loop to calculate percentage of whole for each average quantity by discount level\n",
    "for x in q2A.columns:\n",
    "    #set the position in table with calculated value\n",
    "    q2A.loc['UK', x] = round((float(q2A[x]['UK'])/float(q2A['All']['UK'])*100), 2)\n",
    "    #set the position in table with calculated value\n",
    "    q2A.loc['USA', x] = round((float(q2A[x]['USA'])/float(q2A['All']['USA'])*100), 2)\n",
    "#drop last row and column\n",
    "q2A.drop(['All'], axis = 1, inplace = True)\n",
    "q2A.drop(['All'], axis = 0, inplace = True)\n",
    "q2A"
   ]
  },
  {
   "cell_type": "markdown",
   "metadata": {},
   "source": [
    "Although both US and UK employees on average offer discount levels around 5-6%, US employees offer a number of low discount levels from 6% and below, whereas UK employees only offer 5%, 10%, 15%, 20% and 25% discounts."
   ]
  },
  {
   "cell_type": "code",
   "execution_count": 21,
   "metadata": {},
   "outputs": [
    {
     "data": {
      "text/html": [
       "<div>\n",
       "<style scoped>\n",
       "    .dataframe tbody tr th:only-of-type {\n",
       "        vertical-align: middle;\n",
       "    }\n",
       "\n",
       "    .dataframe tbody tr th {\n",
       "        vertical-align: top;\n",
       "    }\n",
       "\n",
       "    .dataframe thead th {\n",
       "        text-align: right;\n",
       "    }\n",
       "</style>\n",
       "<table border=\"1\" class=\"dataframe\">\n",
       "  <thead>\n",
       "    <tr style=\"text-align: right;\">\n",
       "      <th></th>\n",
       "      <th>sum_sq</th>\n",
       "      <th>df</th>\n",
       "      <th>F</th>\n",
       "      <th>PR(&gt;F)</th>\n",
       "    </tr>\n",
       "  </thead>\n",
       "  <tbody>\n",
       "    <tr>\n",
       "      <th>C(Country)</th>\n",
       "      <td>0.067081</td>\n",
       "      <td>1.0</td>\n",
       "      <td>9.671415</td>\n",
       "      <td>0.001896</td>\n",
       "    </tr>\n",
       "    <tr>\n",
       "      <th>Residual</th>\n",
       "      <td>14.933259</td>\n",
       "      <td>2153.0</td>\n",
       "      <td>NaN</td>\n",
       "      <td>NaN</td>\n",
       "    </tr>\n",
       "  </tbody>\n",
       "</table>\n",
       "</div>"
      ],
      "text/plain": [
       "               sum_sq      df         F    PR(>F)\n",
       "C(Country)   0.067081     1.0  9.671415  0.001896\n",
       "Residual    14.933259  2153.0       NaN       NaN"
      ]
     },
     "metadata": {},
     "output_type": "display_data"
    }
   ],
   "source": [
    "#one-way ANOVA test\n",
    "f = 'Discount ~ C(Country)'\n",
    "lm = ols(f, q2).fit()\n",
    "table = sm.stats.anova_lm(lm, typ=2)\n",
    "display(table)"
   ]
  },
  {
   "cell_type": "code",
   "execution_count": 22,
   "metadata": {},
   "outputs": [
    {
     "data": {
      "text/html": [
       "<table class=\"simpletable\">\n",
       "<caption>Multiple Comparison of Means - Tukey HSD,FWER=0.05</caption>\n",
       "<tr>\n",
       "  <th>group1</th> <th>group2</th> <th>meandiff</th>  <th>lower</th>   <th>upper</th>  <th>reject</th>\n",
       "</tr>\n",
       "<tr>\n",
       "    <td>UK</td>     <td>USA</td>   <td>-0.0127</td> <td>-0.0206</td> <td>-0.0047</td>  <td>True</td> \n",
       "</tr>\n",
       "</table>"
      ],
      "text/plain": [
       "<class 'statsmodels.iolib.table.SimpleTable'>"
      ]
     },
     "metadata": {},
     "output_type": "display_data"
    }
   ],
   "source": [
    "#pairwise tukey test\n",
    "tukey_results = pairwise_tukeyhsd(q2['Discount'], q2['Country'])\n",
    "display(tukey_results.summary())"
   ]
  },
  {
   "cell_type": "code",
   "execution_count": 23,
   "metadata": {},
   "outputs": [
    {
     "name": "stdout",
     "output_type": "stream",
     "text": [
      "0.15205550318243274\n"
     ]
    }
   ],
   "source": [
    "#new dataframes where Country isn't specific value\n",
    "q2USA = q2.loc[q2['Country'] == 'USA']\n",
    "q2UK = q2.loc[q2['Country'] == 'UK']\n",
    "#run Cohen's d function\n",
    "print(cohens_d(q2USA['Discount'], q2UK['Discount']))"
   ]
  },
  {
   "cell_type": "markdown",
   "metadata": {},
   "source": [
    "We see that we may reject our null hypothesis that there is no significant difference in discount levels offered due to the country in which the employee resides. From our Tukey test, we can conclude that US employees do in fact offer discounts at lower prices than UK employees with a mean difference of 1.3%. However, we do have a small effect size of 0.15, suggesting the difference is simply trivial. Nonetheless, let us see if discount levels are significantly different when we take into account which country the discount is being offered from."
   ]
  },
  {
   "cell_type": "markdown",
   "metadata": {},
   "source": [
    "### Does the level(s) of discount offered by US employees have a statistically significant effect on the quantity ordered? If so, at what level(s) of discount?\n",
    "\n",
    "$H_0$ (for each level): there is no significant difference in quantity ordered due to that specific discount level  \n",
    "$H_\\alpha$ (for each level): there is a significant difference in order quantity due to that specific discount level"
   ]
  },
  {
   "cell_type": "code",
   "execution_count": 24,
   "metadata": {},
   "outputs": [
    {
     "data": {
      "text/html": [
       "<div>\n",
       "<style scoped>\n",
       "    .dataframe tbody tr th:only-of-type {\n",
       "        vertical-align: middle;\n",
       "    }\n",
       "\n",
       "    .dataframe tbody tr th {\n",
       "        vertical-align: top;\n",
       "    }\n",
       "\n",
       "    .dataframe thead th {\n",
       "        text-align: right;\n",
       "    }\n",
       "</style>\n",
       "<table border=\"1\" class=\"dataframe\">\n",
       "  <thead>\n",
       "    <tr style=\"text-align: right;\">\n",
       "      <th></th>\n",
       "      <th>Quantity</th>\n",
       "      <th>Discount</th>\n",
       "      <th>Country</th>\n",
       "      <th>Discountlow</th>\n",
       "      <th>Discount10</th>\n",
       "      <th>Discount15</th>\n",
       "      <th>Discount20</th>\n",
       "      <th>Discount25</th>\n",
       "    </tr>\n",
       "  </thead>\n",
       "  <tbody>\n",
       "    <tr>\n",
       "      <th>1973</th>\n",
       "      <td>50</td>\n",
       "      <td>0.05</td>\n",
       "      <td>USA</td>\n",
       "      <td>True</td>\n",
       "      <td>False</td>\n",
       "      <td>False</td>\n",
       "      <td>False</td>\n",
       "      <td>False</td>\n",
       "    </tr>\n",
       "    <tr>\n",
       "      <th>146</th>\n",
       "      <td>12</td>\n",
       "      <td>0.00</td>\n",
       "      <td>USA</td>\n",
       "      <td>False</td>\n",
       "      <td>False</td>\n",
       "      <td>False</td>\n",
       "      <td>False</td>\n",
       "      <td>False</td>\n",
       "    </tr>\n",
       "    <tr>\n",
       "      <th>1162</th>\n",
       "      <td>40</td>\n",
       "      <td>0.00</td>\n",
       "      <td>USA</td>\n",
       "      <td>False</td>\n",
       "      <td>False</td>\n",
       "      <td>False</td>\n",
       "      <td>False</td>\n",
       "      <td>False</td>\n",
       "    </tr>\n",
       "    <tr>\n",
       "      <th>1573</th>\n",
       "      <td>45</td>\n",
       "      <td>0.20</td>\n",
       "      <td>USA</td>\n",
       "      <td>False</td>\n",
       "      <td>False</td>\n",
       "      <td>False</td>\n",
       "      <td>True</td>\n",
       "      <td>False</td>\n",
       "    </tr>\n",
       "    <tr>\n",
       "      <th>471</th>\n",
       "      <td>49</td>\n",
       "      <td>0.20</td>\n",
       "      <td>UK</td>\n",
       "      <td>False</td>\n",
       "      <td>False</td>\n",
       "      <td>False</td>\n",
       "      <td>True</td>\n",
       "      <td>False</td>\n",
       "    </tr>\n",
       "    <tr>\n",
       "      <th>392</th>\n",
       "      <td>70</td>\n",
       "      <td>0.10</td>\n",
       "      <td>UK</td>\n",
       "      <td>False</td>\n",
       "      <td>True</td>\n",
       "      <td>False</td>\n",
       "      <td>False</td>\n",
       "      <td>False</td>\n",
       "    </tr>\n",
       "    <tr>\n",
       "      <th>252</th>\n",
       "      <td>56</td>\n",
       "      <td>0.20</td>\n",
       "      <td>USA</td>\n",
       "      <td>False</td>\n",
       "      <td>False</td>\n",
       "      <td>False</td>\n",
       "      <td>True</td>\n",
       "      <td>False</td>\n",
       "    </tr>\n",
       "    <tr>\n",
       "      <th>2095</th>\n",
       "      <td>30</td>\n",
       "      <td>0.10</td>\n",
       "      <td>USA</td>\n",
       "      <td>False</td>\n",
       "      <td>True</td>\n",
       "      <td>False</td>\n",
       "      <td>False</td>\n",
       "      <td>False</td>\n",
       "    </tr>\n",
       "    <tr>\n",
       "      <th>1534</th>\n",
       "      <td>2</td>\n",
       "      <td>0.20</td>\n",
       "      <td>USA</td>\n",
       "      <td>False</td>\n",
       "      <td>False</td>\n",
       "      <td>False</td>\n",
       "      <td>True</td>\n",
       "      <td>False</td>\n",
       "    </tr>\n",
       "    <tr>\n",
       "      <th>1538</th>\n",
       "      <td>60</td>\n",
       "      <td>0.00</td>\n",
       "      <td>UK</td>\n",
       "      <td>False</td>\n",
       "      <td>False</td>\n",
       "      <td>False</td>\n",
       "      <td>False</td>\n",
       "      <td>False</td>\n",
       "    </tr>\n",
       "  </tbody>\n",
       "</table>\n",
       "</div>"
      ],
      "text/plain": [
       "      Quantity  Discount Country  Discountlow  Discount10  Discount15  \\\n",
       "1973        50      0.05     USA         True       False       False   \n",
       "146         12      0.00     USA        False       False       False   \n",
       "1162        40      0.00     USA        False       False       False   \n",
       "1573        45      0.20     USA        False       False       False   \n",
       "471         49      0.20      UK        False       False       False   \n",
       "392         70      0.10      UK        False        True       False   \n",
       "252         56      0.20     USA        False       False       False   \n",
       "2095        30      0.10     USA        False        True       False   \n",
       "1534         2      0.20     USA        False       False       False   \n",
       "1538        60      0.00      UK        False       False       False   \n",
       "\n",
       "      Discount20  Discount25  \n",
       "1973       False       False  \n",
       "146        False       False  \n",
       "1162       False       False  \n",
       "1573        True       False  \n",
       "471         True       False  \n",
       "392        False       False  \n",
       "252         True       False  \n",
       "2095       False       False  \n",
       "1534        True       False  \n",
       "1538       False       False  "
      ]
     },
     "execution_count": 24,
     "metadata": {},
     "output_type": "execute_result"
    }
   ],
   "source": [
    "#for loop creating new columns with False entries\n",
    "for x in newc:\n",
    "    q2[x] = False\n",
    "\n",
    "#for loop running through database and assign boolean value in new column if discount is applied on order\n",
    "for idx, x in enumerate(q2.Discount):\n",
    "    if 0 < x <= 0.06:\n",
    "        q2.loc[idx, 'Discountlow'] = True\n",
    "    elif x == 0.10:\n",
    "        q2.loc[idx, 'Discount10'] = True\n",
    "    elif x == 0.15:\n",
    "        q2.loc[idx, 'Discount15'] = True\n",
    "    elif x == 0.20:\n",
    "        q2.loc[idx, 'Discount20'] = True\n",
    "    elif x == 0.25:\n",
    "        q2.loc[idx, 'Discount25'] = True\n",
    "q2.sample(10)"
   ]
  },
  {
   "cell_type": "code",
   "execution_count": 25,
   "metadata": {},
   "outputs": [
    {
     "data": {
      "text/html": [
       "<div>\n",
       "<style scoped>\n",
       "    .dataframe tbody tr th:only-of-type {\n",
       "        vertical-align: middle;\n",
       "    }\n",
       "\n",
       "    .dataframe tbody tr th {\n",
       "        vertical-align: top;\n",
       "    }\n",
       "\n",
       "    .dataframe thead th {\n",
       "        text-align: right;\n",
       "    }\n",
       "</style>\n",
       "<table border=\"1\" class=\"dataframe\">\n",
       "  <thead>\n",
       "    <tr style=\"text-align: right;\">\n",
       "      <th></th>\n",
       "      <th>Quantity</th>\n",
       "      <th>Discount</th>\n",
       "      <th>Country</th>\n",
       "      <th>Discountlow</th>\n",
       "      <th>Discount10</th>\n",
       "      <th>Discount15</th>\n",
       "      <th>Discount20</th>\n",
       "      <th>Discount25</th>\n",
       "    </tr>\n",
       "  </thead>\n",
       "  <tbody>\n",
       "    <tr>\n",
       "      <th>0</th>\n",
       "      <td>35</td>\n",
       "      <td>0.15</td>\n",
       "      <td>USA</td>\n",
       "      <td>False</td>\n",
       "      <td>False</td>\n",
       "      <td>True</td>\n",
       "      <td>False</td>\n",
       "      <td>False</td>\n",
       "    </tr>\n",
       "    <tr>\n",
       "      <th>1</th>\n",
       "      <td>15</td>\n",
       "      <td>0.15</td>\n",
       "      <td>USA</td>\n",
       "      <td>False</td>\n",
       "      <td>False</td>\n",
       "      <td>True</td>\n",
       "      <td>False</td>\n",
       "      <td>False</td>\n",
       "    </tr>\n",
       "    <tr>\n",
       "      <th>2</th>\n",
       "      <td>6</td>\n",
       "      <td>0.05</td>\n",
       "      <td>USA</td>\n",
       "      <td>True</td>\n",
       "      <td>False</td>\n",
       "      <td>False</td>\n",
       "      <td>False</td>\n",
       "      <td>False</td>\n",
       "    </tr>\n",
       "    <tr>\n",
       "      <th>3</th>\n",
       "      <td>15</td>\n",
       "      <td>0.05</td>\n",
       "      <td>USA</td>\n",
       "      <td>True</td>\n",
       "      <td>False</td>\n",
       "      <td>False</td>\n",
       "      <td>False</td>\n",
       "      <td>False</td>\n",
       "    </tr>\n",
       "    <tr>\n",
       "      <th>4</th>\n",
       "      <td>40</td>\n",
       "      <td>0.05</td>\n",
       "      <td>USA</td>\n",
       "      <td>True</td>\n",
       "      <td>False</td>\n",
       "      <td>False</td>\n",
       "      <td>False</td>\n",
       "      <td>False</td>\n",
       "    </tr>\n",
       "  </tbody>\n",
       "</table>\n",
       "</div>"
      ],
      "text/plain": [
       "   Quantity  Discount Country  Discountlow  Discount10  Discount15  \\\n",
       "0        35      0.15     USA        False       False        True   \n",
       "1        15      0.15     USA        False       False        True   \n",
       "2         6      0.05     USA         True       False       False   \n",
       "3        15      0.05     USA         True       False       False   \n",
       "4        40      0.05     USA         True       False       False   \n",
       "\n",
       "   Discount20  Discount25  \n",
       "0       False       False  \n",
       "1       False       False  \n",
       "2       False       False  \n",
       "3       False       False  \n",
       "4       False       False  "
      ]
     },
     "execution_count": 25,
     "metadata": {},
     "output_type": "execute_result"
    }
   ],
   "source": [
    "#new dataframe by dropping all rows where Discount level is zero percent\n",
    "q2B = q2.loc[q2['Discount'] != 0]\n",
    "q2B = q2B.reset_index(drop=True)\n",
    "q2B.head()"
   ]
  },
  {
   "cell_type": "code",
   "execution_count": 26,
   "metadata": {},
   "outputs": [
    {
     "data": {
      "text/html": [
       "<div>\n",
       "<style scoped>\n",
       "    .dataframe tbody tr th:only-of-type {\n",
       "        vertical-align: middle;\n",
       "    }\n",
       "\n",
       "    .dataframe tbody tr th {\n",
       "        vertical-align: top;\n",
       "    }\n",
       "\n",
       "    .dataframe thead th {\n",
       "        text-align: right;\n",
       "    }\n",
       "</style>\n",
       "<table border=\"1\" class=\"dataframe\">\n",
       "  <thead>\n",
       "    <tr style=\"text-align: right;\">\n",
       "      <th></th>\n",
       "      <th>Quantity</th>\n",
       "      <th>Discount</th>\n",
       "      <th>Country</th>\n",
       "      <th>Discountlow</th>\n",
       "      <th>Discount10</th>\n",
       "      <th>Discount15</th>\n",
       "      <th>Discount20</th>\n",
       "      <th>Discount25</th>\n",
       "      <th>Count</th>\n",
       "    </tr>\n",
       "  </thead>\n",
       "  <tbody>\n",
       "    <tr>\n",
       "      <th>0</th>\n",
       "      <td>35</td>\n",
       "      <td>0.15</td>\n",
       "      <td>USA</td>\n",
       "      <td>False</td>\n",
       "      <td>False</td>\n",
       "      <td>True</td>\n",
       "      <td>False</td>\n",
       "      <td>False</td>\n",
       "      <td>29</td>\n",
       "    </tr>\n",
       "    <tr>\n",
       "      <th>1</th>\n",
       "      <td>15</td>\n",
       "      <td>0.15</td>\n",
       "      <td>USA</td>\n",
       "      <td>False</td>\n",
       "      <td>False</td>\n",
       "      <td>True</td>\n",
       "      <td>False</td>\n",
       "      <td>False</td>\n",
       "      <td>69</td>\n",
       "    </tr>\n",
       "    <tr>\n",
       "      <th>2</th>\n",
       "      <td>6</td>\n",
       "      <td>0.05</td>\n",
       "      <td>USA</td>\n",
       "      <td>True</td>\n",
       "      <td>False</td>\n",
       "      <td>False</td>\n",
       "      <td>False</td>\n",
       "      <td>False</td>\n",
       "      <td>25</td>\n",
       "    </tr>\n",
       "    <tr>\n",
       "      <th>3</th>\n",
       "      <td>15</td>\n",
       "      <td>0.05</td>\n",
       "      <td>USA</td>\n",
       "      <td>True</td>\n",
       "      <td>False</td>\n",
       "      <td>False</td>\n",
       "      <td>False</td>\n",
       "      <td>False</td>\n",
       "      <td>69</td>\n",
       "    </tr>\n",
       "    <tr>\n",
       "      <th>4</th>\n",
       "      <td>40</td>\n",
       "      <td>0.05</td>\n",
       "      <td>USA</td>\n",
       "      <td>True</td>\n",
       "      <td>False</td>\n",
       "      <td>False</td>\n",
       "      <td>False</td>\n",
       "      <td>False</td>\n",
       "      <td>53</td>\n",
       "    </tr>\n",
       "  </tbody>\n",
       "</table>\n",
       "</div>"
      ],
      "text/plain": [
       "   Quantity  Discount Country  Discountlow  Discount10  Discount15  \\\n",
       "0        35      0.15     USA        False       False        True   \n",
       "1        15      0.15     USA        False       False        True   \n",
       "2         6      0.05     USA         True       False       False   \n",
       "3        15      0.05     USA         True       False       False   \n",
       "4        40      0.05     USA         True       False       False   \n",
       "\n",
       "   Discount20  Discount25  Count  \n",
       "0       False       False     29  \n",
       "1       False       False     69  \n",
       "2       False       False     25  \n",
       "3       False       False     69  \n",
       "4       False       False     53  "
      ]
     },
     "execution_count": 26,
     "metadata": {},
     "output_type": "execute_result"
    }
   ],
   "source": [
    "#map count of each unique Quantity to each row\n",
    "z = q2B['Quantity'].value_counts()\n",
    "z1 = z.to_dict()\n",
    "q2B['Count'] = q2B['Quantity'].map(z1)\n",
    "#for loop going through count column and dropping any rows\n",
    "#that have count less than 4 except for quantity 1 to get rid of outliers\n",
    "for idx, x in enumerate(q2B.Count):\n",
    "    if x < 4:\n",
    "        if q2B.Quantity[idx] == 1:\n",
    "            pass\n",
    "        else:\n",
    "            q2B.drop(index = idx, axis = 0, inplace=True)\n",
    "q2B = q2B.reset_index(drop=True)\n",
    "q2B.head()"
   ]
  },
  {
   "cell_type": "code",
   "execution_count": 27,
   "metadata": {},
   "outputs": [
    {
     "data": {
      "text/html": [
       "<div>\n",
       "<style scoped>\n",
       "    .dataframe tbody tr th:only-of-type {\n",
       "        vertical-align: middle;\n",
       "    }\n",
       "\n",
       "    .dataframe tbody tr th {\n",
       "        vertical-align: top;\n",
       "    }\n",
       "\n",
       "    .dataframe thead th {\n",
       "        text-align: right;\n",
       "    }\n",
       "</style>\n",
       "<table border=\"1\" class=\"dataframe\">\n",
       "  <thead>\n",
       "    <tr style=\"text-align: right;\">\n",
       "      <th></th>\n",
       "      <th>Quantity</th>\n",
       "      <th>Discount</th>\n",
       "      <th>Country</th>\n",
       "      <th>Discountlow</th>\n",
       "      <th>Discount10</th>\n",
       "      <th>Discount15</th>\n",
       "      <th>Discount20</th>\n",
       "      <th>Discount25</th>\n",
       "      <th>Count</th>\n",
       "    </tr>\n",
       "  </thead>\n",
       "  <tbody>\n",
       "    <tr>\n",
       "      <th>0</th>\n",
       "      <td>35</td>\n",
       "      <td>0.15</td>\n",
       "      <td>USA</td>\n",
       "      <td>False</td>\n",
       "      <td>False</td>\n",
       "      <td>True</td>\n",
       "      <td>False</td>\n",
       "      <td>False</td>\n",
       "      <td>29</td>\n",
       "    </tr>\n",
       "    <tr>\n",
       "      <th>1</th>\n",
       "      <td>15</td>\n",
       "      <td>0.15</td>\n",
       "      <td>USA</td>\n",
       "      <td>False</td>\n",
       "      <td>False</td>\n",
       "      <td>True</td>\n",
       "      <td>False</td>\n",
       "      <td>False</td>\n",
       "      <td>69</td>\n",
       "    </tr>\n",
       "    <tr>\n",
       "      <th>2</th>\n",
       "      <td>6</td>\n",
       "      <td>0.05</td>\n",
       "      <td>USA</td>\n",
       "      <td>True</td>\n",
       "      <td>False</td>\n",
       "      <td>False</td>\n",
       "      <td>False</td>\n",
       "      <td>False</td>\n",
       "      <td>25</td>\n",
       "    </tr>\n",
       "    <tr>\n",
       "      <th>3</th>\n",
       "      <td>15</td>\n",
       "      <td>0.05</td>\n",
       "      <td>USA</td>\n",
       "      <td>True</td>\n",
       "      <td>False</td>\n",
       "      <td>False</td>\n",
       "      <td>False</td>\n",
       "      <td>False</td>\n",
       "      <td>69</td>\n",
       "    </tr>\n",
       "    <tr>\n",
       "      <th>4</th>\n",
       "      <td>40</td>\n",
       "      <td>0.05</td>\n",
       "      <td>USA</td>\n",
       "      <td>True</td>\n",
       "      <td>False</td>\n",
       "      <td>False</td>\n",
       "      <td>False</td>\n",
       "      <td>False</td>\n",
       "      <td>53</td>\n",
       "    </tr>\n",
       "  </tbody>\n",
       "</table>\n",
       "</div>"
      ],
      "text/plain": [
       "   Quantity  Discount Country  Discountlow  Discount10  Discount15  \\\n",
       "0        35      0.15     USA        False       False        True   \n",
       "1        15      0.15     USA        False       False        True   \n",
       "2         6      0.05     USA         True       False       False   \n",
       "3        15      0.05     USA         True       False       False   \n",
       "4        40      0.05     USA         True       False       False   \n",
       "\n",
       "   Discount20  Discount25  Count  \n",
       "0       False       False     29  \n",
       "1       False       False     69  \n",
       "2       False       False     25  \n",
       "3       False       False     69  \n",
       "4       False       False     53  "
      ]
     },
     "execution_count": 27,
     "metadata": {},
     "output_type": "execute_result"
    }
   ],
   "source": [
    "#new dataframe including rows where country is USA\n",
    "q2USA = q2B.loc[q2B['Country'] != 'UK']\n",
    "q2USA = q2USA.reset_index(drop=True)\n",
    "q2USA.head()"
   ]
  },
  {
   "cell_type": "code",
   "execution_count": 28,
   "metadata": {},
   "outputs": [
    {
     "data": {
      "text/html": [
       "<div>\n",
       "<style scoped>\n",
       "    .dataframe tbody tr th:only-of-type {\n",
       "        vertical-align: middle;\n",
       "    }\n",
       "\n",
       "    .dataframe tbody tr th {\n",
       "        vertical-align: top;\n",
       "    }\n",
       "\n",
       "    .dataframe thead th {\n",
       "        text-align: right;\n",
       "    }\n",
       "</style>\n",
       "<table border=\"1\" class=\"dataframe\">\n",
       "  <thead>\n",
       "    <tr style=\"text-align: right;\">\n",
       "      <th></th>\n",
       "      <th>sum_sq</th>\n",
       "      <th>df</th>\n",
       "      <th>F</th>\n",
       "      <th>PR(&gt;F)</th>\n",
       "    </tr>\n",
       "  </thead>\n",
       "  <tbody>\n",
       "    <tr>\n",
       "      <th>C(Discountlow)</th>\n",
       "      <td>3068.541493</td>\n",
       "      <td>1.0</td>\n",
       "      <td>7.526524</td>\n",
       "      <td>0.006276</td>\n",
       "    </tr>\n",
       "    <tr>\n",
       "      <th>C(Discount10)</th>\n",
       "      <td>1698.908746</td>\n",
       "      <td>1.0</td>\n",
       "      <td>4.167086</td>\n",
       "      <td>0.041687</td>\n",
       "    </tr>\n",
       "    <tr>\n",
       "      <th>C(Discount15)</th>\n",
       "      <td>3675.837972</td>\n",
       "      <td>1.0</td>\n",
       "      <td>9.016101</td>\n",
       "      <td>0.002796</td>\n",
       "    </tr>\n",
       "    <tr>\n",
       "      <th>C(Discount20)</th>\n",
       "      <td>2832.600694</td>\n",
       "      <td>1.0</td>\n",
       "      <td>6.947808</td>\n",
       "      <td>0.008626</td>\n",
       "    </tr>\n",
       "    <tr>\n",
       "      <th>C(Discount25)</th>\n",
       "      <td>2184.416458</td>\n",
       "      <td>1.0</td>\n",
       "      <td>5.357940</td>\n",
       "      <td>0.020991</td>\n",
       "    </tr>\n",
       "    <tr>\n",
       "      <th>Residual</th>\n",
       "      <td>227087.259134</td>\n",
       "      <td>557.0</td>\n",
       "      <td>NaN</td>\n",
       "      <td>NaN</td>\n",
       "    </tr>\n",
       "  </tbody>\n",
       "</table>\n",
       "</div>"
      ],
      "text/plain": [
       "                       sum_sq     df         F    PR(>F)\n",
       "C(Discountlow)    3068.541493    1.0  7.526524  0.006276\n",
       "C(Discount10)     1698.908746    1.0  4.167086  0.041687\n",
       "C(Discount15)     3675.837972    1.0  9.016101  0.002796\n",
       "C(Discount20)     2832.600694    1.0  6.947808  0.008626\n",
       "C(Discount25)     2184.416458    1.0  5.357940  0.020991\n",
       "Residual        227087.259134  557.0       NaN       NaN"
      ]
     },
     "metadata": {},
     "output_type": "display_data"
    }
   ],
   "source": [
    "#one-way ANOVA test\n",
    "f = 'Quantity ~ C(Discountlow) + C(Discount10) + C(Discount15) + C(Discount20) + C(Discount25)'\n",
    "lm = ols(f, q2USA).fit()\n",
    "table = sm.stats.anova_lm(lm, typ=2)\n",
    "display(table)"
   ]
  },
  {
   "cell_type": "code",
   "execution_count": 29,
   "metadata": {},
   "outputs": [
    {
     "data": {
      "text/html": [
       "<table class=\"simpletable\">\n",
       "<caption>Multiple Comparison of Means - Tukey HSD,FWER=0.05</caption>\n",
       "<tr>\n",
       "  <th>group1</th> <th>group2</th> <th>meandiff</th>   <th>lower</th>   <th>upper</th>  <th>reject</th>\n",
       "</tr>\n",
       "<tr>\n",
       "    <td>0.0</td>   <td>0.05</td>   <td>5.0762</td>   <td>0.2229</td>  <td>9.9295</td>   <td>True</td> \n",
       "</tr>\n",
       "<tr>\n",
       "    <td>0.0</td>    <td>0.1</td>   <td>4.3661</td>   <td>-0.9385</td> <td>9.6706</td>   <td>False</td>\n",
       "</tr>\n",
       "<tr>\n",
       "    <td>0.0</td>   <td>0.15</td>   <td>7.6353</td>   <td>2.1282</td>  <td>13.1424</td>  <td>True</td> \n",
       "</tr>\n",
       "<tr>\n",
       "    <td>0.0</td>    <td>0.2</td>   <td>5.5299</td>   <td>0.2874</td>  <td>10.7724</td>  <td>True</td> \n",
       "</tr>\n",
       "<tr>\n",
       "    <td>0.0</td>   <td>0.25</td>    <td>4.329</td>   <td>-1.0848</td> <td>9.7429</td>   <td>False</td>\n",
       "</tr>\n",
       "<tr>\n",
       "   <td>0.05</td>    <td>0.1</td>   <td>-0.7101</td>  <td>-7.4939</td> <td>6.0737</td>   <td>False</td>\n",
       "</tr>\n",
       "<tr>\n",
       "   <td>0.05</td>   <td>0.15</td>   <td>2.5591</td>   <td>-4.3842</td> <td>9.5024</td>   <td>False</td>\n",
       "</tr>\n",
       "<tr>\n",
       "   <td>0.05</td>    <td>0.2</td>   <td>0.4536</td>   <td>-6.2817</td>  <td>7.189</td>   <td>False</td>\n",
       "</tr>\n",
       "<tr>\n",
       "   <td>0.05</td>   <td>0.25</td>   <td>-0.7472</td>  <td>-7.6168</td> <td>6.1224</td>   <td>False</td>\n",
       "</tr>\n",
       "<tr>\n",
       "    <td>0.1</td>   <td>0.15</td>   <td>3.2692</td>   <td>-3.9967</td> <td>10.5351</td>  <td>False</td>\n",
       "</tr>\n",
       "<tr>\n",
       "    <td>0.1</td>    <td>0.2</td>   <td>1.1638</td>   <td>-5.9037</td> <td>8.2313</td>   <td>False</td>\n",
       "</tr>\n",
       "<tr>\n",
       "    <td>0.1</td>   <td>0.25</td>   <td>-0.037</td>   <td>-7.2325</td> <td>7.1584</td>   <td>False</td>\n",
       "</tr>\n",
       "<tr>\n",
       "   <td>0.15</td>    <td>0.2</td>   <td>-2.1054</td>  <td>-9.3262</td> <td>5.1153</td>   <td>False</td>\n",
       "</tr>\n",
       "<tr>\n",
       "   <td>0.15</td>   <td>0.25</td>   <td>-3.3063</td> <td>-10.6523</td> <td>4.0398</td>   <td>False</td>\n",
       "</tr>\n",
       "<tr>\n",
       "    <td>0.2</td>   <td>0.25</td>   <td>-1.2008</td>  <td>-8.3507</td>  <td>5.949</td>   <td>False</td>\n",
       "</tr>\n",
       "</table>"
      ],
      "text/plain": [
       "<class 'statsmodels.iolib.table.SimpleTable'>"
      ]
     },
     "metadata": {},
     "output_type": "display_data"
    },
    {
     "data": {
      "image/png": "[encoded data removed]",
      "text/plain": [
       "<Figure size 720x432 with 1 Axes>"
      ]
     },
     "metadata": {
      "needs_background": "light"
     },
     "output_type": "display_data"
    }
   ],
   "source": [
    "#new dataframe including rows where country is USA but including Discount level zero and changing all low levels to\n",
    "#0.05 so we may run tukey test\n",
    "q2C = q2.loc[q2['Country'] != 'UK']\n",
    "q2C = q2C.reset_index(drop=True)\n",
    "#for loop to change all values 0.01-0.06 to 0.05 in Discount column\n",
    "for idx, x in enumerate(q2C.Discount):\n",
    "    if 0.00 < x <= 0.06:\n",
    "        q2C.loc[idx, 'Discount'] = 0.05\n",
    "    else:\n",
    "        pass\n",
    "#pairwise tukey test\n",
    "tukey_results = pairwise_tukeyhsd(q2C['Quantity'], q2C['Discount'])\n",
    "display(tukey_results.summary())\n",
    "tukey_results.plot_simultaneous().show()"
   ]
  },
  {
   "cell_type": "code",
   "execution_count": 30,
   "metadata": {},
   "outputs": [
    {
     "name": "stdout",
     "output_type": "stream",
     "text": [
      "0.3468767736284544\n",
      "0.3724041317472808\n",
      "0.3007122542913553\n"
     ]
    }
   ],
   "source": [
    "#new dataframes where Discount is specific value\n",
    "q20 = q2.loc[q2['Discount'] == 0]\n",
    "q25 = q2.loc[q2['Discount'] == 0.05]\n",
    "q215 = q2.loc[q2['Discount'] == 0.15]\n",
    "q220 = q2.loc[q2['Discount'] == 0.20]\n",
    "#for loop dropping all rows where Country isn't USA\n",
    "for x in [q20, q25, q215, q220]:\n",
    "    x = x.loc[x['Country'] != 'UK']\n",
    "    x = x.reset_index(drop=True)\n",
    "#for loop running cohen's d function\n",
    "for x in [q25, q215, q220]:\n",
    "    print(cohens_d(q20['Quantity'], x['Quantity']))"
   ]
  },
  {
   "cell_type": "markdown",
   "metadata": {},
   "source": [
    "Although in our ANOVA test, we have p-values for each level of discount lower than the alpha level, giving us indication to reject the null hypothesis for all levels, our Tukey Post-HOC HSD pairwise test, we conclude that only groups with discount levels of 1-6%, 15% and 20% have difference in means from the group with zero discount. Thus, it would be best for US employees to offer those levels to their customers in order to increase quantity.\n",
    "\n",
    "Let's take a look at our difference in mean and effect size of our significant levels of discount:  \n",
    "1%-6% - difference in mean: 5.07, effect size: 0.35  \n",
    "15% - difference in mean: 7.64, effect size: 0.37  \n",
    "20% - difference in mean: 5.53, effect size: 0.30  \n",
    "      \n",
    "We see that 15% discount has the largest difference in mean and largest effect size. Therefore, I would suggest not offer discount levels above 15%."
   ]
  },
  {
   "cell_type": "markdown",
   "metadata": {},
   "source": [
    "### Does the level(s) of discount offered by UK employees have a statistically significant effect on the quantity ordered? If so, at what level(s) of discount?\n",
    "\n",
    "$H_0$ (for each level): there is no significant difference in quantity ordered due to that specific discount level  \n",
    "$H_\\alpha$ (for each level): there is a significant difference in order quantity due to that specific discount level"
   ]
  },
  {
   "cell_type": "code",
   "execution_count": 31,
   "metadata": {},
   "outputs": [
    {
     "data": {
      "text/html": [
       "<div>\n",
       "<style scoped>\n",
       "    .dataframe tbody tr th:only-of-type {\n",
       "        vertical-align: middle;\n",
       "    }\n",
       "\n",
       "    .dataframe tbody tr th {\n",
       "        vertical-align: top;\n",
       "    }\n",
       "\n",
       "    .dataframe thead th {\n",
       "        text-align: right;\n",
       "    }\n",
       "</style>\n",
       "<table border=\"1\" class=\"dataframe\">\n",
       "  <thead>\n",
       "    <tr style=\"text-align: right;\">\n",
       "      <th></th>\n",
       "      <th>Quantity</th>\n",
       "      <th>Discount</th>\n",
       "      <th>Country</th>\n",
       "      <th>Discountlow</th>\n",
       "      <th>Discount10</th>\n",
       "      <th>Discount15</th>\n",
       "      <th>Discount20</th>\n",
       "      <th>Discount25</th>\n",
       "      <th>Count</th>\n",
       "    </tr>\n",
       "  </thead>\n",
       "  <tbody>\n",
       "    <tr>\n",
       "      <th>0</th>\n",
       "      <td>15</td>\n",
       "      <td>0.15</td>\n",
       "      <td>UK</td>\n",
       "      <td>False</td>\n",
       "      <td>False</td>\n",
       "      <td>True</td>\n",
       "      <td>False</td>\n",
       "      <td>False</td>\n",
       "      <td>69</td>\n",
       "    </tr>\n",
       "    <tr>\n",
       "      <th>1</th>\n",
       "      <td>21</td>\n",
       "      <td>0.15</td>\n",
       "      <td>UK</td>\n",
       "      <td>False</td>\n",
       "      <td>False</td>\n",
       "      <td>True</td>\n",
       "      <td>False</td>\n",
       "      <td>False</td>\n",
       "      <td>20</td>\n",
       "    </tr>\n",
       "    <tr>\n",
       "      <th>2</th>\n",
       "      <td>60</td>\n",
       "      <td>0.25</td>\n",
       "      <td>UK</td>\n",
       "      <td>False</td>\n",
       "      <td>False</td>\n",
       "      <td>False</td>\n",
       "      <td>False</td>\n",
       "      <td>True</td>\n",
       "      <td>28</td>\n",
       "    </tr>\n",
       "    <tr>\n",
       "      <th>3</th>\n",
       "      <td>60</td>\n",
       "      <td>0.25</td>\n",
       "      <td>UK</td>\n",
       "      <td>False</td>\n",
       "      <td>False</td>\n",
       "      <td>False</td>\n",
       "      <td>False</td>\n",
       "      <td>True</td>\n",
       "      <td>28</td>\n",
       "    </tr>\n",
       "    <tr>\n",
       "      <th>4</th>\n",
       "      <td>36</td>\n",
       "      <td>0.25</td>\n",
       "      <td>UK</td>\n",
       "      <td>False</td>\n",
       "      <td>False</td>\n",
       "      <td>False</td>\n",
       "      <td>False</td>\n",
       "      <td>True</td>\n",
       "      <td>12</td>\n",
       "    </tr>\n",
       "  </tbody>\n",
       "</table>\n",
       "</div>"
      ],
      "text/plain": [
       "   Quantity  Discount Country  Discountlow  Discount10  Discount15  \\\n",
       "0        15      0.15      UK        False       False        True   \n",
       "1        21      0.15      UK        False       False        True   \n",
       "2        60      0.25      UK        False       False       False   \n",
       "3        60      0.25      UK        False       False       False   \n",
       "4        36      0.25      UK        False       False       False   \n",
       "\n",
       "   Discount20  Discount25  Count  \n",
       "0       False       False     69  \n",
       "1       False       False     20  \n",
       "2       False        True     28  \n",
       "3       False        True     28  \n",
       "4       False        True     12  "
      ]
     },
     "execution_count": 31,
     "metadata": {},
     "output_type": "execute_result"
    }
   ],
   "source": [
    "#new dataframe where Country isn't USA\n",
    "q2UK = q2B.loc[q2B['Country'] != 'USA']\n",
    "q2UK = q2UK.reset_index(drop=True)\n",
    "q2UK.head()"
   ]
  },
  {
   "cell_type": "code",
   "execution_count": 32,
   "metadata": {},
   "outputs": [
    {
     "data": {
      "text/html": [
       "<div>\n",
       "<style scoped>\n",
       "    .dataframe tbody tr th:only-of-type {\n",
       "        vertical-align: middle;\n",
       "    }\n",
       "\n",
       "    .dataframe tbody tr th {\n",
       "        vertical-align: top;\n",
       "    }\n",
       "\n",
       "    .dataframe thead th {\n",
       "        text-align: right;\n",
       "    }\n",
       "</style>\n",
       "<table border=\"1\" class=\"dataframe\">\n",
       "  <thead>\n",
       "    <tr style=\"text-align: right;\">\n",
       "      <th></th>\n",
       "      <th>sum_sq</th>\n",
       "      <th>df</th>\n",
       "      <th>F</th>\n",
       "      <th>PR(&gt;F)</th>\n",
       "    </tr>\n",
       "  </thead>\n",
       "  <tbody>\n",
       "    <tr>\n",
       "      <th>C(Discountlow)</th>\n",
       "      <td>759.507299</td>\n",
       "      <td>1.0</td>\n",
       "      <td>2.083938</td>\n",
       "      <td>0.150128</td>\n",
       "    </tr>\n",
       "    <tr>\n",
       "      <th>C(Discount10)</th>\n",
       "      <td>7.170052</td>\n",
       "      <td>1.0</td>\n",
       "      <td>0.019673</td>\n",
       "      <td>0.888568</td>\n",
       "    </tr>\n",
       "    <tr>\n",
       "      <th>C(Discount15)</th>\n",
       "      <td>1096.591752</td>\n",
       "      <td>1.0</td>\n",
       "      <td>3.008831</td>\n",
       "      <td>0.084065</td>\n",
       "    </tr>\n",
       "    <tr>\n",
       "      <th>C(Discount20)</th>\n",
       "      <td>831.541590</td>\n",
       "      <td>1.0</td>\n",
       "      <td>2.281586</td>\n",
       "      <td>0.132201</td>\n",
       "    </tr>\n",
       "    <tr>\n",
       "      <th>C(Discount25)</th>\n",
       "      <td>6964.440564</td>\n",
       "      <td>1.0</td>\n",
       "      <td>19.109051</td>\n",
       "      <td>0.000018</td>\n",
       "    </tr>\n",
       "    <tr>\n",
       "      <th>Residual</th>\n",
       "      <td>89656.592439</td>\n",
       "      <td>246.0</td>\n",
       "      <td>NaN</td>\n",
       "      <td>NaN</td>\n",
       "    </tr>\n",
       "  </tbody>\n",
       "</table>\n",
       "</div>"
      ],
      "text/plain": [
       "                      sum_sq     df          F    PR(>F)\n",
       "C(Discountlow)    759.507299    1.0   2.083938  0.150128\n",
       "C(Discount10)       7.170052    1.0   0.019673  0.888568\n",
       "C(Discount15)    1096.591752    1.0   3.008831  0.084065\n",
       "C(Discount20)     831.541590    1.0   2.281586  0.132201\n",
       "C(Discount25)    6964.440564    1.0  19.109051  0.000018\n",
       "Residual        89656.592439  246.0        NaN       NaN"
      ]
     },
     "metadata": {},
     "output_type": "display_data"
    }
   ],
   "source": [
    "#one-way ANOVA test\n",
    "f = 'Quantity ~ C(Discountlow) + C(Discount10) + C(Discount15) + C(Discount20) + C(Discount25)'\n",
    "lm = ols(f, q2UK).fit()\n",
    "table = sm.stats.anova_lm(lm, typ=2)\n",
    "display(table)"
   ]
  },
  {
   "cell_type": "code",
   "execution_count": 33,
   "metadata": {},
   "outputs": [
    {
     "data": {
      "text/html": [
       "<table class=\"simpletable\">\n",
       "<caption>Multiple Comparison of Means - Tukey HSD,FWER=0.05</caption>\n",
       "<tr>\n",
       "  <th>group1</th> <th>group2</th> <th>meandiff</th>   <th>lower</th>   <th>upper</th>  <th>reject</th>\n",
       "</tr>\n",
       "<tr>\n",
       "    <td>0.0</td>   <td>0.05</td>    <td>5.474</td>   <td>-2.5343</td> <td>13.4823</td>  <td>False</td>\n",
       "</tr>\n",
       "<tr>\n",
       "    <td>0.0</td>    <td>0.1</td>   <td>1.8194</td>   <td>-5.9004</td> <td>9.5393</td>   <td>False</td>\n",
       "</tr>\n",
       "<tr>\n",
       "    <td>0.0</td>   <td>0.15</td>   <td>4.6609</td>   <td>-3.4746</td> <td>12.7965</td>  <td>False</td>\n",
       "</tr>\n",
       "<tr>\n",
       "    <td>0.0</td>    <td>0.2</td>   <td>4.6861</td>   <td>-4.045</td>  <td>13.4171</td>  <td>False</td>\n",
       "</tr>\n",
       "<tr>\n",
       "    <td>0.0</td>   <td>0.25</td>   <td>11.6064</td>  <td>2.9586</td>  <td>20.2542</td>  <td>True</td> \n",
       "</tr>\n",
       "<tr>\n",
       "   <td>0.05</td>    <td>0.1</td>   <td>-3.6545</td> <td>-13.8696</td> <td>6.5605</td>   <td>False</td>\n",
       "</tr>\n",
       "<tr>\n",
       "   <td>0.05</td>   <td>0.15</td>   <td>-0.813</td>  <td>-11.3458</td> <td>9.7197</td>   <td>False</td>\n",
       "</tr>\n",
       "<tr>\n",
       "   <td>0.05</td>    <td>0.2</td>   <td>-0.7879</td> <td>-11.7871</td> <td>10.2113</td>  <td>False</td>\n",
       "</tr>\n",
       "<tr>\n",
       "   <td>0.05</td>   <td>0.25</td>   <td>6.1324</td>   <td>-4.8009</td> <td>17.0657</td>  <td>False</td>\n",
       "</tr>\n",
       "<tr>\n",
       "    <td>0.1</td>   <td>0.15</td>   <td>2.8415</td>   <td>-7.4736</td> <td>13.1567</td>  <td>False</td>\n",
       "</tr>\n",
       "<tr>\n",
       "    <td>0.1</td>    <td>0.2</td>   <td>2.8667</td>   <td>-7.9243</td> <td>13.6577</td>  <td>False</td>\n",
       "</tr>\n",
       "<tr>\n",
       "    <td>0.1</td>   <td>0.25</td>    <td>9.787</td>   <td>-0.9368</td> <td>20.5107</td>  <td>False</td>\n",
       "</tr>\n",
       "<tr>\n",
       "   <td>0.15</td>    <td>0.2</td>   <td>0.0252</td>  <td>-11.0671</td> <td>11.1174</td>  <td>False</td>\n",
       "</tr>\n",
       "<tr>\n",
       "   <td>0.15</td>   <td>0.25</td>   <td>6.9454</td>   <td>-4.0814</td> <td>17.9723</td>  <td>False</td>\n",
       "</tr>\n",
       "<tr>\n",
       "    <td>0.2</td>   <td>0.25</td>   <td>6.9203</td>   <td>-4.5529</td> <td>18.3935</td>  <td>False</td>\n",
       "</tr>\n",
       "</table>"
      ],
      "text/plain": [
       "<class 'statsmodels.iolib.table.SimpleTable'>"
      ]
     },
     "metadata": {},
     "output_type": "display_data"
    },
    {
     "data": {
      "image/png": "[encoded data removed]",
      "text/plain": [
       "<Figure size 720x432 with 1 Axes>"
      ]
     },
     "metadata": {
      "needs_background": "light"
     },
     "output_type": "display_data"
    }
   ],
   "source": [
    "#new dataframe where rows have Country equal to UK\n",
    "q2D = q2.loc[q2['Country'] != 'USA']\n",
    "q2D = q2D.reset_index(drop=True)\n",
    "#for loop to change all values 0.01-0.06 to 0.05 in Discount column\n",
    "for idx, x in enumerate(q2D.Discount):\n",
    "    if 0.00 < x <= 0.06:\n",
    "        q2D.loc[idx, 'Discount'] = 0.05\n",
    "    else:\n",
    "        pass\n",
    "#pairwise tukey test\n",
    "tukey_results = pairwise_tukeyhsd(q2D['Quantity'], q2D['Discount'])\n",
    "display(tukey_results.summary())\n",
    "tukey_results.plot_simultaneous().show()"
   ]
  },
  {
   "cell_type": "code",
   "execution_count": 34,
   "metadata": {},
   "outputs": [
    {
     "name": "stdout",
     "output_type": "stream",
     "text": [
      "0.36659255652674416\n"
     ]
    }
   ],
   "source": [
    "#new dataframes where Discount is specific value only\n",
    "q20 = q2.loc[q2['Discount'] == 0]\n",
    "q225 = q2.loc[q2['Discount'] == 0.25]\n",
    "#for loop dropping all rows where Country is USA\n",
    "for x in [q20, q225]:\n",
    "    x = x.loc[x['Country'] != 'USA']\n",
    "    x = x.reset_index(drop=True)\n",
    "#run cohen's d function\n",
    "print(cohens_d(q20['Quantity'], q225['Quantity']))"
   ]
  },
  {
   "cell_type": "markdown",
   "metadata": {},
   "source": [
    "Both our ANOVA test and Tukey Post-HOC HSD pairwise test give us the conclusion that we may reject the null hypothesis for discount level of 25%, meaning quantity is significantly greater when discount level offered is 25%. Thus, offering 25% would be best for UK employees to increase quantity ordered. We also have an effect size of 0.37, which shows strong relationship between Quantity and the 25% level compared to the other levels shown before."
   ]
  },
  {
   "cell_type": "markdown",
   "metadata": {},
   "source": [
    "## Question 3\n",
    "\n",
    "### This question will circulate around the signficance of the age and title of the employee processing the order\n",
    "\n",
    "### Does the age of the employee have a statistically significant effect on number of orders processed?\n",
    "\n",
    "$H_0$: there is no significant difference in total sum of orders processed due employee age  \n",
    "$H_\\alpha$: there is a significant difference in total sum of orders processed due to employee age"
   ]
  },
  {
   "cell_type": "code",
   "execution_count": 35,
   "metadata": {},
   "outputs": [
    {
     "data": {
      "text/html": [
       "<div>\n",
       "<style scoped>\n",
       "    .dataframe tbody tr th:only-of-type {\n",
       "        vertical-align: middle;\n",
       "    }\n",
       "\n",
       "    .dataframe tbody tr th {\n",
       "        vertical-align: top;\n",
       "    }\n",
       "\n",
       "    .dataframe thead th {\n",
       "        text-align: right;\n",
       "    }\n",
       "</style>\n",
       "<table border=\"1\" class=\"dataframe\">\n",
       "  <thead>\n",
       "    <tr style=\"text-align: right;\">\n",
       "      <th></th>\n",
       "      <th>Id</th>\n",
       "      <th>BirthDate</th>\n",
       "      <th>Title</th>\n",
       "    </tr>\n",
       "  </thead>\n",
       "  <tbody>\n",
       "    <tr>\n",
       "      <th>650</th>\n",
       "      <td>10898</td>\n",
       "      <td>1969-09-19</td>\n",
       "      <td>Sales Representative</td>\n",
       "    </tr>\n",
       "    <tr>\n",
       "      <th>711</th>\n",
       "      <td>10959</td>\n",
       "      <td>1995-07-02</td>\n",
       "      <td>Sales Representative</td>\n",
       "    </tr>\n",
       "    <tr>\n",
       "      <th>792</th>\n",
       "      <td>11040</td>\n",
       "      <td>1969-09-19</td>\n",
       "      <td>Sales Representative</td>\n",
       "    </tr>\n",
       "    <tr>\n",
       "      <th>506</th>\n",
       "      <td>10754</td>\n",
       "      <td>1995-07-02</td>\n",
       "      <td>Sales Representative</td>\n",
       "    </tr>\n",
       "    <tr>\n",
       "      <th>720</th>\n",
       "      <td>10968</td>\n",
       "      <td>1980-12-08</td>\n",
       "      <td>Sales Representative</td>\n",
       "    </tr>\n",
       "    <tr>\n",
       "      <th>713</th>\n",
       "      <td>10961</td>\n",
       "      <td>1990-01-09</td>\n",
       "      <td>Inside Sales Coordinator</td>\n",
       "    </tr>\n",
       "    <tr>\n",
       "      <th>383</th>\n",
       "      <td>10631</td>\n",
       "      <td>1990-01-09</td>\n",
       "      <td>Inside Sales Coordinator</td>\n",
       "    </tr>\n",
       "    <tr>\n",
       "      <th>508</th>\n",
       "      <td>10756</td>\n",
       "      <td>1990-01-09</td>\n",
       "      <td>Inside Sales Coordinator</td>\n",
       "    </tr>\n",
       "    <tr>\n",
       "      <th>359</th>\n",
       "      <td>10607</td>\n",
       "      <td>1987-03-04</td>\n",
       "      <td>Sales Manager</td>\n",
       "    </tr>\n",
       "    <tr>\n",
       "      <th>679</th>\n",
       "      <td>10927</td>\n",
       "      <td>1969-09-19</td>\n",
       "      <td>Sales Representative</td>\n",
       "    </tr>\n",
       "  </tbody>\n",
       "</table>\n",
       "</div>"
      ],
      "text/plain": [
       "        Id   BirthDate                     Title\n",
       "650  10898  1969-09-19      Sales Representative\n",
       "711  10959  1995-07-02      Sales Representative\n",
       "792  11040  1969-09-19      Sales Representative\n",
       "506  10754  1995-07-02      Sales Representative\n",
       "720  10968  1980-12-08      Sales Representative\n",
       "713  10961  1990-01-09  Inside Sales Coordinator\n",
       "383  10631  1990-01-09  Inside Sales Coordinator\n",
       "508  10756  1990-01-09  Inside Sales Coordinator\n",
       "359  10607  1987-03-04             Sales Manager\n",
       "679  10927  1969-09-19      Sales Representative"
      ]
     },
     "metadata": {},
     "output_type": "display_data"
    },
    {
     "data": {
      "text/plain": [
       "array(['1987-03-04', '1995-07-02', '1969-09-19', '1995-08-30',\n",
       "       '1998-01-27', '1980-12-08', '1990-01-09', '1984-02-19',\n",
       "       '1992-05-29'], dtype=object)"
      ]
     },
     "execution_count": 35,
     "metadata": {},
     "output_type": "execute_result"
    }
   ],
   "source": [
    "#SQL query selecting quantity ordered and discount\n",
    "x = \"\"\"SELECT o.Id, e.BirthDate, e.Title\n",
    "       FROM [Order] AS o\n",
    "       JOIN Employee AS e ON o.EmployeeId = e.Id\n",
    "       ;\"\"\"\n",
    "q3 = pd.read_sql_query(x, conn)\n",
    "display(q3.sample(10))\n",
    "q3.BirthDate.unique()"
   ]
  },
  {
   "cell_type": "code",
   "execution_count": 36,
   "metadata": {},
   "outputs": [
    {
     "data": {
      "text/html": [
       "<div>\n",
       "<style scoped>\n",
       "    .dataframe tbody tr th:only-of-type {\n",
       "        vertical-align: middle;\n",
       "    }\n",
       "\n",
       "    .dataframe tbody tr th {\n",
       "        vertical-align: top;\n",
       "    }\n",
       "\n",
       "    .dataframe thead th {\n",
       "        text-align: right;\n",
       "    }\n",
       "</style>\n",
       "<table border=\"1\" class=\"dataframe\">\n",
       "  <thead>\n",
       "    <tr style=\"text-align: right;\">\n",
       "      <th></th>\n",
       "      <th>Id</th>\n",
       "      <th>BirthDate</th>\n",
       "      <th>Title</th>\n",
       "    </tr>\n",
       "  </thead>\n",
       "  <tbody>\n",
       "    <tr>\n",
       "      <th>65</th>\n",
       "      <td>10313</td>\n",
       "      <td>1984</td>\n",
       "      <td>Vice President, Sales</td>\n",
       "    </tr>\n",
       "    <tr>\n",
       "      <th>423</th>\n",
       "      <td>10671</td>\n",
       "      <td>1980</td>\n",
       "      <td>Sales Representative</td>\n",
       "    </tr>\n",
       "    <tr>\n",
       "      <th>785</th>\n",
       "      <td>11033</td>\n",
       "      <td>1992</td>\n",
       "      <td>Sales Representative</td>\n",
       "    </tr>\n",
       "    <tr>\n",
       "      <th>674</th>\n",
       "      <td>10922</td>\n",
       "      <td>1987</td>\n",
       "      <td>Sales Manager</td>\n",
       "    </tr>\n",
       "    <tr>\n",
       "      <th>292</th>\n",
       "      <td>10540</td>\n",
       "      <td>1995</td>\n",
       "      <td>Sales Representative</td>\n",
       "    </tr>\n",
       "  </tbody>\n",
       "</table>\n",
       "</div>"
      ],
      "text/plain": [
       "        Id BirthDate                  Title\n",
       "65   10313      1984  Vice President, Sales\n",
       "423  10671      1980   Sales Representative\n",
       "785  11033      1992   Sales Representative\n",
       "674  10922      1987          Sales Manager\n",
       "292  10540      1995   Sales Representative"
      ]
     },
     "execution_count": 36,
     "metadata": {},
     "output_type": "execute_result"
    }
   ],
   "source": [
    "#for loop slicing BirthDate column values\n",
    "for idx, x in enumerate(q3.BirthDate):\n",
    "    q3.loc[idx, 'BirthDate'] = q3.iloc[idx]['BirthDate'][0:4]\n",
    "q3.sample(5)"
   ]
  },
  {
   "cell_type": "code",
   "execution_count": 37,
   "metadata": {},
   "outputs": [],
   "source": [
    "newc = ['1969', '1980', '1984', '1987', '1990', '1992', '1995', '1998']\n",
    "count = 0\n",
    "x = []\n",
    "#while loop with nested for loop to count number of orders received by employees born in each year in the list above\n",
    "while count <= (len(newc)-1):\n",
    "    for idx, ele in enumerate(q3.BirthDate):\n",
    "        if ele == newc[count]:\n",
    "            x.append(q3.iloc[idx]['Title'])\n",
    "            count += 1\n",
    "            break\n",
    "        else:\n",
    "            pass"
   ]
  },
  {
   "cell_type": "code",
   "execution_count": 38,
   "metadata": {},
   "outputs": [],
   "source": [
    "#creating series to later put in dictionary\n",
    "z = q3.groupby('BirthDate').count()['Id'].reset_index(drop=True)\n",
    "x = pd.Series(x)\n",
    "y = pd.Series(q3.groupby('BirthDate').count().index)"
   ]
  },
  {
   "cell_type": "code",
   "execution_count": 39,
   "metadata": {},
   "outputs": [
    {
     "data": {
      "text/html": [
       "<div>\n",
       "<style scoped>\n",
       "    .dataframe tbody tr th:only-of-type {\n",
       "        vertical-align: middle;\n",
       "    }\n",
       "\n",
       "    .dataframe tbody tr th {\n",
       "        vertical-align: top;\n",
       "    }\n",
       "\n",
       "    .dataframe thead th {\n",
       "        text-align: right;\n",
       "    }\n",
       "</style>\n",
       "<table border=\"1\" class=\"dataframe\">\n",
       "  <thead>\n",
       "    <tr style=\"text-align: right;\">\n",
       "      <th></th>\n",
       "      <th>Count</th>\n",
       "      <th>Birthdate</th>\n",
       "      <th>Title</th>\n",
       "    </tr>\n",
       "  </thead>\n",
       "  <tbody>\n",
       "    <tr>\n",
       "      <th>0</th>\n",
       "      <td>156</td>\n",
       "      <td>1969</td>\n",
       "      <td>Sales Representative</td>\n",
       "    </tr>\n",
       "    <tr>\n",
       "      <th>1</th>\n",
       "      <td>123</td>\n",
       "      <td>1980</td>\n",
       "      <td>Sales Representative</td>\n",
       "    </tr>\n",
       "    <tr>\n",
       "      <th>2</th>\n",
       "      <td>96</td>\n",
       "      <td>1984</td>\n",
       "      <td>Vice President, Sales</td>\n",
       "    </tr>\n",
       "    <tr>\n",
       "      <th>3</th>\n",
       "      <td>42</td>\n",
       "      <td>1987</td>\n",
       "      <td>Sales Manager</td>\n",
       "    </tr>\n",
       "    <tr>\n",
       "      <th>4</th>\n",
       "      <td>104</td>\n",
       "      <td>1990</td>\n",
       "      <td>Inside Sales Coordinator</td>\n",
       "    </tr>\n",
       "    <tr>\n",
       "      <th>5</th>\n",
       "      <td>72</td>\n",
       "      <td>1992</td>\n",
       "      <td>Sales Representative</td>\n",
       "    </tr>\n",
       "    <tr>\n",
       "      <th>6</th>\n",
       "      <td>194</td>\n",
       "      <td>1995</td>\n",
       "      <td>Sales Representative</td>\n",
       "    </tr>\n",
       "    <tr>\n",
       "      <th>7</th>\n",
       "      <td>43</td>\n",
       "      <td>1998</td>\n",
       "      <td>Sales Representative</td>\n",
       "    </tr>\n",
       "  </tbody>\n",
       "</table>\n",
       "</div>"
      ],
      "text/plain": [
       "   Count Birthdate                     Title\n",
       "0    156      1969      Sales Representative\n",
       "1    123      1980      Sales Representative\n",
       "2     96      1984     Vice President, Sales\n",
       "3     42      1987             Sales Manager\n",
       "4    104      1990  Inside Sales Coordinator\n",
       "5     72      1992      Sales Representative\n",
       "6    194      1995      Sales Representative\n",
       "7     43      1998      Sales Representative"
      ]
     },
     "execution_count": 39,
     "metadata": {},
     "output_type": "execute_result"
    }
   ],
   "source": [
    "#creating new dataframe using pd.DataFrame\n",
    "dic = { 'Count': z, 'Birthdate': y, 'Title': x} \n",
    "q3 = pd.DataFrame(dic)\n",
    "q3"
   ]
  },
  {
   "cell_type": "markdown",
   "metadata": {},
   "source": [
    "We know that there are 9 employees in Northwind Traders, where two employees are born in 1995 and their title's are the same. Therefore, it makes sense that 1995 has the most orders received. However, we can see that the employee born before the 70s has the second highest and then the rest are relatively close to each other. Although, most of highest counts look to be from older employees."
   ]
  },
  {
   "cell_type": "code",
   "execution_count": 40,
   "metadata": {},
   "outputs": [
    {
     "data": {
      "text/html": [
       "<div>\n",
       "<style scoped>\n",
       "    .dataframe tbody tr th:only-of-type {\n",
       "        vertical-align: middle;\n",
       "    }\n",
       "\n",
       "    .dataframe tbody tr th {\n",
       "        vertical-align: top;\n",
       "    }\n",
       "\n",
       "    .dataframe thead th {\n",
       "        text-align: right;\n",
       "    }\n",
       "</style>\n",
       "<table border=\"1\" class=\"dataframe\">\n",
       "  <thead>\n",
       "    <tr style=\"text-align: right;\">\n",
       "      <th></th>\n",
       "      <th>sum_sq</th>\n",
       "      <th>df</th>\n",
       "      <th>F</th>\n",
       "      <th>PR(&gt;F)</th>\n",
       "    </tr>\n",
       "  </thead>\n",
       "  <tbody>\n",
       "    <tr>\n",
       "      <th>C(Decade)</th>\n",
       "      <td>3572.75</td>\n",
       "      <td>2.0</td>\n",
       "      <td>0.549831</td>\n",
       "      <td>0.60836</td>\n",
       "    </tr>\n",
       "    <tr>\n",
       "      <th>Residual</th>\n",
       "      <td>16244.75</td>\n",
       "      <td>5.0</td>\n",
       "      <td>NaN</td>\n",
       "      <td>NaN</td>\n",
       "    </tr>\n",
       "  </tbody>\n",
       "</table>\n",
       "</div>"
      ],
      "text/plain": [
       "             sum_sq   df         F   PR(>F)\n",
       "C(Decade)   3572.75  2.0  0.549831  0.60836\n",
       "Residual   16244.75  5.0       NaN      NaN"
      ]
     },
     "metadata": {},
     "output_type": "display_data"
    },
    {
     "data": {
      "text/html": [
       "<table class=\"simpletable\">\n",
       "<caption>Multiple Comparison of Means - Tukey HSD,FWER=0.05</caption>\n",
       "<tr>\n",
       "  <th>group1</th> <th>group2</th> <th>meandiff</th>   <th>lower</th>     <th>upper</th>  <th>reject</th>\n",
       "</tr>\n",
       "<tr>\n",
       "   <td>60.0</td>   <td>80.0</td>    <td>-69.0</td>  <td>-282.9034</td> <td>144.9034</td>  <td>False</td>\n",
       "</tr>\n",
       "<tr>\n",
       "   <td>60.0</td>   <td>90.0</td>   <td>-52.75</td>  <td>-259.8611</td> <td>154.3611</td>  <td>False</td>\n",
       "</tr>\n",
       "<tr>\n",
       "   <td>80.0</td>   <td>90.0</td>    <td>16.25</td>  <td>-125.2338</td> <td>157.7338</td>  <td>False</td>\n",
       "</tr>\n",
       "</table>"
      ],
      "text/plain": [
       "<class 'statsmodels.iolib.table.SimpleTable'>"
      ]
     },
     "metadata": {},
     "output_type": "display_data"
    },
    {
     "data": {
      "image/png": "[encoded data removed]",
      "text/plain": [
       "<Figure size 720x432 with 1 Axes>"
      ]
     },
     "metadata": {
      "needs_background": "light"
     },
     "output_type": "display_data"
    }
   ],
   "source": [
    "q3.Birthdate = q3.Birthdate.astype(int)\n",
    "#for loop replacing Birthdate column with int value if it falls within certain range\n",
    "for idx, x in enumerate(q3.Birthdate):\n",
    "    if x < 1970:\n",
    "        q3.loc[idx, 'Decade'] = 60\n",
    "    if 1970 <= x < 1990:\n",
    "        q3.loc[idx, 'Decade'] = 80\n",
    "    if 1990 <= x:\n",
    "        q3.loc[idx, 'Decade'] = 90\n",
    "#one-way ANOVA test\n",
    "f = 'Count ~ C(Decade)'\n",
    "lm = ols(f, q3).fit()\n",
    "table = sm.stats.anova_lm(lm, typ=2)\n",
    "display(table)\n",
    "#pairwise tukey test\n",
    "tukey_results = pairwise_tukeyhsd(q3['Count'], q3['Decade'])\n",
    "display(tukey_results.summary())\n",
    "tukey_results.plot_simultaneous().show()"
   ]
  },
  {
   "cell_type": "markdown",
   "metadata": {},
   "source": [
    "From both our ANOVA test and Tukey test, we cannot reject the null hypothesis that the different decades significantly affect the number of orders received. Therefore, we cannot confirm that there is a significant difference in order count due to age of employee."
   ]
  },
  {
   "cell_type": "markdown",
   "metadata": {},
   "source": [
    "### Does having a managerial position in Northwind have a statistically significant effect on number of orders recieved?\n",
    "\n",
    "$H_0$: there is no significant difference in total sum of orders processed due to the employee receiving order having a managerial position  \n",
    "$H_\\alpha$: there is a significant difference in total sum of orders processed due to the employee receiving order having a managerial position"
   ]
  },
  {
   "cell_type": "code",
   "execution_count": 41,
   "metadata": {},
   "outputs": [
    {
     "data": {
      "text/html": [
       "<div>\n",
       "<style scoped>\n",
       "    .dataframe tbody tr th:only-of-type {\n",
       "        vertical-align: middle;\n",
       "    }\n",
       "\n",
       "    .dataframe tbody tr th {\n",
       "        vertical-align: top;\n",
       "    }\n",
       "\n",
       "    .dataframe thead th {\n",
       "        text-align: right;\n",
       "    }\n",
       "</style>\n",
       "<table border=\"1\" class=\"dataframe\">\n",
       "  <thead>\n",
       "    <tr style=\"text-align: right;\">\n",
       "      <th></th>\n",
       "      <th>sum_sq</th>\n",
       "      <th>df</th>\n",
       "      <th>F</th>\n",
       "      <th>PR(&gt;F)</th>\n",
       "    </tr>\n",
       "  </thead>\n",
       "  <tbody>\n",
       "    <tr>\n",
       "      <th>C(Management)</th>\n",
       "      <td>3220.166667</td>\n",
       "      <td>1.0</td>\n",
       "      <td>1.164103</td>\n",
       "      <td>0.322068</td>\n",
       "    </tr>\n",
       "    <tr>\n",
       "      <th>Residual</th>\n",
       "      <td>16597.333333</td>\n",
       "      <td>6.0</td>\n",
       "      <td>NaN</td>\n",
       "      <td>NaN</td>\n",
       "    </tr>\n",
       "  </tbody>\n",
       "</table>\n",
       "</div>"
      ],
      "text/plain": [
       "                     sum_sq   df         F    PR(>F)\n",
       "C(Management)   3220.166667  1.0  1.164103  0.322068\n",
       "Residual       16597.333333  6.0       NaN       NaN"
      ]
     },
     "metadata": {},
     "output_type": "display_data"
    },
    {
     "data": {
      "text/html": [
       "<table class=\"simpletable\">\n",
       "<caption>Multiple Comparison of Means - Tukey HSD,FWER=0.05</caption>\n",
       "<tr>\n",
       "  <th>group1</th> <th>group2</th> <th>meandiff</th>   <th>lower</th>    <th>upper</th>  <th>reject</th>\n",
       "</tr>\n",
       "<tr>\n",
       "   <td>False</td>  <td>True</td>  <td>-46.3333</td> <td>-151.4124</td> <td>58.7457</td>  <td>False</td>\n",
       "</tr>\n",
       "</table>"
      ],
      "text/plain": [
       "<class 'statsmodels.iolib.table.SimpleTable'>"
      ]
     },
     "metadata": {},
     "output_type": "display_data"
    }
   ],
   "source": [
    "#for loop looping through Title column and creating new boolean column\n",
    "for idx, x in enumerate(q3.Title):\n",
    "    if 'Manager' in x or 'President' in x:\n",
    "        q3.loc[idx, 'Management'] = True\n",
    "    else:\n",
    "        q3.loc[idx, 'Management'] = False\n",
    "#one-way ANOVA test\n",
    "f = 'Count ~ C(Management)'\n",
    "lm = ols(f, q3).fit()\n",
    "table = sm.stats.anova_lm(lm, typ=2)\n",
    "display(table)\n",
    "#pairwise tukey test\n",
    "tukey_results = pairwise_tukeyhsd(q3['Count'], q3['Management'])\n",
    "display(tukey_results.summary())"
   ]
  },
  {
   "cell_type": "markdown",
   "metadata": {},
   "source": [
    "Similarly to age, from both our ANOVA test and Tukey test, we cannot reject the null hypothesis that having a managerial position in Northwind has a significant effect on order count."
   ]
  },
  {
   "cell_type": "markdown",
   "metadata": {},
   "source": [
    "### Does the age of the employee have a statistically significant effect on the quantity of a product in an order?\n",
    "\n",
    "$H_0$: there is no significant difference in quantity ordered due employee age  \n",
    "$H_\\alpha$: there is a significant difference in order quantity ordered due to employee age"
   ]
  },
  {
   "cell_type": "code",
   "execution_count": 42,
   "metadata": {},
   "outputs": [
    {
     "data": {
      "text/html": [
       "<div>\n",
       "<style scoped>\n",
       "    .dataframe tbody tr th:only-of-type {\n",
       "        vertical-align: middle;\n",
       "    }\n",
       "\n",
       "    .dataframe tbody tr th {\n",
       "        vertical-align: top;\n",
       "    }\n",
       "\n",
       "    .dataframe thead th {\n",
       "        text-align: right;\n",
       "    }\n",
       "</style>\n",
       "<table border=\"1\" class=\"dataframe\">\n",
       "  <thead>\n",
       "    <tr style=\"text-align: right;\">\n",
       "      <th></th>\n",
       "      <th>Quantity</th>\n",
       "      <th>BirthDate</th>\n",
       "      <th>Title</th>\n",
       "      <th>ContactTitle</th>\n",
       "    </tr>\n",
       "  </thead>\n",
       "  <tbody>\n",
       "    <tr>\n",
       "      <th>749</th>\n",
       "      <td>9</td>\n",
       "      <td>1980</td>\n",
       "      <td>Sales Representative</td>\n",
       "      <td>Sales Manager</td>\n",
       "    </tr>\n",
       "    <tr>\n",
       "      <th>896</th>\n",
       "      <td>24</td>\n",
       "      <td>1990</td>\n",
       "      <td>Inside Sales Coordinator</td>\n",
       "      <td>Owner</td>\n",
       "    </tr>\n",
       "    <tr>\n",
       "      <th>891</th>\n",
       "      <td>30</td>\n",
       "      <td>1995</td>\n",
       "      <td>Sales Representative</td>\n",
       "      <td>Sales Representative</td>\n",
       "    </tr>\n",
       "    <tr>\n",
       "      <th>480</th>\n",
       "      <td>12</td>\n",
       "      <td>1990</td>\n",
       "      <td>Inside Sales Coordinator</td>\n",
       "      <td>Sales Representative</td>\n",
       "    </tr>\n",
       "    <tr>\n",
       "      <th>1549</th>\n",
       "      <td>4</td>\n",
       "      <td>1984</td>\n",
       "      <td>Vice President, Sales</td>\n",
       "      <td>Sales Representative</td>\n",
       "    </tr>\n",
       "  </tbody>\n",
       "</table>\n",
       "</div>"
      ],
      "text/plain": [
       "      Quantity BirthDate                     Title          ContactTitle\n",
       "749          9      1980      Sales Representative         Sales Manager\n",
       "896         24      1990  Inside Sales Coordinator                 Owner\n",
       "891         30      1995      Sales Representative  Sales Representative\n",
       "480         12      1990  Inside Sales Coordinator  Sales Representative\n",
       "1549         4      1984     Vice President, Sales  Sales Representative"
      ]
     },
     "execution_count": 42,
     "metadata": {},
     "output_type": "execute_result"
    }
   ],
   "source": [
    "#SQL query selecting quantity ordered and discount\n",
    "x = \"\"\"SELECT od.Quantity, e.BirthDate, e.Title, c.ContactTitle\n",
    "       FROM OrderDetail AS od\n",
    "       JOIN [Order] AS o ON od.OrderId = o.Id\n",
    "       JOIN Employee AS e ON o.EmployeeId = e.Id\n",
    "       JOIN Customer AS c ON o.CustomerId = c.Id\n",
    "       ;\"\"\"\n",
    "q3 = pd.read_sql_query(x, conn)\n",
    "q3.sample(10)\n",
    "#for loop slicing Birthdate column values\n",
    "for idx, x in enumerate(q3.BirthDate):\n",
    "    q3.loc[idx, 'BirthDate'] = q3.iloc[idx]['BirthDate'][0:4]\n",
    "q3.sample(5)"
   ]
  },
  {
   "cell_type": "code",
   "execution_count": 43,
   "metadata": {
    "scrolled": false
   },
   "outputs": [
    {
     "data": {
      "text/html": [
       "<div>\n",
       "<style scoped>\n",
       "    .dataframe tbody tr th:only-of-type {\n",
       "        vertical-align: middle;\n",
       "    }\n",
       "\n",
       "    .dataframe tbody tr th {\n",
       "        vertical-align: top;\n",
       "    }\n",
       "\n",
       "    .dataframe thead th {\n",
       "        text-align: right;\n",
       "    }\n",
       "</style>\n",
       "<table border=\"1\" class=\"dataframe\">\n",
       "  <thead>\n",
       "    <tr style=\"text-align: right;\">\n",
       "      <th></th>\n",
       "      <th>sum_sq</th>\n",
       "      <th>df</th>\n",
       "      <th>F</th>\n",
       "      <th>PR(&gt;F)</th>\n",
       "    </tr>\n",
       "  </thead>\n",
       "  <tbody>\n",
       "    <tr>\n",
       "      <th>C(BirthDate)</th>\n",
       "      <td>4290.687970</td>\n",
       "      <td>7.0</td>\n",
       "      <td>1.67501</td>\n",
       "      <td>0.110648</td>\n",
       "    </tr>\n",
       "    <tr>\n",
       "      <th>Residual</th>\n",
       "      <td>757498.450144</td>\n",
       "      <td>2070.0</td>\n",
       "      <td>NaN</td>\n",
       "      <td>NaN</td>\n",
       "    </tr>\n",
       "  </tbody>\n",
       "</table>\n",
       "</div>"
      ],
      "text/plain": [
       "                     sum_sq      df        F    PR(>F)\n",
       "C(BirthDate)    4290.687970     7.0  1.67501  0.110648\n",
       "Residual      757498.450144  2070.0      NaN       NaN"
      ]
     },
     "metadata": {},
     "output_type": "display_data"
    },
    {
     "data": {
      "text/html": [
       "<table class=\"simpletable\">\n",
       "<caption>Multiple Comparison of Means - Tukey HSD,FWER=0.05</caption>\n",
       "<tr>\n",
       "  <th>group1</th> <th>group2</th> <th>meandiff</th>   <th>lower</th>   <th>upper</th>  <th>reject</th>\n",
       "</tr>\n",
       "<tr>\n",
       "   <td>1969</td>   <td>1980</td>   <td>-0.7209</td>  <td>-4.9793</td> <td>3.5376</td>   <td>False</td>\n",
       "</tr>\n",
       "<tr>\n",
       "   <td>1969</td>   <td>1984</td>   <td>1.7812</td>   <td>-2.959</td>  <td>6.5214</td>   <td>False</td>\n",
       "</tr>\n",
       "<tr>\n",
       "   <td>1969</td>   <td>1987</td>   <td>1.9355</td>   <td>-4.2342</td> <td>8.1053</td>   <td>False</td>\n",
       "</tr>\n",
       "<tr>\n",
       "   <td>1969</td>   <td>1990</td>   <td>-0.8272</td>  <td>-5.5004</td>  <td>3.846</td>   <td>False</td>\n",
       "</tr>\n",
       "<tr>\n",
       "   <td>1969</td>   <td>1992</td>   <td>4.4196</td>   <td>-1.1223</td> <td>9.9615</td>   <td>False</td>\n",
       "</tr>\n",
       "<tr>\n",
       "   <td>1969</td>   <td>1995</td>   <td>-0.185</td>   <td>-4.1046</td> <td>3.7345</td>   <td>False</td>\n",
       "</tr>\n",
       "<tr>\n",
       "   <td>1969</td>   <td>1998</td>   <td>1.4729</td>   <td>-4.8309</td> <td>7.7766</td>   <td>False</td>\n",
       "</tr>\n",
       "<tr>\n",
       "   <td>1980</td>   <td>1984</td>   <td>2.5021</td>   <td>-2.4062</td> <td>7.4104</td>   <td>False</td>\n",
       "</tr>\n",
       "<tr>\n",
       "   <td>1980</td>   <td>1987</td>   <td>2.6564</td>   <td>-3.6434</td> <td>8.9562</td>   <td>False</td>\n",
       "</tr>\n",
       "<tr>\n",
       "   <td>1980</td>   <td>1990</td>   <td>-0.1063</td>   <td>-4.95</td>  <td>4.7373</td>   <td>False</td>\n",
       "</tr>\n",
       "<tr>\n",
       "   <td>1980</td>   <td>1992</td>   <td>5.1405</td>   <td>-0.5459</td> <td>10.8268</td>  <td>False</td>\n",
       "</tr>\n",
       "<tr>\n",
       "   <td>1980</td>   <td>1995</td>   <td>0.5358</td>   <td>-3.5854</td> <td>4.6571</td>   <td>False</td>\n",
       "</tr>\n",
       "<tr>\n",
       "   <td>1980</td>   <td>1998</td>   <td>2.1937</td>   <td>-4.2374</td> <td>8.6249</td>   <td>False</td>\n",
       "</tr>\n",
       "<tr>\n",
       "   <td>1984</td>   <td>1987</td>   <td>0.1543</td>   <td>-6.4806</td> <td>6.7893</td>   <td>False</td>\n",
       "</tr>\n",
       "<tr>\n",
       "   <td>1984</td>   <td>1990</td>   <td>-2.6084</td>  <td>-7.8805</td> <td>2.6638</td>   <td>False</td>\n",
       "</tr>\n",
       "<tr>\n",
       "   <td>1984</td>   <td>1992</td>   <td>2.6384</td>   <td>-3.4172</td> <td>8.6939</td>   <td>False</td>\n",
       "</tr>\n",
       "<tr>\n",
       "   <td>1984</td>   <td>1995</td>   <td>-1.9662</td>  <td>-6.5836</td> <td>2.6511</td>   <td>False</td>\n",
       "</tr>\n",
       "<tr>\n",
       "   <td>1984</td>   <td>1998</td>   <td>-0.3083</td>  <td>-7.0681</td> <td>6.4514</td>   <td>False</td>\n",
       "</tr>\n",
       "<tr>\n",
       "   <td>1987</td>   <td>1990</td>   <td>-2.7627</td>   <td>-9.35</td>  <td>3.8246</td>   <td>False</td>\n",
       "</tr>\n",
       "<tr>\n",
       "   <td>1987</td>   <td>1992</td>   <td>2.4841</td>   <td>-4.7455</td> <td>9.7136</td>   <td>False</td>\n",
       "</tr>\n",
       "<tr>\n",
       "   <td>1987</td>   <td>1995</td>   <td>-2.1206</td>  <td>-8.1964</td> <td>3.9553</td>   <td>False</td>\n",
       "</tr>\n",
       "<tr>\n",
       "   <td>1987</td>   <td>1998</td>   <td>-0.4627</td>  <td>-8.2915</td> <td>7.3662</td>   <td>False</td>\n",
       "</tr>\n",
       "<tr>\n",
       "   <td>1990</td>   <td>1992</td>   <td>5.2468</td>   <td>-0.7565</td>  <td>11.25</td>   <td>False</td>\n",
       "</tr>\n",
       "<tr>\n",
       "   <td>1990</td>   <td>1995</td>   <td>0.6421</td>   <td>-3.9064</td> <td>5.1907</td>   <td>False</td>\n",
       "</tr>\n",
       "<tr>\n",
       "   <td>1990</td>   <td>1998</td>     <td>2.3</td>    <td>-4.4129</td>  <td>9.013</td>   <td>False</td>\n",
       "</tr>\n",
       "<tr>\n",
       "   <td>1992</td>   <td>1995</td>   <td>-4.6046</td> <td>-10.0418</td> <td>0.8326</td>   <td>False</td>\n",
       "</tr>\n",
       "<tr>\n",
       "   <td>1992</td>   <td>1998</td>   <td>-2.9467</td>  <td>-10.291</td> <td>4.3975</td>   <td>False</td>\n",
       "</tr>\n",
       "<tr>\n",
       "   <td>1995</td>   <td>1998</td>   <td>1.6579</td>   <td>-4.554</td>  <td>7.8698</td>   <td>False</td>\n",
       "</tr>\n",
       "</table>"
      ],
      "text/plain": [
       "<class 'statsmodels.iolib.table.SimpleTable'>"
      ]
     },
     "metadata": {},
     "output_type": "display_data"
    },
    {
     "data": {
      "image/png": "[encoded data removed]",
      "text/plain": [
       "<Figure size 720x432 with 1 Axes>"
      ]
     },
     "metadata": {
      "needs_background": "light"
     },
     "output_type": "display_data"
    }
   ],
   "source": [
    "#one-way ANOVA test\n",
    "f = 'Quantity ~ C(BirthDate)'\n",
    "lm = ols(f, q3).fit()\n",
    "table = sm.stats.anova_lm(lm, typ=2)\n",
    "display(table)\n",
    "#pairwise tukey test\n",
    "tukey_results = pairwise_tukeyhsd(q3['Quantity'], q3['BirthDate'])\n",
    "display(tukey_results.summary())\n",
    "tukey_results.plot_simultaneous().show()"
   ]
  },
  {
   "cell_type": "markdown",
   "metadata": {},
   "source": [
    "From both our ANOVA test and Tukey test, we cannot reject the null hypothesis that age of employee has a significant effect on quantity ordered."
   ]
  },
  {
   "cell_type": "markdown",
   "metadata": {},
   "source": [
    "### Does having manager in your title have a statistically significant effect on quantity ordered by the customer?\n",
    "\n",
    "$H_0$: there is no significant difference in quantity ordered due to the employee making order having a managerial position  \n",
    "$H_\\alpha$: there is a significant difference in order quantity ordered due to the employee making order having a managerial position"
   ]
  },
  {
   "cell_type": "code",
   "execution_count": 44,
   "metadata": {},
   "outputs": [
    {
     "data": {
      "text/html": [
       "<div>\n",
       "<style scoped>\n",
       "    .dataframe tbody tr th:only-of-type {\n",
       "        vertical-align: middle;\n",
       "    }\n",
       "\n",
       "    .dataframe tbody tr th {\n",
       "        vertical-align: top;\n",
       "    }\n",
       "\n",
       "    .dataframe thead th {\n",
       "        text-align: right;\n",
       "    }\n",
       "</style>\n",
       "<table border=\"1\" class=\"dataframe\">\n",
       "  <thead>\n",
       "    <tr style=\"text-align: right;\">\n",
       "      <th></th>\n",
       "      <th>sum_sq</th>\n",
       "      <th>df</th>\n",
       "      <th>F</th>\n",
       "      <th>PR(&gt;F)</th>\n",
       "    </tr>\n",
       "  </thead>\n",
       "  <tbody>\n",
       "    <tr>\n",
       "      <th>C(Manager)</th>\n",
       "      <td>9585.082472</td>\n",
       "      <td>1.0</td>\n",
       "      <td>26.453768</td>\n",
       "      <td>2.952829e-07</td>\n",
       "    </tr>\n",
       "    <tr>\n",
       "      <th>Residual</th>\n",
       "      <td>752204.055641</td>\n",
       "      <td>2076.0</td>\n",
       "      <td>NaN</td>\n",
       "      <td>NaN</td>\n",
       "    </tr>\n",
       "  </tbody>\n",
       "</table>\n",
       "</div>"
      ],
      "text/plain": [
       "                   sum_sq      df          F        PR(>F)\n",
       "C(Manager)    9585.082472     1.0  26.453768  2.952829e-07\n",
       "Residual    752204.055641  2076.0        NaN           NaN"
      ]
     },
     "metadata": {},
     "output_type": "display_data"
    },
    {
     "data": {
      "text/html": [
       "<table class=\"simpletable\">\n",
       "<caption>Multiple Comparison of Means - Tukey HSD,FWER=0.05</caption>\n",
       "<tr>\n",
       "  <th>group1</th> <th>group2</th> <th>meandiff</th>  <th>lower</th>  <th>upper</th> <th>reject</th>\n",
       "</tr>\n",
       "<tr>\n",
       "   <td>False</td>  <td>True</td>   <td>4.3781</td>  <td>2.7088</td> <td>6.0475</td>  <td>True</td> \n",
       "</tr>\n",
       "</table>"
      ],
      "text/plain": [
       "<class 'statsmodels.iolib.table.SimpleTable'>"
      ]
     },
     "metadata": {},
     "output_type": "display_data"
    }
   ],
   "source": [
    "#for loop looping through ContactTitle column and creating new boolean column\n",
    "for idx, x in enumerate(q3.ContactTitle):\n",
    "    if 'Manager' in x:\n",
    "        q3.loc[idx, 'Manager'] = True\n",
    "    else:\n",
    "        q3.loc[idx, 'Manager'] = False\n",
    "#one-way ANOVA test\n",
    "f = 'Quantity ~ C(Manager)'\n",
    "lm = ols(f, q3).fit()\n",
    "table = sm.stats.anova_lm(lm, typ=2)\n",
    "display(table)\n",
    "#pairwise tukey test\n",
    "tukey_results = pairwise_tukeyhsd(q3['Quantity'], q3['Manager'])\n",
    "display(tukey_results.summary())"
   ]
  },
  {
   "cell_type": "code",
   "execution_count": 45,
   "metadata": {},
   "outputs": [
    {
     "name": "stdout",
     "output_type": "stream",
     "text": [
      "0.2299990158917602\n"
     ]
    }
   ],
   "source": [
    "#new dataframes where Manager is specific value\n",
    "q3man = q3.loc[q3['Manager'] == True]\n",
    "q3noman = q3.loc[q3['Manager'] == False]\n",
    "#run cohen's d function\n",
    "print(cohens_d(q3man['Quantity'], q3noman['Quantity']))"
   ]
  },
  {
   "cell_type": "markdown",
   "metadata": {},
   "source": [
    "We conclude that we may reject our null hypothesis that a customer whose title is manager has no significant effect on quantity ordered. From our Tukey test, we find a difference of 4.38 more units ordered for customers in a managerial position. Our effect size is also at 0.23, letting us know the difference in mean is not trivial."
   ]
  },
  {
   "cell_type": "markdown",
   "metadata": {},
   "source": [
    "## Question 4\n",
    "### For each category type of product, does the season in which the order was placed have a statistically significant effect on the quantity of a product in an order?\n",
    "\n",
    "$H_0$: there is no significant difference in quantity ordered due to season in which order was placed  \n",
    "$H_\\alpha$: there is a significant difference in order quantity ordered due to season in which order was placed"
   ]
  },
  {
   "cell_type": "code",
   "execution_count": 74,
   "metadata": {},
   "outputs": [
    {
     "data": {
      "text/html": [
       "<div>\n",
       "<style scoped>\n",
       "    .dataframe tbody tr th:only-of-type {\n",
       "        vertical-align: middle;\n",
       "    }\n",
       "\n",
       "    .dataframe tbody tr th {\n",
       "        vertical-align: top;\n",
       "    }\n",
       "\n",
       "    .dataframe thead th {\n",
       "        text-align: right;\n",
       "    }\n",
       "</style>\n",
       "<table border=\"1\" class=\"dataframe\">\n",
       "  <thead>\n",
       "    <tr style=\"text-align: right;\">\n",
       "      <th></th>\n",
       "      <th>OrderDate</th>\n",
       "      <th>CategoryName</th>\n",
       "      <th>Id</th>\n",
       "      <th>Quantity</th>\n",
       "    </tr>\n",
       "  </thead>\n",
       "  <tbody>\n",
       "    <tr>\n",
       "      <th>0</th>\n",
       "      <td>2012-07-04</td>\n",
       "      <td>Dairy Products</td>\n",
       "      <td>4</td>\n",
       "      <td>12</td>\n",
       "    </tr>\n",
       "    <tr>\n",
       "      <th>1</th>\n",
       "      <td>2012-07-04</td>\n",
       "      <td>Grains/Cereals</td>\n",
       "      <td>5</td>\n",
       "      <td>10</td>\n",
       "    </tr>\n",
       "    <tr>\n",
       "      <th>2</th>\n",
       "      <td>2012-07-04</td>\n",
       "      <td>Dairy Products</td>\n",
       "      <td>4</td>\n",
       "      <td>5</td>\n",
       "    </tr>\n",
       "    <tr>\n",
       "      <th>3</th>\n",
       "      <td>2012-07-05</td>\n",
       "      <td>Produce</td>\n",
       "      <td>7</td>\n",
       "      <td>9</td>\n",
       "    </tr>\n",
       "    <tr>\n",
       "      <th>4</th>\n",
       "      <td>2012-07-05</td>\n",
       "      <td>Produce</td>\n",
       "      <td>7</td>\n",
       "      <td>40</td>\n",
       "    </tr>\n",
       "  </tbody>\n",
       "</table>\n",
       "</div>"
      ],
      "text/plain": [
       "    OrderDate    CategoryName  Id  Quantity\n",
       "0  2012-07-04  Dairy Products   4        12\n",
       "1  2012-07-04  Grains/Cereals   5        10\n",
       "2  2012-07-04  Dairy Products   4         5\n",
       "3  2012-07-05         Produce   7         9\n",
       "4  2012-07-05         Produce   7        40"
      ]
     },
     "metadata": {},
     "output_type": "display_data"
    },
    {
     "data": {
      "text/html": [
       "<div>\n",
       "<style scoped>\n",
       "    .dataframe tbody tr th:only-of-type {\n",
       "        vertical-align: middle;\n",
       "    }\n",
       "\n",
       "    .dataframe tbody tr th {\n",
       "        vertical-align: top;\n",
       "    }\n",
       "\n",
       "    .dataframe thead th {\n",
       "        text-align: right;\n",
       "    }\n",
       "</style>\n",
       "<table border=\"1\" class=\"dataframe\">\n",
       "  <thead>\n",
       "    <tr style=\"text-align: right;\">\n",
       "      <th></th>\n",
       "      <th>Id</th>\n",
       "      <th>Quantity</th>\n",
       "    </tr>\n",
       "    <tr>\n",
       "      <th>CategoryName</th>\n",
       "      <th></th>\n",
       "      <th></th>\n",
       "    </tr>\n",
       "  </thead>\n",
       "  <tbody>\n",
       "    <tr>\n",
       "      <th>Beverages</th>\n",
       "      <td>1.0</td>\n",
       "      <td>23.421594</td>\n",
       "    </tr>\n",
       "    <tr>\n",
       "      <th>Condiments</th>\n",
       "      <td>2.0</td>\n",
       "      <td>24.712919</td>\n",
       "    </tr>\n",
       "    <tr>\n",
       "      <th>Confections</th>\n",
       "      <td>3.0</td>\n",
       "      <td>23.800623</td>\n",
       "    </tr>\n",
       "    <tr>\n",
       "      <th>Dairy Products</th>\n",
       "      <td>4.0</td>\n",
       "      <td>25.017143</td>\n",
       "    </tr>\n",
       "    <tr>\n",
       "      <th>Grains/Cereals</th>\n",
       "      <td>5.0</td>\n",
       "      <td>23.452632</td>\n",
       "    </tr>\n",
       "    <tr>\n",
       "      <th>Meat/Poultry</th>\n",
       "      <td>6.0</td>\n",
       "      <td>24.434524</td>\n",
       "    </tr>\n",
       "    <tr>\n",
       "      <th>Produce</th>\n",
       "      <td>7.0</td>\n",
       "      <td>22.136364</td>\n",
       "    </tr>\n",
       "    <tr>\n",
       "      <th>Seafood</th>\n",
       "      <td>8.0</td>\n",
       "      <td>23.699060</td>\n",
       "    </tr>\n",
       "  </tbody>\n",
       "</table>\n",
       "</div>"
      ],
      "text/plain": [
       "                 Id   Quantity\n",
       "CategoryName                  \n",
       "Beverages       1.0  23.421594\n",
       "Condiments      2.0  24.712919\n",
       "Confections     3.0  23.800623\n",
       "Dairy Products  4.0  25.017143\n",
       "Grains/Cereals  5.0  23.452632\n",
       "Meat/Poultry    6.0  24.434524\n",
       "Produce         7.0  22.136364\n",
       "Seafood         8.0  23.699060"
      ]
     },
     "execution_count": 74,
     "metadata": {},
     "output_type": "execute_result"
    }
   ],
   "source": [
    "#SQL query selecting quantity ordered and discount\n",
    "x = \"\"\"SELECT [Order].OrderDate, ca.CategoryName, ca.Id, od.Quantity\n",
    "       FROM OrderDetail AS od\n",
    "       JOIN [Order] ON od.OrderId = [Order].Id\n",
    "       JOIN Product AS p ON od.ProductId = p.Id\n",
    "       JOIN Customer AS c ON c.Id = [Order].CustomerId\n",
    "       JOIN Category AS ca ON p.CategoryId = ca.Id\n",
    "       ;\"\"\"\n",
    "q4 = pd.read_sql_query(x, conn)\n",
    "display(q4.head())\n",
    "#groupby function by Category name\n",
    "q4.groupby('CategoryName').mean()"
   ]
  },
  {
   "cell_type": "markdown",
   "metadata": {},
   "source": [
    "Dairy Products have the highest average quantity ordered per order, whereas Produce has the lowest average quantity ordered per order. However, the difference between the two is 2 units. Almost every type of category is roughly 23-24 units per order."
   ]
  },
  {
   "cell_type": "code",
   "execution_count": 75,
   "metadata": {},
   "outputs": [
    {
     "data": {
      "text/html": [
       "<div>\n",
       "<style scoped>\n",
       "    .dataframe tbody tr th:only-of-type {\n",
       "        vertical-align: middle;\n",
       "    }\n",
       "\n",
       "    .dataframe tbody tr th {\n",
       "        vertical-align: top;\n",
       "    }\n",
       "\n",
       "    .dataframe thead th {\n",
       "        text-align: right;\n",
       "    }\n",
       "</style>\n",
       "<table border=\"1\" class=\"dataframe\">\n",
       "  <thead>\n",
       "    <tr style=\"text-align: right;\">\n",
       "      <th></th>\n",
       "      <th>OrderDate</th>\n",
       "      <th>CategoryName</th>\n",
       "      <th>Id</th>\n",
       "      <th>Quantity</th>\n",
       "      <th>season</th>\n",
       "      <th>Winter</th>\n",
       "      <th>Spring</th>\n",
       "      <th>Summer</th>\n",
       "      <th>Fall</th>\n",
       "    </tr>\n",
       "  </thead>\n",
       "  <tbody>\n",
       "    <tr>\n",
       "      <th>370</th>\n",
       "      <td>2012-12-20</td>\n",
       "      <td>Beverages</td>\n",
       "      <td>1</td>\n",
       "      <td>30</td>\n",
       "      <td>Winter</td>\n",
       "      <td>True</td>\n",
       "      <td>False</td>\n",
       "      <td>False</td>\n",
       "      <td>False</td>\n",
       "    </tr>\n",
       "    <tr>\n",
       "      <th>975</th>\n",
       "      <td>2013-08-12</td>\n",
       "      <td>Beverages</td>\n",
       "      <td>1</td>\n",
       "      <td>25</td>\n",
       "      <td>Summer</td>\n",
       "      <td>False</td>\n",
       "      <td>False</td>\n",
       "      <td>True</td>\n",
       "      <td>False</td>\n",
       "    </tr>\n",
       "    <tr>\n",
       "      <th>1268</th>\n",
       "      <td>2013-11-20</td>\n",
       "      <td>Seafood</td>\n",
       "      <td>8</td>\n",
       "      <td>40</td>\n",
       "      <td>Fall</td>\n",
       "      <td>False</td>\n",
       "      <td>False</td>\n",
       "      <td>False</td>\n",
       "      <td>True</td>\n",
       "    </tr>\n",
       "    <tr>\n",
       "      <th>47</th>\n",
       "      <td>2012-07-24</td>\n",
       "      <td>Beverages</td>\n",
       "      <td>1</td>\n",
       "      <td>35</td>\n",
       "      <td>Summer</td>\n",
       "      <td>False</td>\n",
       "      <td>False</td>\n",
       "      <td>True</td>\n",
       "      <td>False</td>\n",
       "    </tr>\n",
       "    <tr>\n",
       "      <th>838</th>\n",
       "      <td>2013-06-17</td>\n",
       "      <td>Produce</td>\n",
       "      <td>7</td>\n",
       "      <td>11</td>\n",
       "      <td>Summer</td>\n",
       "      <td>False</td>\n",
       "      <td>False</td>\n",
       "      <td>True</td>\n",
       "      <td>False</td>\n",
       "    </tr>\n",
       "    <tr>\n",
       "      <th>135</th>\n",
       "      <td>2012-09-05</td>\n",
       "      <td>Seafood</td>\n",
       "      <td>8</td>\n",
       "      <td>40</td>\n",
       "      <td>Fall</td>\n",
       "      <td>False</td>\n",
       "      <td>False</td>\n",
       "      <td>False</td>\n",
       "      <td>True</td>\n",
       "    </tr>\n",
       "    <tr>\n",
       "      <th>1805</th>\n",
       "      <td>2014-03-25</td>\n",
       "      <td>Condiments</td>\n",
       "      <td>2</td>\n",
       "      <td>16</td>\n",
       "      <td>Spring</td>\n",
       "      <td>False</td>\n",
       "      <td>True</td>\n",
       "      <td>False</td>\n",
       "      <td>False</td>\n",
       "    </tr>\n",
       "    <tr>\n",
       "      <th>358</th>\n",
       "      <td>2012-12-18</td>\n",
       "      <td>Beverages</td>\n",
       "      <td>1</td>\n",
       "      <td>15</td>\n",
       "      <td>Winter</td>\n",
       "      <td>True</td>\n",
       "      <td>False</td>\n",
       "      <td>False</td>\n",
       "      <td>False</td>\n",
       "    </tr>\n",
       "    <tr>\n",
       "      <th>2036</th>\n",
       "      <td>2014-05-05</td>\n",
       "      <td>Confections</td>\n",
       "      <td>3</td>\n",
       "      <td>30</td>\n",
       "      <td>Spring</td>\n",
       "      <td>False</td>\n",
       "      <td>True</td>\n",
       "      <td>False</td>\n",
       "      <td>False</td>\n",
       "    </tr>\n",
       "    <tr>\n",
       "      <th>365</th>\n",
       "      <td>2012-12-19</td>\n",
       "      <td>Grains/Cereals</td>\n",
       "      <td>5</td>\n",
       "      <td>20</td>\n",
       "      <td>Winter</td>\n",
       "      <td>True</td>\n",
       "      <td>False</td>\n",
       "      <td>False</td>\n",
       "      <td>False</td>\n",
       "    </tr>\n",
       "  </tbody>\n",
       "</table>\n",
       "</div>"
      ],
      "text/plain": [
       "      OrderDate    CategoryName  Id  Quantity  season  Winter  Spring  Summer  \\\n",
       "370  2012-12-20       Beverages   1        30  Winter    True   False   False   \n",
       "975  2013-08-12       Beverages   1        25  Summer   False   False    True   \n",
       "1268 2013-11-20         Seafood   8        40    Fall   False   False   False   \n",
       "47   2012-07-24       Beverages   1        35  Summer   False   False    True   \n",
       "838  2013-06-17         Produce   7        11  Summer   False   False    True   \n",
       "135  2012-09-05         Seafood   8        40    Fall   False   False   False   \n",
       "1805 2014-03-25      Condiments   2        16  Spring   False    True   False   \n",
       "358  2012-12-18       Beverages   1        15  Winter    True   False   False   \n",
       "2036 2014-05-05     Confections   3        30  Spring   False    True   False   \n",
       "365  2012-12-19  Grains/Cereals   5        20  Winter    True   False   False   \n",
       "\n",
       "       Fall  \n",
       "370   False  \n",
       "975   False  \n",
       "1268   True  \n",
       "47    False  \n",
       "838   False  \n",
       "135    True  \n",
       "1805  False  \n",
       "358   False  \n",
       "2036  False  \n",
       "365   False  "
      ]
     },
     "execution_count": 75,
     "metadata": {},
     "output_type": "execute_result"
    }
   ],
   "source": [
    "q4.OrderDate = pd.to_datetime(q4.OrderDate)\n",
    "#create dictionary for seasons\n",
    "season_names = {1: 'Winter', 2 : 'Spring', 3: 'Summer', 4: 'Fall'}\n",
    "#using modular arithmetic, we split the year into 4 3-month sections and convert each\n",
    "#month for each row to a number between 1-4\n",
    "season = q4.OrderDate.apply(lambda dt: (dt.month%12 + 3)//3)\n",
    "#map to our dictionary\n",
    "q4['season'] = season.map(season_names)\n",
    "#for loop creating new columns with boolean values for specific seasons\\\n",
    "for idx, x in enumerate(q4.season):\n",
    "    q4.loc[idx, 'Winter'] = True if x == 'Winter' else False\n",
    "    q4.loc[idx, 'Spring'] = True if x == 'Spring' else False\n",
    "    q4.loc[idx, 'Summer'] = True if x == 'Summer' else False\n",
    "    q4.loc[idx, 'Fall'] = True if x == 'Fall' else False\n",
    "q4.sample(10)"
   ]
  },
  {
   "cell_type": "code",
   "execution_count": 80,
   "metadata": {},
   "outputs": [
    {
     "data": {
      "text/html": [
       "<div>\n",
       "<style scoped>\n",
       "    .dataframe tbody tr th:only-of-type {\n",
       "        vertical-align: middle;\n",
       "    }\n",
       "\n",
       "    .dataframe tbody tr th {\n",
       "        vertical-align: top;\n",
       "    }\n",
       "\n",
       "    .dataframe thead th {\n",
       "        text-align: right;\n",
       "    }\n",
       "</style>\n",
       "<table border=\"1\" class=\"dataframe\">\n",
       "  <thead>\n",
       "    <tr style=\"text-align: right;\">\n",
       "      <th></th>\n",
       "      <th>OrderDate</th>\n",
       "      <th>CategoryName</th>\n",
       "      <th>Id</th>\n",
       "      <th>Quantity</th>\n",
       "      <th>season</th>\n",
       "      <th>Winter</th>\n",
       "      <th>Spring</th>\n",
       "      <th>Summer</th>\n",
       "      <th>Fall</th>\n",
       "      <th>Count</th>\n",
       "    </tr>\n",
       "  </thead>\n",
       "  <tbody>\n",
       "    <tr>\n",
       "      <th>1270</th>\n",
       "      <td>2013-11-25</td>\n",
       "      <td>Seafood</td>\n",
       "      <td>8</td>\n",
       "      <td>3</td>\n",
       "      <td>Fall</td>\n",
       "      <td>False</td>\n",
       "      <td>False</td>\n",
       "      <td>False</td>\n",
       "      <td>True</td>\n",
       "      <td>45</td>\n",
       "    </tr>\n",
       "    <tr>\n",
       "      <th>185</th>\n",
       "      <td>2012-10-02</td>\n",
       "      <td>Produce</td>\n",
       "      <td>7</td>\n",
       "      <td>14</td>\n",
       "      <td>Fall</td>\n",
       "      <td>False</td>\n",
       "      <td>False</td>\n",
       "      <td>False</td>\n",
       "      <td>True</td>\n",
       "      <td>35</td>\n",
       "    </tr>\n",
       "    <tr>\n",
       "      <th>494</th>\n",
       "      <td>2013-02-11</td>\n",
       "      <td>Condiments</td>\n",
       "      <td>2</td>\n",
       "      <td>60</td>\n",
       "      <td>Winter</td>\n",
       "      <td>True</td>\n",
       "      <td>False</td>\n",
       "      <td>False</td>\n",
       "      <td>False</td>\n",
       "      <td>56</td>\n",
       "    </tr>\n",
       "    <tr>\n",
       "      <th>1285</th>\n",
       "      <td>2013-11-28</td>\n",
       "      <td>Beverages</td>\n",
       "      <td>1</td>\n",
       "      <td>40</td>\n",
       "      <td>Fall</td>\n",
       "      <td>False</td>\n",
       "      <td>False</td>\n",
       "      <td>False</td>\n",
       "      <td>True</td>\n",
       "      <td>109</td>\n",
       "    </tr>\n",
       "    <tr>\n",
       "      <th>754</th>\n",
       "      <td>2013-05-20</td>\n",
       "      <td>Dairy Products</td>\n",
       "      <td>4</td>\n",
       "      <td>15</td>\n",
       "      <td>Spring</td>\n",
       "      <td>False</td>\n",
       "      <td>True</td>\n",
       "      <td>False</td>\n",
       "      <td>False</td>\n",
       "      <td>159</td>\n",
       "    </tr>\n",
       "    <tr>\n",
       "      <th>1512</th>\n",
       "      <td>2014-01-26</td>\n",
       "      <td>Beverages</td>\n",
       "      <td>1</td>\n",
       "      <td>5</td>\n",
       "      <td>Winter</td>\n",
       "      <td>True</td>\n",
       "      <td>False</td>\n",
       "      <td>False</td>\n",
       "      <td>False</td>\n",
       "      <td>62</td>\n",
       "    </tr>\n",
       "    <tr>\n",
       "      <th>931</th>\n",
       "      <td>2013-07-31</td>\n",
       "      <td>Grains/Cereals</td>\n",
       "      <td>5</td>\n",
       "      <td>14</td>\n",
       "      <td>Summer</td>\n",
       "      <td>False</td>\n",
       "      <td>False</td>\n",
       "      <td>True</td>\n",
       "      <td>False</td>\n",
       "      <td>35</td>\n",
       "    </tr>\n",
       "    <tr>\n",
       "      <th>1809</th>\n",
       "      <td>2014-03-30</td>\n",
       "      <td>Confections</td>\n",
       "      <td>3</td>\n",
       "      <td>36</td>\n",
       "      <td>Spring</td>\n",
       "      <td>False</td>\n",
       "      <td>True</td>\n",
       "      <td>False</td>\n",
       "      <td>False</td>\n",
       "      <td>20</td>\n",
       "    </tr>\n",
       "    <tr>\n",
       "      <th>1369</th>\n",
       "      <td>2013-12-26</td>\n",
       "      <td>Confections</td>\n",
       "      <td>3</td>\n",
       "      <td>2</td>\n",
       "      <td>Winter</td>\n",
       "      <td>True</td>\n",
       "      <td>False</td>\n",
       "      <td>False</td>\n",
       "      <td>False</td>\n",
       "      <td>50</td>\n",
       "    </tr>\n",
       "    <tr>\n",
       "      <th>871</th>\n",
       "      <td>2013-07-07</td>\n",
       "      <td>Condiments</td>\n",
       "      <td>2</td>\n",
       "      <td>14</td>\n",
       "      <td>Summer</td>\n",
       "      <td>False</td>\n",
       "      <td>False</td>\n",
       "      <td>True</td>\n",
       "      <td>False</td>\n",
       "      <td>35</td>\n",
       "    </tr>\n",
       "  </tbody>\n",
       "</table>\n",
       "</div>"
      ],
      "text/plain": [
       "      OrderDate    CategoryName  Id  Quantity  season  Winter  Spring  Summer  \\\n",
       "1270 2013-11-25         Seafood   8         3    Fall   False   False   False   \n",
       "185  2012-10-02         Produce   7        14    Fall   False   False   False   \n",
       "494  2013-02-11      Condiments   2        60  Winter    True   False   False   \n",
       "1285 2013-11-28       Beverages   1        40    Fall   False   False   False   \n",
       "754  2013-05-20  Dairy Products   4        15  Spring   False    True   False   \n",
       "1512 2014-01-26       Beverages   1         5  Winter    True   False   False   \n",
       "931  2013-07-31  Grains/Cereals   5        14  Summer   False   False    True   \n",
       "1809 2014-03-30     Confections   3        36  Spring   False    True   False   \n",
       "1369 2013-12-26     Confections   3         2  Winter    True   False   False   \n",
       "871  2013-07-07      Condiments   2        14  Summer   False   False    True   \n",
       "\n",
       "       Fall  Count  \n",
       "1270   True     45  \n",
       "185    True     35  \n",
       "494   False     56  \n",
       "1285   True    109  \n",
       "754   False    159  \n",
       "1512  False     62  \n",
       "931   False     35  \n",
       "1809  False     20  \n",
       "1369  False     50  \n",
       "871   False     35  "
      ]
     },
     "execution_count": 80,
     "metadata": {},
     "output_type": "execute_result"
    }
   ],
   "source": [
    "#map countof Quantity column to each quantity value\n",
    "z = q4['Quantity'].value_counts()\n",
    "z1 = z.to_dict()\n",
    "q4['Count'] = q4['Quantity'].map(z1)\n",
    "#for loop looping through Count column and dropping all rows where count is less than 4\n",
    "#except when quantity equals 1\n",
    "for idx, x in enumerate(q4.Count):\n",
    "    if x < 4:\n",
    "        if q4.Quantity[idx] == 1:\n",
    "            pass\n",
    "        else:\n",
    "            q4.drop(index = idx, axis = 0, inplace=True)\n",
    "q4 = q4.reset_index(drop=True)\n",
    "q4.sample(10)"
   ]
  },
  {
   "cell_type": "code",
   "execution_count": 82,
   "metadata": {},
   "outputs": [
    {
     "data": {
      "text/html": [
       "<div>\n",
       "<style scoped>\n",
       "    .dataframe tbody tr th:only-of-type {\n",
       "        vertical-align: middle;\n",
       "    }\n",
       "\n",
       "    .dataframe tbody tr th {\n",
       "        vertical-align: top;\n",
       "    }\n",
       "\n",
       "    .dataframe thead th {\n",
       "        text-align: right;\n",
       "    }\n",
       "</style>\n",
       "<table border=\"1\" class=\"dataframe\">\n",
       "  <thead>\n",
       "    <tr style=\"text-align: right;\">\n",
       "      <th></th>\n",
       "      <th>df</th>\n",
       "      <th>sum_sq</th>\n",
       "      <th>mean_sq</th>\n",
       "      <th>F</th>\n",
       "      <th>PR(&gt;F)</th>\n",
       "    </tr>\n",
       "  </thead>\n",
       "  <tbody>\n",
       "    <tr>\n",
       "      <th>C(Id)</th>\n",
       "      <td>7.0</td>\n",
       "      <td>1107.521247</td>\n",
       "      <td>158.217321</td>\n",
       "      <td>0.471976</td>\n",
       "      <td>0.855405</td>\n",
       "    </tr>\n",
       "    <tr>\n",
       "      <th>C(season)</th>\n",
       "      <td>3.0</td>\n",
       "      <td>1976.178716</td>\n",
       "      <td>658.726239</td>\n",
       "      <td>1.965039</td>\n",
       "      <td>0.117190</td>\n",
       "    </tr>\n",
       "    <tr>\n",
       "      <th>C(Id):C(season)</th>\n",
       "      <td>21.0</td>\n",
       "      <td>8051.361837</td>\n",
       "      <td>383.398183</td>\n",
       "      <td>1.143711</td>\n",
       "      <td>0.293627</td>\n",
       "    </tr>\n",
       "    <tr>\n",
       "      <th>Residual</th>\n",
       "      <td>2016.0</td>\n",
       "      <td>675809.640837</td>\n",
       "      <td>335.223036</td>\n",
       "      <td>NaN</td>\n",
       "      <td>NaN</td>\n",
       "    </tr>\n",
       "  </tbody>\n",
       "</table>\n",
       "</div>"
      ],
      "text/plain": [
       "                     df         sum_sq     mean_sq         F    PR(>F)\n",
       "C(Id)               7.0    1107.521247  158.217321  0.471976  0.855405\n",
       "C(season)           3.0    1976.178716  658.726239  1.965039  0.117190\n",
       "C(Id):C(season)    21.0    8051.361837  383.398183  1.143711  0.293627\n",
       "Residual         2016.0  675809.640837  335.223036       NaN       NaN"
      ]
     },
     "metadata": {},
     "output_type": "display_data"
    }
   ],
   "source": [
    "f = 'Quantity ~ C(Id)*C(season)'\n",
    "lm = ols(f, q4).fit()\n",
    "table = sm.stats.anova_lm(lm, typ=1)\n",
    "display(table)"
   ]
  },
  {
   "cell_type": "code",
   "execution_count": 49,
   "metadata": {
    "scrolled": true
   },
   "outputs": [
    {
     "name": "stdout",
     "output_type": "stream",
     "text": [
      "Dairy Products\n",
      "Winter:\n"
     ]
    },
    {
     "data": {
      "text/html": [
       "<div>\n",
       "<style scoped>\n",
       "    .dataframe tbody tr th:only-of-type {\n",
       "        vertical-align: middle;\n",
       "    }\n",
       "\n",
       "    .dataframe tbody tr th {\n",
       "        vertical-align: top;\n",
       "    }\n",
       "\n",
       "    .dataframe thead th {\n",
       "        text-align: right;\n",
       "    }\n",
       "</style>\n",
       "<table border=\"1\" class=\"dataframe\">\n",
       "  <thead>\n",
       "    <tr style=\"text-align: right;\">\n",
       "      <th></th>\n",
       "      <th>df</th>\n",
       "      <th>sum_sq</th>\n",
       "      <th>mean_sq</th>\n",
       "      <th>F</th>\n",
       "      <th>PR(&gt;F)</th>\n",
       "    </tr>\n",
       "  </thead>\n",
       "  <tbody>\n",
       "    <tr>\n",
       "      <th>C(Winter)</th>\n",
       "      <td>1.0</td>\n",
       "      <td>1704.421018</td>\n",
       "      <td>1704.421018</td>\n",
       "      <td>5.330455</td>\n",
       "      <td>0.021546</td>\n",
       "    </tr>\n",
       "    <tr>\n",
       "      <th>Residual</th>\n",
       "      <td>345.0</td>\n",
       "      <td>110314.270625</td>\n",
       "      <td>319.751509</td>\n",
       "      <td>NaN</td>\n",
       "      <td>NaN</td>\n",
       "    </tr>\n",
       "  </tbody>\n",
       "</table>\n",
       "</div>"
      ],
      "text/plain": [
       "              df         sum_sq      mean_sq         F    PR(>F)\n",
       "C(Winter)    1.0    1704.421018  1704.421018  5.330455  0.021546\n",
       "Residual   345.0  110314.270625   319.751509       NaN       NaN"
      ]
     },
     "metadata": {},
     "output_type": "display_data"
    },
    {
     "name": "stdout",
     "output_type": "stream",
     "text": [
      "\n"
     ]
    },
    {
     "data": {
      "text/html": [
       "<table class=\"simpletable\">\n",
       "<caption>Multiple Comparison of Means - Tukey HSD,FWER=0.05</caption>\n",
       "<tr>\n",
       "  <th>group1</th> <th>group2</th> <th>meandiff</th>  <th>lower</th>  <th>upper</th> <th>reject</th>\n",
       "</tr>\n",
       "<tr>\n",
       "   <td>False</td>  <td>True</td>   <td>4.9869</td>  <td>0.7385</td> <td>9.2352</td>  <td>True</td> \n",
       "</tr>\n",
       "</table>"
      ],
      "text/plain": [
       "<class 'statsmodels.iolib.table.SimpleTable'>"
      ]
     },
     "metadata": {},
     "output_type": "display_data"
    },
    {
     "name": "stdout",
     "output_type": "stream",
     "text": [
      "\n",
      "0.2788472793368879\n",
      "\n",
      "Spring:\n"
     ]
    },
    {
     "data": {
      "text/html": [
       "<div>\n",
       "<style scoped>\n",
       "    .dataframe tbody tr th:only-of-type {\n",
       "        vertical-align: middle;\n",
       "    }\n",
       "\n",
       "    .dataframe tbody tr th {\n",
       "        vertical-align: top;\n",
       "    }\n",
       "\n",
       "    .dataframe thead th {\n",
       "        text-align: right;\n",
       "    }\n",
       "</style>\n",
       "<table border=\"1\" class=\"dataframe\">\n",
       "  <thead>\n",
       "    <tr style=\"text-align: right;\">\n",
       "      <th></th>\n",
       "      <th>df</th>\n",
       "      <th>sum_sq</th>\n",
       "      <th>mean_sq</th>\n",
       "      <th>F</th>\n",
       "      <th>PR(&gt;F)</th>\n",
       "    </tr>\n",
       "  </thead>\n",
       "  <tbody>\n",
       "    <tr>\n",
       "      <th>C(Spring)</th>\n",
       "      <td>1.0</td>\n",
       "      <td>1102.695478</td>\n",
       "      <td>1102.695478</td>\n",
       "      <td>3.429892</td>\n",
       "      <td>0.06488</td>\n",
       "    </tr>\n",
       "    <tr>\n",
       "      <th>Residual</th>\n",
       "      <td>345.0</td>\n",
       "      <td>110915.996165</td>\n",
       "      <td>321.495641</td>\n",
       "      <td>NaN</td>\n",
       "      <td>NaN</td>\n",
       "    </tr>\n",
       "  </tbody>\n",
       "</table>\n",
       "</div>"
      ],
      "text/plain": [
       "              df         sum_sq      mean_sq         F   PR(>F)\n",
       "C(Spring)    1.0    1102.695478  1102.695478  3.429892  0.06488\n",
       "Residual   345.0  110915.996165   321.495641       NaN      NaN"
      ]
     },
     "metadata": {},
     "output_type": "display_data"
    },
    {
     "name": "stdout",
     "output_type": "stream",
     "text": [
      "\n"
     ]
    },
    {
     "data": {
      "text/html": [
       "<table class=\"simpletable\">\n",
       "<caption>Multiple Comparison of Means - Tukey HSD,FWER=0.05</caption>\n",
       "<tr>\n",
       "  <th>group1</th> <th>group2</th> <th>meandiff</th>  <th>lower</th>   <th>upper</th> <th>reject</th>\n",
       "</tr>\n",
       "<tr>\n",
       "   <td>False</td>  <td>True</td>   <td>-3.8502</td> <td>-7.9392</td> <td>0.2388</td>  <td>False</td>\n",
       "</tr>\n",
       "</table>"
      ],
      "text/plain": [
       "<class 'statsmodels.iolib.table.SimpleTable'>"
      ]
     },
     "metadata": {},
     "output_type": "display_data"
    },
    {
     "name": "stdout",
     "output_type": "stream",
     "text": [
      "\n",
      "0.21475530582908853\n",
      "\n",
      "Summer:\n"
     ]
    },
    {
     "data": {
      "text/html": [
       "<div>\n",
       "<style scoped>\n",
       "    .dataframe tbody tr th:only-of-type {\n",
       "        vertical-align: middle;\n",
       "    }\n",
       "\n",
       "    .dataframe tbody tr th {\n",
       "        vertical-align: top;\n",
       "    }\n",
       "\n",
       "    .dataframe thead th {\n",
       "        text-align: right;\n",
       "    }\n",
       "</style>\n",
       "<table border=\"1\" class=\"dataframe\">\n",
       "  <thead>\n",
       "    <tr style=\"text-align: right;\">\n",
       "      <th></th>\n",
       "      <th>df</th>\n",
       "      <th>sum_sq</th>\n",
       "      <th>mean_sq</th>\n",
       "      <th>F</th>\n",
       "      <th>PR(&gt;F)</th>\n",
       "    </tr>\n",
       "  </thead>\n",
       "  <tbody>\n",
       "    <tr>\n",
       "      <th>C(Summer)</th>\n",
       "      <td>1.0</td>\n",
       "      <td>3.894425</td>\n",
       "      <td>3.894425</td>\n",
       "      <td>0.011995</td>\n",
       "      <td>0.912854</td>\n",
       "    </tr>\n",
       "    <tr>\n",
       "      <th>Residual</th>\n",
       "      <td>345.0</td>\n",
       "      <td>112014.797218</td>\n",
       "      <td>324.680572</td>\n",
       "      <td>NaN</td>\n",
       "      <td>NaN</td>\n",
       "    </tr>\n",
       "  </tbody>\n",
       "</table>\n",
       "</div>"
      ],
      "text/plain": [
       "              df         sum_sq     mean_sq         F    PR(>F)\n",
       "C(Summer)    1.0       3.894425    3.894425  0.011995  0.912854\n",
       "Residual   345.0  112014.797218  324.680572       NaN       NaN"
      ]
     },
     "metadata": {},
     "output_type": "display_data"
    },
    {
     "name": "stdout",
     "output_type": "stream",
     "text": [
      "\n"
     ]
    },
    {
     "data": {
      "text/html": [
       "<table class=\"simpletable\">\n",
       "<caption>Multiple Comparison of Means - Tukey HSD,FWER=0.05</caption>\n",
       "<tr>\n",
       "  <th>group1</th> <th>group2</th> <th>meandiff</th>  <th>lower</th>   <th>upper</th> <th>reject</th>\n",
       "</tr>\n",
       "<tr>\n",
       "   <td>False</td>  <td>True</td>   <td>-0.2715</td> <td>-5.1478</td> <td>4.6047</td>  <td>False</td>\n",
       "</tr>\n",
       "</table>"
      ],
      "text/plain": [
       "<class 'statsmodels.iolib.table.SimpleTable'>"
      ]
     },
     "metadata": {},
     "output_type": "display_data"
    },
    {
     "name": "stdout",
     "output_type": "stream",
     "text": [
      "\n",
      "0.01507156324628297\n",
      "\n",
      "Fall:\n"
     ]
    },
    {
     "data": {
      "text/html": [
       "<div>\n",
       "<style scoped>\n",
       "    .dataframe tbody tr th:only-of-type {\n",
       "        vertical-align: middle;\n",
       "    }\n",
       "\n",
       "    .dataframe tbody tr th {\n",
       "        vertical-align: top;\n",
       "    }\n",
       "\n",
       "    .dataframe thead th {\n",
       "        text-align: right;\n",
       "    }\n",
       "</style>\n",
       "<table border=\"1\" class=\"dataframe\">\n",
       "  <thead>\n",
       "    <tr style=\"text-align: right;\">\n",
       "      <th></th>\n",
       "      <th>df</th>\n",
       "      <th>sum_sq</th>\n",
       "      <th>mean_sq</th>\n",
       "      <th>F</th>\n",
       "      <th>PR(&gt;F)</th>\n",
       "    </tr>\n",
       "  </thead>\n",
       "  <tbody>\n",
       "    <tr>\n",
       "      <th>C(Fall)</th>\n",
       "      <td>1.0</td>\n",
       "      <td>27.358309</td>\n",
       "      <td>27.358309</td>\n",
       "      <td>0.08428</td>\n",
       "      <td>0.771754</td>\n",
       "    </tr>\n",
       "    <tr>\n",
       "      <th>Residual</th>\n",
       "      <td>345.0</td>\n",
       "      <td>111991.333333</td>\n",
       "      <td>324.612560</td>\n",
       "      <td>NaN</td>\n",
       "      <td>NaN</td>\n",
       "    </tr>\n",
       "  </tbody>\n",
       "</table>\n",
       "</div>"
      ],
      "text/plain": [
       "             df         sum_sq     mean_sq        F    PR(>F)\n",
       "C(Fall)     1.0      27.358309   27.358309  0.08428  0.771754\n",
       "Residual  345.0  111991.333333  324.612560      NaN       NaN"
      ]
     },
     "metadata": {},
     "output_type": "display_data"
    },
    {
     "name": "stdout",
     "output_type": "stream",
     "text": [
      "\n"
     ]
    },
    {
     "data": {
      "text/html": [
       "<table class=\"simpletable\">\n",
       "<caption>Multiple Comparison of Means - Tukey HSD,FWER=0.05</caption>\n",
       "<tr>\n",
       "  <th>group1</th> <th>group2</th> <th>meandiff</th>  <th>lower</th>  <th>upper</th> <th>reject</th>\n",
       "</tr>\n",
       "<tr>\n",
       "   <td>False</td>  <td>True</td>   <td>-0.6667</td> <td>-5.1834</td> <td>3.85</td>   <td>False</td>\n",
       "</tr>\n",
       "</table>"
      ],
      "text/plain": [
       "<class 'statsmodels.iolib.table.SimpleTable'>"
      ]
     },
     "metadata": {},
     "output_type": "display_data"
    },
    {
     "name": "stdout",
     "output_type": "stream",
     "text": [
      "\n",
      "0.03699673612408566\n",
      "\n",
      "Grains/Cereals\n",
      "Winter:\n"
     ]
    },
    {
     "data": {
      "text/html": [
       "<div>\n",
       "<style scoped>\n",
       "    .dataframe tbody tr th:only-of-type {\n",
       "        vertical-align: middle;\n",
       "    }\n",
       "\n",
       "    .dataframe tbody tr th {\n",
       "        vertical-align: top;\n",
       "    }\n",
       "\n",
       "    .dataframe thead th {\n",
       "        text-align: right;\n",
       "    }\n",
       "</style>\n",
       "<table border=\"1\" class=\"dataframe\">\n",
       "  <thead>\n",
       "    <tr style=\"text-align: right;\">\n",
       "      <th></th>\n",
       "      <th>df</th>\n",
       "      <th>sum_sq</th>\n",
       "      <th>mean_sq</th>\n",
       "      <th>F</th>\n",
       "      <th>PR(&gt;F)</th>\n",
       "    </tr>\n",
       "  </thead>\n",
       "  <tbody>\n",
       "    <tr>\n",
       "      <th>C(Winter)</th>\n",
       "      <td>1.0</td>\n",
       "      <td>230.122440</td>\n",
       "      <td>230.122440</td>\n",
       "      <td>0.856388</td>\n",
       "      <td>0.355951</td>\n",
       "    </tr>\n",
       "    <tr>\n",
       "      <th>Residual</th>\n",
       "      <td>186.0</td>\n",
       "      <td>49980.579687</td>\n",
       "      <td>268.712794</td>\n",
       "      <td>NaN</td>\n",
       "      <td>NaN</td>\n",
       "    </tr>\n",
       "  </tbody>\n",
       "</table>\n",
       "</div>"
      ],
      "text/plain": [
       "              df        sum_sq     mean_sq         F    PR(>F)\n",
       "C(Winter)    1.0    230.122440  230.122440  0.856388  0.355951\n",
       "Residual   186.0  49980.579687  268.712794       NaN       NaN"
      ]
     },
     "metadata": {},
     "output_type": "display_data"
    },
    {
     "name": "stdout",
     "output_type": "stream",
     "text": [
      "\n"
     ]
    },
    {
     "data": {
      "text/html": [
       "<table class=\"simpletable\">\n",
       "<caption>Multiple Comparison of Means - Tukey HSD,FWER=0.05</caption>\n",
       "<tr>\n",
       "  <th>group1</th> <th>group2</th> <th>meandiff</th>  <th>lower</th>   <th>upper</th> <th>reject</th>\n",
       "</tr>\n",
       "<tr>\n",
       "   <td>False</td>  <td>True</td>   <td>2.3734</td>  <td>-2.6863</td> <td>7.4331</td>  <td>False</td>\n",
       "</tr>\n",
       "</table>"
      ],
      "text/plain": [
       "<class 'statsmodels.iolib.table.SimpleTable'>"
      ]
     },
     "metadata": {},
     "output_type": "display_data"
    },
    {
     "name": "stdout",
     "output_type": "stream",
     "text": [
      "\n",
      "0.1448068027605328\n",
      "\n",
      "Spring:\n"
     ]
    },
    {
     "data": {
      "text/html": [
       "<div>\n",
       "<style scoped>\n",
       "    .dataframe tbody tr th:only-of-type {\n",
       "        vertical-align: middle;\n",
       "    }\n",
       "\n",
       "    .dataframe tbody tr th {\n",
       "        vertical-align: top;\n",
       "    }\n",
       "\n",
       "    .dataframe thead th {\n",
       "        text-align: right;\n",
       "    }\n",
       "</style>\n",
       "<table border=\"1\" class=\"dataframe\">\n",
       "  <thead>\n",
       "    <tr style=\"text-align: right;\">\n",
       "      <th></th>\n",
       "      <th>df</th>\n",
       "      <th>sum_sq</th>\n",
       "      <th>mean_sq</th>\n",
       "      <th>F</th>\n",
       "      <th>PR(&gt;F)</th>\n",
       "    </tr>\n",
       "  </thead>\n",
       "  <tbody>\n",
       "    <tr>\n",
       "      <th>C(Spring)</th>\n",
       "      <td>1.0</td>\n",
       "      <td>358.550990</td>\n",
       "      <td>358.550990</td>\n",
       "      <td>1.337765</td>\n",
       "      <td>0.248912</td>\n",
       "    </tr>\n",
       "    <tr>\n",
       "      <th>Residual</th>\n",
       "      <td>186.0</td>\n",
       "      <td>49852.151138</td>\n",
       "      <td>268.022318</td>\n",
       "      <td>NaN</td>\n",
       "      <td>NaN</td>\n",
       "    </tr>\n",
       "  </tbody>\n",
       "</table>\n",
       "</div>"
      ],
      "text/plain": [
       "              df        sum_sq     mean_sq         F    PR(>F)\n",
       "C(Spring)    1.0    358.550990  358.550990  1.337765  0.248912\n",
       "Residual   186.0  49852.151138  268.022318       NaN       NaN"
      ]
     },
     "metadata": {},
     "output_type": "display_data"
    },
    {
     "name": "stdout",
     "output_type": "stream",
     "text": [
      "\n"
     ]
    },
    {
     "data": {
      "text/html": [
       "<table class=\"simpletable\">\n",
       "<caption>Multiple Comparison of Means - Tukey HSD,FWER=0.05</caption>\n",
       "<tr>\n",
       "  <th>group1</th> <th>group2</th> <th>meandiff</th>  <th>lower</th>   <th>upper</th> <th>reject</th>\n",
       "</tr>\n",
       "<tr>\n",
       "   <td>False</td>  <td>True</td>   <td>-3.1061</td> <td>-8.4039</td> <td>2.1918</td>  <td>False</td>\n",
       "</tr>\n",
       "</table>"
      ],
      "text/plain": [
       "<class 'statsmodels.iolib.table.SimpleTable'>"
      ]
     },
     "metadata": {},
     "output_type": "display_data"
    },
    {
     "name": "stdout",
     "output_type": "stream",
     "text": [
      "\n",
      "0.18977038848637284\n",
      "\n",
      "Summer:\n"
     ]
    },
    {
     "data": {
      "text/html": [
       "<div>\n",
       "<style scoped>\n",
       "    .dataframe tbody tr th:only-of-type {\n",
       "        vertical-align: middle;\n",
       "    }\n",
       "\n",
       "    .dataframe tbody tr th {\n",
       "        vertical-align: top;\n",
       "    }\n",
       "\n",
       "    .dataframe thead th {\n",
       "        text-align: right;\n",
       "    }\n",
       "</style>\n",
       "<table border=\"1\" class=\"dataframe\">\n",
       "  <thead>\n",
       "    <tr style=\"text-align: right;\">\n",
       "      <th></th>\n",
       "      <th>df</th>\n",
       "      <th>sum_sq</th>\n",
       "      <th>mean_sq</th>\n",
       "      <th>F</th>\n",
       "      <th>PR(&gt;F)</th>\n",
       "    </tr>\n",
       "  </thead>\n",
       "  <tbody>\n",
       "    <tr>\n",
       "      <th>C(Summer)</th>\n",
       "      <td>1.0</td>\n",
       "      <td>19.067328</td>\n",
       "      <td>19.067328</td>\n",
       "      <td>0.07066</td>\n",
       "      <td>0.790673</td>\n",
       "    </tr>\n",
       "    <tr>\n",
       "      <th>Residual</th>\n",
       "      <td>186.0</td>\n",
       "      <td>50191.634800</td>\n",
       "      <td>269.847499</td>\n",
       "      <td>NaN</td>\n",
       "      <td>NaN</td>\n",
       "    </tr>\n",
       "  </tbody>\n",
       "</table>\n",
       "</div>"
      ],
      "text/plain": [
       "              df        sum_sq     mean_sq        F    PR(>F)\n",
       "C(Summer)    1.0     19.067328   19.067328  0.07066  0.790673\n",
       "Residual   186.0  50191.634800  269.847499      NaN       NaN"
      ]
     },
     "metadata": {},
     "output_type": "display_data"
    },
    {
     "name": "stdout",
     "output_type": "stream",
     "text": [
      "\n"
     ]
    },
    {
     "data": {
      "text/html": [
       "<table class=\"simpletable\">\n",
       "<caption>Multiple Comparison of Means - Tukey HSD,FWER=0.05</caption>\n",
       "<tr>\n",
       "  <th>group1</th> <th>group2</th> <th>meandiff</th>  <th>lower</th>   <th>upper</th> <th>reject</th>\n",
       "</tr>\n",
       "<tr>\n",
       "   <td>False</td>  <td>True</td>   <td>0.8371</td>  <td>-5.3758</td> <td>7.0501</td>  <td>False</td>\n",
       "</tr>\n",
       "</table>"
      ],
      "text/plain": [
       "<class 'statsmodels.iolib.table.SimpleTable'>"
      ]
     },
     "metadata": {},
     "output_type": "display_data"
    },
    {
     "name": "stdout",
     "output_type": "stream",
     "text": [
      "\n",
      "0.05086646294435605\n",
      "\n",
      "Fall:\n"
     ]
    },
    {
     "data": {
      "text/html": [
       "<div>\n",
       "<style scoped>\n",
       "    .dataframe tbody tr th:only-of-type {\n",
       "        vertical-align: middle;\n",
       "    }\n",
       "\n",
       "    .dataframe tbody tr th {\n",
       "        vertical-align: top;\n",
       "    }\n",
       "\n",
       "    .dataframe thead th {\n",
       "        text-align: right;\n",
       "    }\n",
       "</style>\n",
       "<table border=\"1\" class=\"dataframe\">\n",
       "  <thead>\n",
       "    <tr style=\"text-align: right;\">\n",
       "      <th></th>\n",
       "      <th>df</th>\n",
       "      <th>sum_sq</th>\n",
       "      <th>mean_sq</th>\n",
       "      <th>F</th>\n",
       "      <th>PR(&gt;F)</th>\n",
       "    </tr>\n",
       "  </thead>\n",
       "  <tbody>\n",
       "    <tr>\n",
       "      <th>C(Fall)</th>\n",
       "      <td>1.0</td>\n",
       "      <td>0.548087</td>\n",
       "      <td>0.548087</td>\n",
       "      <td>0.00203</td>\n",
       "      <td>0.964108</td>\n",
       "    </tr>\n",
       "    <tr>\n",
       "      <th>Residual</th>\n",
       "      <td>186.0</td>\n",
       "      <td>50210.154040</td>\n",
       "      <td>269.947065</td>\n",
       "      <td>NaN</td>\n",
       "      <td>NaN</td>\n",
       "    </tr>\n",
       "  </tbody>\n",
       "</table>\n",
       "</div>"
      ],
      "text/plain": [
       "             df        sum_sq     mean_sq        F    PR(>F)\n",
       "C(Fall)     1.0      0.548087    0.548087  0.00203  0.964108\n",
       "Residual  186.0  50210.154040  269.947065      NaN       NaN"
      ]
     },
     "metadata": {},
     "output_type": "display_data"
    },
    {
     "name": "stdout",
     "output_type": "stream",
     "text": [
      "\n"
     ]
    },
    {
     "data": {
      "text/html": [
       "<table class=\"simpletable\">\n",
       "<caption>Multiple Comparison of Means - Tukey HSD,FWER=0.05</caption>\n",
       "<tr>\n",
       "  <th>group1</th> <th>group2</th> <th>meandiff</th>  <th>lower</th>   <th>upper</th> <th>reject</th>\n",
       "</tr>\n",
       "<tr>\n",
       "   <td>False</td>  <td>True</td>   <td>-0.1275</td> <td>-5.7109</td> <td>5.4558</td>  <td>False</td>\n",
       "</tr>\n",
       "</table>"
      ],
      "text/plain": [
       "<class 'statsmodels.iolib.table.SimpleTable'>"
      ]
     },
     "metadata": {},
     "output_type": "display_data"
    },
    {
     "name": "stdout",
     "output_type": "stream",
     "text": [
      "\n",
      "0.007766729138440475\n",
      "\n",
      "Produce\n",
      "Winter:\n"
     ]
    },
    {
     "data": {
      "text/html": [
       "<div>\n",
       "<style scoped>\n",
       "    .dataframe tbody tr th:only-of-type {\n",
       "        vertical-align: middle;\n",
       "    }\n",
       "\n",
       "    .dataframe tbody tr th {\n",
       "        vertical-align: top;\n",
       "    }\n",
       "\n",
       "    .dataframe thead th {\n",
       "        text-align: right;\n",
       "    }\n",
       "</style>\n",
       "<table border=\"1\" class=\"dataframe\">\n",
       "  <thead>\n",
       "    <tr style=\"text-align: right;\">\n",
       "      <th></th>\n",
       "      <th>df</th>\n",
       "      <th>sum_sq</th>\n",
       "      <th>mean_sq</th>\n",
       "      <th>F</th>\n",
       "      <th>PR(&gt;F)</th>\n",
       "    </tr>\n",
       "  </thead>\n",
       "  <tbody>\n",
       "    <tr>\n",
       "      <th>C(Winter)</th>\n",
       "      <td>1.0</td>\n",
       "      <td>82.801055</td>\n",
       "      <td>82.801055</td>\n",
       "      <td>0.236016</td>\n",
       "      <td>0.627929</td>\n",
       "    </tr>\n",
       "    <tr>\n",
       "      <th>Residual</th>\n",
       "      <td>128.0</td>\n",
       "      <td>44906.091253</td>\n",
       "      <td>350.828838</td>\n",
       "      <td>NaN</td>\n",
       "      <td>NaN</td>\n",
       "    </tr>\n",
       "  </tbody>\n",
       "</table>\n",
       "</div>"
      ],
      "text/plain": [
       "              df        sum_sq     mean_sq         F    PR(>F)\n",
       "C(Winter)    1.0     82.801055   82.801055  0.236016  0.627929\n",
       "Residual   128.0  44906.091253  350.828838       NaN       NaN"
      ]
     },
     "metadata": {},
     "output_type": "display_data"
    },
    {
     "name": "stdout",
     "output_type": "stream",
     "text": [
      "\n"
     ]
    },
    {
     "data": {
      "text/html": [
       "<table class=\"simpletable\">\n",
       "<caption>Multiple Comparison of Means - Tukey HSD,FWER=0.05</caption>\n",
       "<tr>\n",
       "  <th>group1</th> <th>group2</th> <th>meandiff</th>  <th>lower</th>   <th>upper</th> <th>reject</th>\n",
       "</tr>\n",
       "<tr>\n",
       "   <td>False</td>  <td>True</td>   <td>-1.7687</td> <td>-8.9723</td> <td>5.4349</td>  <td>False</td>\n",
       "</tr>\n",
       "</table>"
      ],
      "text/plain": [
       "<class 'statsmodels.iolib.table.SimpleTable'>"
      ]
     },
     "metadata": {},
     "output_type": "display_data"
    },
    {
     "name": "stdout",
     "output_type": "stream",
     "text": [
      "\n",
      "0.09438676141238965\n",
      "\n",
      "Spring:\n"
     ]
    },
    {
     "data": {
      "text/html": [
       "<div>\n",
       "<style scoped>\n",
       "    .dataframe tbody tr th:only-of-type {\n",
       "        vertical-align: middle;\n",
       "    }\n",
       "\n",
       "    .dataframe tbody tr th {\n",
       "        vertical-align: top;\n",
       "    }\n",
       "\n",
       "    .dataframe thead th {\n",
       "        text-align: right;\n",
       "    }\n",
       "</style>\n",
       "<table border=\"1\" class=\"dataframe\">\n",
       "  <thead>\n",
       "    <tr style=\"text-align: right;\">\n",
       "      <th></th>\n",
       "      <th>df</th>\n",
       "      <th>sum_sq</th>\n",
       "      <th>mean_sq</th>\n",
       "      <th>F</th>\n",
       "      <th>PR(&gt;F)</th>\n",
       "    </tr>\n",
       "  </thead>\n",
       "  <tbody>\n",
       "    <tr>\n",
       "      <th>C(Spring)</th>\n",
       "      <td>1.0</td>\n",
       "      <td>110.989869</td>\n",
       "      <td>110.989869</td>\n",
       "      <td>0.316563</td>\n",
       "      <td>0.574664</td>\n",
       "    </tr>\n",
       "    <tr>\n",
       "      <th>Residual</th>\n",
       "      <td>128.0</td>\n",
       "      <td>44877.902439</td>\n",
       "      <td>350.608613</td>\n",
       "      <td>NaN</td>\n",
       "      <td>NaN</td>\n",
       "    </tr>\n",
       "  </tbody>\n",
       "</table>\n",
       "</div>"
      ],
      "text/plain": [
       "              df        sum_sq     mean_sq         F    PR(>F)\n",
       "C(Spring)    1.0    110.989869  110.989869  0.316563  0.574664\n",
       "Residual   128.0  44877.902439  350.608613       NaN       NaN"
      ]
     },
     "metadata": {},
     "output_type": "display_data"
    },
    {
     "name": "stdout",
     "output_type": "stream",
     "text": [
      "\n"
     ]
    },
    {
     "data": {
      "text/html": [
       "<table class=\"simpletable\">\n",
       "<caption>Multiple Comparison of Means - Tukey HSD,FWER=0.05</caption>\n",
       "<tr>\n",
       "  <th>group1</th> <th>group2</th> <th>meandiff</th>  <th>lower</th>   <th>upper</th> <th>reject</th>\n",
       "</tr>\n",
       "<tr>\n",
       "   <td>False</td>  <td>True</td>   <td>1.9146</td>  <td>-4.8187</td> <td>8.6479</td>  <td>False</td>\n",
       "</tr>\n",
       "</table>"
      ],
      "text/plain": [
       "<class 'statsmodels.iolib.table.SimpleTable'>"
      ]
     },
     "metadata": {},
     "output_type": "display_data"
    },
    {
     "name": "stdout",
     "output_type": "stream",
     "text": [
      "\n",
      "0.10225099850379749\n",
      "\n",
      "Summer:\n"
     ]
    },
    {
     "data": {
      "text/html": [
       "<div>\n",
       "<style scoped>\n",
       "    .dataframe tbody tr th:only-of-type {\n",
       "        vertical-align: middle;\n",
       "    }\n",
       "\n",
       "    .dataframe tbody tr th {\n",
       "        vertical-align: top;\n",
       "    }\n",
       "\n",
       "    .dataframe thead th {\n",
       "        text-align: right;\n",
       "    }\n",
       "</style>\n",
       "<table border=\"1\" class=\"dataframe\">\n",
       "  <thead>\n",
       "    <tr style=\"text-align: right;\">\n",
       "      <th></th>\n",
       "      <th>df</th>\n",
       "      <th>sum_sq</th>\n",
       "      <th>mean_sq</th>\n",
       "      <th>F</th>\n",
       "      <th>PR(&gt;F)</th>\n",
       "    </tr>\n",
       "  </thead>\n",
       "  <tbody>\n",
       "    <tr>\n",
       "      <th>C(Summer)</th>\n",
       "      <td>1.0</td>\n",
       "      <td>27.275079</td>\n",
       "      <td>27.275079</td>\n",
       "      <td>0.077649</td>\n",
       "      <td>0.780959</td>\n",
       "    </tr>\n",
       "    <tr>\n",
       "      <th>Residual</th>\n",
       "      <td>128.0</td>\n",
       "      <td>44961.617229</td>\n",
       "      <td>351.262635</td>\n",
       "      <td>NaN</td>\n",
       "      <td>NaN</td>\n",
       "    </tr>\n",
       "  </tbody>\n",
       "</table>\n",
       "</div>"
      ],
      "text/plain": [
       "              df        sum_sq     mean_sq         F    PR(>F)\n",
       "C(Summer)    1.0     27.275079   27.275079  0.077649  0.780959\n",
       "Residual   128.0  44961.617229  351.262635       NaN       NaN"
      ]
     },
     "metadata": {},
     "output_type": "display_data"
    },
    {
     "name": "stdout",
     "output_type": "stream",
     "text": [
      "\n"
     ]
    },
    {
     "data": {
      "text/html": [
       "<table class=\"simpletable\">\n",
       "<caption>Multiple Comparison of Means - Tukey HSD,FWER=0.05</caption>\n",
       "<tr>\n",
       "  <th>group1</th> <th>group2</th> <th>meandiff</th>  <th>lower</th>   <th>upper</th> <th>reject</th>\n",
       "</tr>\n",
       "<tr>\n",
       "   <td>False</td>  <td>True</td>   <td>-1.2003</td> <td>-9.7236</td> <td>7.3229</td>  <td>False</td>\n",
       "</tr>\n",
       "</table>"
      ],
      "text/plain": [
       "<class 'statsmodels.iolib.table.SimpleTable'>"
      ]
     },
     "metadata": {},
     "output_type": "display_data"
    },
    {
     "name": "stdout",
     "output_type": "stream",
     "text": [
      "\n",
      "0.06413859917145356\n",
      "\n",
      "Fall:\n"
     ]
    },
    {
     "data": {
      "text/html": [
       "<div>\n",
       "<style scoped>\n",
       "    .dataframe tbody tr th:only-of-type {\n",
       "        vertical-align: middle;\n",
       "    }\n",
       "\n",
       "    .dataframe tbody tr th {\n",
       "        vertical-align: top;\n",
       "    }\n",
       "\n",
       "    .dataframe thead th {\n",
       "        text-align: right;\n",
       "    }\n",
       "</style>\n",
       "<table border=\"1\" class=\"dataframe\">\n",
       "  <thead>\n",
       "    <tr style=\"text-align: right;\">\n",
       "      <th></th>\n",
       "      <th>df</th>\n",
       "      <th>sum_sq</th>\n",
       "      <th>mean_sq</th>\n",
       "      <th>F</th>\n",
       "      <th>PR(&gt;F)</th>\n",
       "    </tr>\n",
       "  </thead>\n",
       "  <tbody>\n",
       "    <tr>\n",
       "      <th>C(Fall)</th>\n",
       "      <td>1.0</td>\n",
       "      <td>7.323284</td>\n",
       "      <td>7.323284</td>\n",
       "      <td>0.020839</td>\n",
       "      <td>0.885445</td>\n",
       "    </tr>\n",
       "    <tr>\n",
       "      <th>Residual</th>\n",
       "      <td>128.0</td>\n",
       "      <td>44981.569024</td>\n",
       "      <td>351.418508</td>\n",
       "      <td>NaN</td>\n",
       "      <td>NaN</td>\n",
       "    </tr>\n",
       "  </tbody>\n",
       "</table>\n",
       "</div>"
      ],
      "text/plain": [
       "             df        sum_sq     mean_sq         F    PR(>F)\n",
       "C(Fall)     1.0      7.323284    7.323284  0.020839  0.885445\n",
       "Residual  128.0  44981.569024  351.418508       NaN       NaN"
      ]
     },
     "metadata": {},
     "output_type": "display_data"
    },
    {
     "name": "stdout",
     "output_type": "stream",
     "text": [
      "\n"
     ]
    },
    {
     "data": {
      "text/html": [
       "<table class=\"simpletable\">\n",
       "<caption>Multiple Comparison of Means - Tukey HSD,FWER=0.05</caption>\n",
       "<tr>\n",
       "  <th>group1</th> <th>group2</th> <th>meandiff</th>  <th>lower</th>   <th>upper</th> <th>reject</th>\n",
       "</tr>\n",
       "<tr>\n",
       "   <td>False</td>  <td>True</td>    <td>0.633</td>  <td>-8.0433</td> <td>9.3093</td>  <td>False</td>\n",
       "</tr>\n",
       "</table>"
      ],
      "text/plain": [
       "<class 'statsmodels.iolib.table.SimpleTable'>"
      ]
     },
     "metadata": {},
     "output_type": "display_data"
    },
    {
     "name": "stdout",
     "output_type": "stream",
     "text": [
      "\n",
      "0.03374102993667081\n",
      "\n",
      "Seafood\n",
      "Winter:\n"
     ]
    },
    {
     "data": {
      "text/html": [
       "<div>\n",
       "<style scoped>\n",
       "    .dataframe tbody tr th:only-of-type {\n",
       "        vertical-align: middle;\n",
       "    }\n",
       "\n",
       "    .dataframe tbody tr th {\n",
       "        vertical-align: top;\n",
       "    }\n",
       "\n",
       "    .dataframe thead th {\n",
       "        text-align: right;\n",
       "    }\n",
       "</style>\n",
       "<table border=\"1\" class=\"dataframe\">\n",
       "  <thead>\n",
       "    <tr style=\"text-align: right;\">\n",
       "      <th></th>\n",
       "      <th>df</th>\n",
       "      <th>sum_sq</th>\n",
       "      <th>mean_sq</th>\n",
       "      <th>F</th>\n",
       "      <th>PR(&gt;F)</th>\n",
       "    </tr>\n",
       "  </thead>\n",
       "  <tbody>\n",
       "    <tr>\n",
       "      <th>C(Winter)</th>\n",
       "      <td>1.0</td>\n",
       "      <td>151.710950</td>\n",
       "      <td>151.710950</td>\n",
       "      <td>0.475746</td>\n",
       "      <td>0.490873</td>\n",
       "    </tr>\n",
       "    <tr>\n",
       "      <th>Residual</th>\n",
       "      <td>309.0</td>\n",
       "      <td>98537.118632</td>\n",
       "      <td>318.890352</td>\n",
       "      <td>NaN</td>\n",
       "      <td>NaN</td>\n",
       "    </tr>\n",
       "  </tbody>\n",
       "</table>\n",
       "</div>"
      ],
      "text/plain": [
       "              df        sum_sq     mean_sq         F    PR(>F)\n",
       "C(Winter)    1.0    151.710950  151.710950  0.475746  0.490873\n",
       "Residual   309.0  98537.118632  318.890352       NaN       NaN"
      ]
     },
     "metadata": {},
     "output_type": "display_data"
    },
    {
     "name": "stdout",
     "output_type": "stream",
     "text": [
      "\n"
     ]
    },
    {
     "data": {
      "text/html": [
       "<table class=\"simpletable\">\n",
       "<caption>Multiple Comparison of Means - Tukey HSD,FWER=0.05</caption>\n",
       "<tr>\n",
       "  <th>group1</th> <th>group2</th> <th>meandiff</th>  <th>lower</th>   <th>upper</th> <th>reject</th>\n",
       "</tr>\n",
       "<tr>\n",
       "   <td>False</td>  <td>True</td>    <td>1.579</td>  <td>-2.9255</td> <td>6.0835</td>  <td>False</td>\n",
       "</tr>\n",
       "</table>"
      ],
      "text/plain": [
       "<class 'statsmodels.iolib.table.SimpleTable'>"
      ]
     },
     "metadata": {},
     "output_type": "display_data"
    },
    {
     "name": "stdout",
     "output_type": "stream",
     "text": [
      "\n",
      "0.08841713696358584\n",
      "\n",
      "Spring:\n"
     ]
    },
    {
     "data": {
      "text/html": [
       "<div>\n",
       "<style scoped>\n",
       "    .dataframe tbody tr th:only-of-type {\n",
       "        vertical-align: middle;\n",
       "    }\n",
       "\n",
       "    .dataframe tbody tr th {\n",
       "        vertical-align: top;\n",
       "    }\n",
       "\n",
       "    .dataframe thead th {\n",
       "        text-align: right;\n",
       "    }\n",
       "</style>\n",
       "<table border=\"1\" class=\"dataframe\">\n",
       "  <thead>\n",
       "    <tr style=\"text-align: right;\">\n",
       "      <th></th>\n",
       "      <th>df</th>\n",
       "      <th>sum_sq</th>\n",
       "      <th>mean_sq</th>\n",
       "      <th>F</th>\n",
       "      <th>PR(&gt;F)</th>\n",
       "    </tr>\n",
       "  </thead>\n",
       "  <tbody>\n",
       "    <tr>\n",
       "      <th>C(Spring)</th>\n",
       "      <td>1.0</td>\n",
       "      <td>1686.043734</td>\n",
       "      <td>1686.043734</td>\n",
       "      <td>5.370851</td>\n",
       "      <td>0.021129</td>\n",
       "    </tr>\n",
       "    <tr>\n",
       "      <th>Residual</th>\n",
       "      <td>309.0</td>\n",
       "      <td>97002.785848</td>\n",
       "      <td>313.924873</td>\n",
       "      <td>NaN</td>\n",
       "      <td>NaN</td>\n",
       "    </tr>\n",
       "  </tbody>\n",
       "</table>\n",
       "</div>"
      ],
      "text/plain": [
       "              df        sum_sq      mean_sq         F    PR(>F)\n",
       "C(Spring)    1.0   1686.043734  1686.043734  5.370851  0.021129\n",
       "Residual   309.0  97002.785848   313.924873       NaN       NaN"
      ]
     },
     "metadata": {},
     "output_type": "display_data"
    },
    {
     "name": "stdout",
     "output_type": "stream",
     "text": [
      "\n"
     ]
    },
    {
     "data": {
      "text/html": [
       "<table class=\"simpletable\">\n",
       "<caption>Multiple Comparison of Means - Tukey HSD,FWER=0.05</caption>\n",
       "<tr>\n",
       "  <th>group1</th> <th>group2</th> <th>meandiff</th>  <th>lower</th>   <th>upper</th>  <th>reject</th>\n",
       "</tr>\n",
       "<tr>\n",
       "   <td>False</td>  <td>True</td>   <td>-4.9473</td> <td>-9.1477</td> <td>-0.7468</td>  <td>True</td> \n",
       "</tr>\n",
       "</table>"
      ],
      "text/plain": [
       "<class 'statsmodels.iolib.table.SimpleTable'>"
      ]
     },
     "metadata": {},
     "output_type": "display_data"
    },
    {
     "name": "stdout",
     "output_type": "stream",
     "text": [
      "\n",
      "0.27925611574824755\n",
      "\n",
      "Summer:\n"
     ]
    },
    {
     "data": {
      "text/html": [
       "<div>\n",
       "<style scoped>\n",
       "    .dataframe tbody tr th:only-of-type {\n",
       "        vertical-align: middle;\n",
       "    }\n",
       "\n",
       "    .dataframe tbody tr th {\n",
       "        vertical-align: top;\n",
       "    }\n",
       "\n",
       "    .dataframe thead th {\n",
       "        text-align: right;\n",
       "    }\n",
       "</style>\n",
       "<table border=\"1\" class=\"dataframe\">\n",
       "  <thead>\n",
       "    <tr style=\"text-align: right;\">\n",
       "      <th></th>\n",
       "      <th>df</th>\n",
       "      <th>sum_sq</th>\n",
       "      <th>mean_sq</th>\n",
       "      <th>F</th>\n",
       "      <th>PR(&gt;F)</th>\n",
       "    </tr>\n",
       "  </thead>\n",
       "  <tbody>\n",
       "    <tr>\n",
       "      <th>C(Summer)</th>\n",
       "      <td>1.0</td>\n",
       "      <td>326.441048</td>\n",
       "      <td>326.441048</td>\n",
       "      <td>1.025496</td>\n",
       "      <td>0.312011</td>\n",
       "    </tr>\n",
       "    <tr>\n",
       "      <th>Residual</th>\n",
       "      <td>309.0</td>\n",
       "      <td>98362.388534</td>\n",
       "      <td>318.324882</td>\n",
       "      <td>NaN</td>\n",
       "      <td>NaN</td>\n",
       "    </tr>\n",
       "  </tbody>\n",
       "</table>\n",
       "</div>"
      ],
      "text/plain": [
       "              df        sum_sq     mean_sq         F    PR(>F)\n",
       "C(Summer)    1.0    326.441048  326.441048  1.025496  0.312011\n",
       "Residual   309.0  98362.388534  318.324882       NaN       NaN"
      ]
     },
     "metadata": {},
     "output_type": "display_data"
    },
    {
     "name": "stdout",
     "output_type": "stream",
     "text": [
      "\n"
     ]
    },
    {
     "data": {
      "text/html": [
       "<table class=\"simpletable\">\n",
       "<caption>Multiple Comparison of Means - Tukey HSD,FWER=0.05</caption>\n",
       "<tr>\n",
       "  <th>group1</th> <th>group2</th> <th>meandiff</th>  <th>lower</th>  <th>upper</th> <th>reject</th>\n",
       "</tr>\n",
       "<tr>\n",
       "   <td>False</td>  <td>True</td>   <td>2.8121</td>  <td>-2.652</td> <td>8.2762</td>  <td>False</td>\n",
       "</tr>\n",
       "</table>"
      ],
      "text/plain": [
       "<class 'statsmodels.iolib.table.SimpleTable'>"
      ]
     },
     "metadata": {},
     "output_type": "display_data"
    },
    {
     "name": "stdout",
     "output_type": "stream",
     "text": [
      "\n",
      "0.1575981536974712\n",
      "\n",
      "Fall:\n"
     ]
    },
    {
     "data": {
      "text/html": [
       "<div>\n",
       "<style scoped>\n",
       "    .dataframe tbody tr th:only-of-type {\n",
       "        vertical-align: middle;\n",
       "    }\n",
       "\n",
       "    .dataframe tbody tr th {\n",
       "        vertical-align: top;\n",
       "    }\n",
       "\n",
       "    .dataframe thead th {\n",
       "        text-align: right;\n",
       "    }\n",
       "</style>\n",
       "<table border=\"1\" class=\"dataframe\">\n",
       "  <thead>\n",
       "    <tr style=\"text-align: right;\">\n",
       "      <th></th>\n",
       "      <th>df</th>\n",
       "      <th>sum_sq</th>\n",
       "      <th>mean_sq</th>\n",
       "      <th>F</th>\n",
       "      <th>PR(&gt;F)</th>\n",
       "    </tr>\n",
       "  </thead>\n",
       "  <tbody>\n",
       "    <tr>\n",
       "      <th>C(Fall)</th>\n",
       "      <td>1.0</td>\n",
       "      <td>288.157634</td>\n",
       "      <td>288.157634</td>\n",
       "      <td>0.904879</td>\n",
       "      <td>0.34222</td>\n",
       "    </tr>\n",
       "    <tr>\n",
       "      <th>Residual</th>\n",
       "      <td>309.0</td>\n",
       "      <td>98400.671948</td>\n",
       "      <td>318.448777</td>\n",
       "      <td>NaN</td>\n",
       "      <td>NaN</td>\n",
       "    </tr>\n",
       "  </tbody>\n",
       "</table>\n",
       "</div>"
      ],
      "text/plain": [
       "             df        sum_sq     mean_sq         F   PR(>F)\n",
       "C(Fall)     1.0    288.157634  288.157634  0.904879  0.34222\n",
       "Residual  309.0  98400.671948  318.448777       NaN      NaN"
      ]
     },
     "metadata": {},
     "output_type": "display_data"
    },
    {
     "name": "stdout",
     "output_type": "stream",
     "text": [
      "\n"
     ]
    },
    {
     "data": {
      "text/html": [
       "<table class=\"simpletable\">\n",
       "<caption>Multiple Comparison of Means - Tukey HSD,FWER=0.05</caption>\n",
       "<tr>\n",
       "  <th>group1</th> <th>group2</th> <th>meandiff</th>  <th>lower</th>   <th>upper</th> <th>reject</th>\n",
       "</tr>\n",
       "<tr>\n",
       "   <td>False</td>  <td>True</td>    <td>2.24</td>   <td>-2.3935</td> <td>6.8736</td>  <td>False</td>\n",
       "</tr>\n",
       "</table>"
      ],
      "text/plain": [
       "<class 'statsmodels.iolib.table.SimpleTable'>"
      ]
     },
     "metadata": {},
     "output_type": "display_data"
    },
    {
     "name": "stdout",
     "output_type": "stream",
     "text": [
      "\n",
      "0.12551761546863882\n",
      "\n",
      "Condiments\n",
      "Winter:\n"
     ]
    },
    {
     "data": {
      "text/html": [
       "<div>\n",
       "<style scoped>\n",
       "    .dataframe tbody tr th:only-of-type {\n",
       "        vertical-align: middle;\n",
       "    }\n",
       "\n",
       "    .dataframe tbody tr th {\n",
       "        vertical-align: top;\n",
       "    }\n",
       "\n",
       "    .dataframe thead th {\n",
       "        text-align: right;\n",
       "    }\n",
       "</style>\n",
       "<table border=\"1\" class=\"dataframe\">\n",
       "  <thead>\n",
       "    <tr style=\"text-align: right;\">\n",
       "      <th></th>\n",
       "      <th>df</th>\n",
       "      <th>sum_sq</th>\n",
       "      <th>mean_sq</th>\n",
       "      <th>F</th>\n",
       "      <th>PR(&gt;F)</th>\n",
       "    </tr>\n",
       "  </thead>\n",
       "  <tbody>\n",
       "    <tr>\n",
       "      <th>C(Winter)</th>\n",
       "      <td>1.0</td>\n",
       "      <td>1862.551862</td>\n",
       "      <td>1862.551862</td>\n",
       "      <td>4.970244</td>\n",
       "      <td>0.026877</td>\n",
       "    </tr>\n",
       "    <tr>\n",
       "      <th>Residual</th>\n",
       "      <td>204.0</td>\n",
       "      <td>76447.064643</td>\n",
       "      <td>374.740513</td>\n",
       "      <td>NaN</td>\n",
       "      <td>NaN</td>\n",
       "    </tr>\n",
       "  </tbody>\n",
       "</table>\n",
       "</div>"
      ],
      "text/plain": [
       "              df        sum_sq      mean_sq         F    PR(>F)\n",
       "C(Winter)    1.0   1862.551862  1862.551862  4.970244  0.026877\n",
       "Residual   204.0  76447.064643   374.740513       NaN       NaN"
      ]
     },
     "metadata": {},
     "output_type": "display_data"
    },
    {
     "name": "stdout",
     "output_type": "stream",
     "text": [
      "\n"
     ]
    },
    {
     "data": {
      "text/html": [
       "<table class=\"simpletable\">\n",
       "<caption>Multiple Comparison of Means - Tukey HSD,FWER=0.05</caption>\n",
       "<tr>\n",
       "  <th>group1</th> <th>group2</th> <th>meandiff</th>  <th>lower</th>  <th>upper</th>  <th>reject</th>\n",
       "</tr>\n",
       "<tr>\n",
       "   <td>False</td>  <td>True</td>   <td>6.9669</td>  <td>0.8054</td> <td>13.1283</td>  <td>True</td> \n",
       "</tr>\n",
       "</table>"
      ],
      "text/plain": [
       "<class 'statsmodels.iolib.table.SimpleTable'>"
      ]
     },
     "metadata": {},
     "output_type": "display_data"
    },
    {
     "name": "stdout",
     "output_type": "stream",
     "text": [
      "\n",
      "0.3597657294474283\n",
      "\n",
      "Spring:\n"
     ]
    },
    {
     "data": {
      "text/html": [
       "<div>\n",
       "<style scoped>\n",
       "    .dataframe tbody tr th:only-of-type {\n",
       "        vertical-align: middle;\n",
       "    }\n",
       "\n",
       "    .dataframe tbody tr th {\n",
       "        vertical-align: top;\n",
       "    }\n",
       "\n",
       "    .dataframe thead th {\n",
       "        text-align: right;\n",
       "    }\n",
       "</style>\n",
       "<table border=\"1\" class=\"dataframe\">\n",
       "  <thead>\n",
       "    <tr style=\"text-align: right;\">\n",
       "      <th></th>\n",
       "      <th>df</th>\n",
       "      <th>sum_sq</th>\n",
       "      <th>mean_sq</th>\n",
       "      <th>F</th>\n",
       "      <th>PR(&gt;F)</th>\n",
       "    </tr>\n",
       "  </thead>\n",
       "  <tbody>\n",
       "    <tr>\n",
       "      <th>C(Spring)</th>\n",
       "      <td>1.0</td>\n",
       "      <td>1568.734782</td>\n",
       "      <td>1568.734782</td>\n",
       "      <td>4.170162</td>\n",
       "      <td>0.042429</td>\n",
       "    </tr>\n",
       "    <tr>\n",
       "      <th>Residual</th>\n",
       "      <td>204.0</td>\n",
       "      <td>76740.881723</td>\n",
       "      <td>376.180793</td>\n",
       "      <td>NaN</td>\n",
       "      <td>NaN</td>\n",
       "    </tr>\n",
       "  </tbody>\n",
       "</table>\n",
       "</div>"
      ],
      "text/plain": [
       "              df        sum_sq      mean_sq         F    PR(>F)\n",
       "C(Spring)    1.0   1568.734782  1568.734782  4.170162  0.042429\n",
       "Residual   204.0  76740.881723   376.180793       NaN       NaN"
      ]
     },
     "metadata": {},
     "output_type": "display_data"
    },
    {
     "name": "stdout",
     "output_type": "stream",
     "text": [
      "\n"
     ]
    },
    {
     "data": {
      "text/html": [
       "<table class=\"simpletable\">\n",
       "<caption>Multiple Comparison of Means - Tukey HSD,FWER=0.05</caption>\n",
       "<tr>\n",
       "  <th>group1</th> <th>group2</th> <th>meandiff</th>   <th>lower</th>   <th>upper</th> <th>reject</th>\n",
       "</tr>\n",
       "<tr>\n",
       "   <td>False</td>  <td>True</td>   <td>-5.8263</td> <td>-11.4516</td> <td>-0.201</td>  <td>True</td> \n",
       "</tr>\n",
       "</table>"
      ],
      "text/plain": [
       "<class 'statsmodels.iolib.table.SimpleTable'>"
      ]
     },
     "metadata": {},
     "output_type": "display_data"
    },
    {
     "name": "stdout",
     "output_type": "stream",
     "text": [
      "\n",
      "0.3005246238768775\n",
      "\n",
      "Summer:\n"
     ]
    },
    {
     "data": {
      "text/html": [
       "<div>\n",
       "<style scoped>\n",
       "    .dataframe tbody tr th:only-of-type {\n",
       "        vertical-align: middle;\n",
       "    }\n",
       "\n",
       "    .dataframe tbody tr th {\n",
       "        vertical-align: top;\n",
       "    }\n",
       "\n",
       "    .dataframe thead th {\n",
       "        text-align: right;\n",
       "    }\n",
       "</style>\n",
       "<table border=\"1\" class=\"dataframe\">\n",
       "  <thead>\n",
       "    <tr style=\"text-align: right;\">\n",
       "      <th></th>\n",
       "      <th>df</th>\n",
       "      <th>sum_sq</th>\n",
       "      <th>mean_sq</th>\n",
       "      <th>F</th>\n",
       "      <th>PR(&gt;F)</th>\n",
       "    </tr>\n",
       "  </thead>\n",
       "  <tbody>\n",
       "    <tr>\n",
       "      <th>C(Summer)</th>\n",
       "      <td>1.0</td>\n",
       "      <td>20.482106</td>\n",
       "      <td>20.482106</td>\n",
       "      <td>0.053371</td>\n",
       "      <td>0.81753</td>\n",
       "    </tr>\n",
       "    <tr>\n",
       "      <th>Residual</th>\n",
       "      <td>204.0</td>\n",
       "      <td>78289.134398</td>\n",
       "      <td>383.770267</td>\n",
       "      <td>NaN</td>\n",
       "      <td>NaN</td>\n",
       "    </tr>\n",
       "  </tbody>\n",
       "</table>\n",
       "</div>"
      ],
      "text/plain": [
       "              df        sum_sq     mean_sq         F   PR(>F)\n",
       "C(Summer)    1.0     20.482106   20.482106  0.053371  0.81753\n",
       "Residual   204.0  78289.134398  383.770267       NaN      NaN"
      ]
     },
     "metadata": {},
     "output_type": "display_data"
    },
    {
     "name": "stdout",
     "output_type": "stream",
     "text": [
      "\n"
     ]
    },
    {
     "data": {
      "text/html": [
       "<table class=\"simpletable\">\n",
       "<caption>Multiple Comparison of Means - Tukey HSD,FWER=0.05</caption>\n",
       "<tr>\n",
       "  <th>group1</th> <th>group2</th> <th>meandiff</th>  <th>lower</th>   <th>upper</th> <th>reject</th>\n",
       "</tr>\n",
       "<tr>\n",
       "   <td>False</td>  <td>True</td>   <td>-0.813</td>  <td>-7.7513</td> <td>6.1254</td>  <td>False</td>\n",
       "</tr>\n",
       "</table>"
      ],
      "text/plain": [
       "<class 'statsmodels.iolib.table.SimpleTable'>"
      ]
     },
     "metadata": {},
     "output_type": "display_data"
    },
    {
     "name": "stdout",
     "output_type": "stream",
     "text": [
      "\n",
      "0.04147938091779327\n",
      "\n",
      "Fall:\n"
     ]
    },
    {
     "data": {
      "text/html": [
       "<div>\n",
       "<style scoped>\n",
       "    .dataframe tbody tr th:only-of-type {\n",
       "        vertical-align: middle;\n",
       "    }\n",
       "\n",
       "    .dataframe tbody tr th {\n",
       "        vertical-align: top;\n",
       "    }\n",
       "\n",
       "    .dataframe thead th {\n",
       "        text-align: right;\n",
       "    }\n",
       "</style>\n",
       "<table border=\"1\" class=\"dataframe\">\n",
       "  <thead>\n",
       "    <tr style=\"text-align: right;\">\n",
       "      <th></th>\n",
       "      <th>df</th>\n",
       "      <th>sum_sq</th>\n",
       "      <th>mean_sq</th>\n",
       "      <th>F</th>\n",
       "      <th>PR(&gt;F)</th>\n",
       "    </tr>\n",
       "  </thead>\n",
       "  <tbody>\n",
       "    <tr>\n",
       "      <th>C(Fall)</th>\n",
       "      <td>1.0</td>\n",
       "      <td>20.247577</td>\n",
       "      <td>20.247577</td>\n",
       "      <td>0.052759</td>\n",
       "      <td>0.818559</td>\n",
       "    </tr>\n",
       "    <tr>\n",
       "      <th>Residual</th>\n",
       "      <td>204.0</td>\n",
       "      <td>78289.368928</td>\n",
       "      <td>383.771416</td>\n",
       "      <td>NaN</td>\n",
       "      <td>NaN</td>\n",
       "    </tr>\n",
       "  </tbody>\n",
       "</table>\n",
       "</div>"
      ],
      "text/plain": [
       "             df        sum_sq     mean_sq         F    PR(>F)\n",
       "C(Fall)     1.0     20.247577   20.247577  0.052759  0.818559\n",
       "Residual  204.0  78289.368928  383.771416       NaN       NaN"
      ]
     },
     "metadata": {},
     "output_type": "display_data"
    },
    {
     "name": "stdout",
     "output_type": "stream",
     "text": [
      "\n"
     ]
    },
    {
     "data": {
      "text/html": [
       "<table class=\"simpletable\">\n",
       "<caption>Multiple Comparison of Means - Tukey HSD,FWER=0.05</caption>\n",
       "<tr>\n",
       "  <th>group1</th> <th>group2</th> <th>meandiff</th>  <th>lower</th>  <th>upper</th> <th>reject</th>\n",
       "</tr>\n",
       "<tr>\n",
       "   <td>False</td>  <td>True</td>   <td>0.7471</td>  <td>-5.6658</td> <td>7.16</td>   <td>False</td>\n",
       "</tr>\n",
       "</table>"
      ],
      "text/plain": [
       "<class 'statsmodels.iolib.table.SimpleTable'>"
      ]
     },
     "metadata": {},
     "output_type": "display_data"
    },
    {
     "name": "stdout",
     "output_type": "stream",
     "text": [
      "\n",
      "0.03813160483555205\n",
      "\n",
      "Confections\n",
      "Winter:\n"
     ]
    },
    {
     "data": {
      "text/html": [
       "<div>\n",
       "<style scoped>\n",
       "    .dataframe tbody tr th:only-of-type {\n",
       "        vertical-align: middle;\n",
       "    }\n",
       "\n",
       "    .dataframe tbody tr th {\n",
       "        vertical-align: top;\n",
       "    }\n",
       "\n",
       "    .dataframe thead th {\n",
       "        text-align: right;\n",
       "    }\n",
       "</style>\n",
       "<table border=\"1\" class=\"dataframe\">\n",
       "  <thead>\n",
       "    <tr style=\"text-align: right;\">\n",
       "      <th></th>\n",
       "      <th>df</th>\n",
       "      <th>sum_sq</th>\n",
       "      <th>mean_sq</th>\n",
       "      <th>F</th>\n",
       "      <th>PR(&gt;F)</th>\n",
       "    </tr>\n",
       "  </thead>\n",
       "  <tbody>\n",
       "    <tr>\n",
       "      <th>C(Winter)</th>\n",
       "      <td>1.0</td>\n",
       "      <td>3.787730</td>\n",
       "      <td>3.787730</td>\n",
       "      <td>0.012578</td>\n",
       "      <td>0.910776</td>\n",
       "    </tr>\n",
       "    <tr>\n",
       "      <th>Residual</th>\n",
       "      <td>315.0</td>\n",
       "      <td>94861.114478</td>\n",
       "      <td>301.146395</td>\n",
       "      <td>NaN</td>\n",
       "      <td>NaN</td>\n",
       "    </tr>\n",
       "  </tbody>\n",
       "</table>\n",
       "</div>"
      ],
      "text/plain": [
       "              df        sum_sq     mean_sq         F    PR(>F)\n",
       "C(Winter)    1.0      3.787730    3.787730  0.012578  0.910776\n",
       "Residual   315.0  94861.114478  301.146395       NaN       NaN"
      ]
     },
     "metadata": {},
     "output_type": "display_data"
    },
    {
     "name": "stdout",
     "output_type": "stream",
     "text": [
      "\n"
     ]
    },
    {
     "data": {
      "text/html": [
       "<table class=\"simpletable\">\n",
       "<caption>Multiple Comparison of Means - Tukey HSD,FWER=0.05</caption>\n",
       "<tr>\n",
       "  <th>group1</th> <th>group2</th> <th>meandiff</th>  <th>lower</th>   <th>upper</th> <th>reject</th>\n",
       "</tr>\n",
       "<tr>\n",
       "   <td>False</td>  <td>True</td>   <td>0.2306</td>  <td>-3.8156</td> <td>4.2769</td>  <td>False</td>\n",
       "</tr>\n",
       "</table>"
      ],
      "text/plain": [
       "<class 'statsmodels.iolib.table.SimpleTable'>"
      ]
     },
     "metadata": {},
     "output_type": "display_data"
    },
    {
     "name": "stdout",
     "output_type": "stream",
     "text": [
      "\n",
      "0.013292421606621625\n",
      "\n",
      "Spring:\n"
     ]
    },
    {
     "data": {
      "text/html": [
       "<div>\n",
       "<style scoped>\n",
       "    .dataframe tbody tr th:only-of-type {\n",
       "        vertical-align: middle;\n",
       "    }\n",
       "\n",
       "    .dataframe tbody tr th {\n",
       "        vertical-align: top;\n",
       "    }\n",
       "\n",
       "    .dataframe thead th {\n",
       "        text-align: right;\n",
       "    }\n",
       "</style>\n",
       "<table border=\"1\" class=\"dataframe\">\n",
       "  <thead>\n",
       "    <tr style=\"text-align: right;\">\n",
       "      <th></th>\n",
       "      <th>df</th>\n",
       "      <th>sum_sq</th>\n",
       "      <th>mean_sq</th>\n",
       "      <th>F</th>\n",
       "      <th>PR(&gt;F)</th>\n",
       "    </tr>\n",
       "  </thead>\n",
       "  <tbody>\n",
       "    <tr>\n",
       "      <th>C(Spring)</th>\n",
       "      <td>1.0</td>\n",
       "      <td>702.755681</td>\n",
       "      <td>702.755681</td>\n",
       "      <td>2.350924</td>\n",
       "      <td>0.126212</td>\n",
       "    </tr>\n",
       "    <tr>\n",
       "      <th>Residual</th>\n",
       "      <td>315.0</td>\n",
       "      <td>94162.146527</td>\n",
       "      <td>298.927449</td>\n",
       "      <td>NaN</td>\n",
       "      <td>NaN</td>\n",
       "    </tr>\n",
       "  </tbody>\n",
       "</table>\n",
       "</div>"
      ],
      "text/plain": [
       "              df        sum_sq     mean_sq         F    PR(>F)\n",
       "C(Spring)    1.0    702.755681  702.755681  2.350924  0.126212\n",
       "Residual   315.0  94162.146527  298.927449       NaN       NaN"
      ]
     },
     "metadata": {},
     "output_type": "display_data"
    },
    {
     "name": "stdout",
     "output_type": "stream",
     "text": [
      "\n"
     ]
    },
    {
     "data": {
      "text/html": [
       "<table class=\"simpletable\">\n",
       "<caption>Multiple Comparison of Means - Tukey HSD,FWER=0.05</caption>\n",
       "<tr>\n",
       "  <th>group1</th> <th>group2</th> <th>meandiff</th>  <th>lower</th>  <th>upper</th> <th>reject</th>\n",
       "</tr>\n",
       "<tr>\n",
       "   <td>False</td>  <td>True</td>   <td>3.3366</td>  <td>-0.945</td> <td>7.6183</td>  <td>False</td>\n",
       "</tr>\n",
       "</table>"
      ],
      "text/plain": [
       "<class 'statsmodels.iolib.table.SimpleTable'>"
      ]
     },
     "metadata": {},
     "output_type": "display_data"
    },
    {
     "name": "stdout",
     "output_type": "stream",
     "text": [
      "\n",
      "0.1929155000873947\n",
      "\n",
      "Summer:\n"
     ]
    },
    {
     "data": {
      "text/html": [
       "<div>\n",
       "<style scoped>\n",
       "    .dataframe tbody tr th:only-of-type {\n",
       "        vertical-align: middle;\n",
       "    }\n",
       "\n",
       "    .dataframe tbody tr th {\n",
       "        vertical-align: top;\n",
       "    }\n",
       "\n",
       "    .dataframe thead th {\n",
       "        text-align: right;\n",
       "    }\n",
       "</style>\n",
       "<table border=\"1\" class=\"dataframe\">\n",
       "  <thead>\n",
       "    <tr style=\"text-align: right;\">\n",
       "      <th></th>\n",
       "      <th>df</th>\n",
       "      <th>sum_sq</th>\n",
       "      <th>mean_sq</th>\n",
       "      <th>F</th>\n",
       "      <th>PR(&gt;F)</th>\n",
       "    </tr>\n",
       "  </thead>\n",
       "  <tbody>\n",
       "    <tr>\n",
       "      <th>C(Summer)</th>\n",
       "      <td>1.0</td>\n",
       "      <td>122.602129</td>\n",
       "      <td>122.602129</td>\n",
       "      <td>0.407629</td>\n",
       "      <td>0.52364</td>\n",
       "    </tr>\n",
       "    <tr>\n",
       "      <th>Residual</th>\n",
       "      <td>315.0</td>\n",
       "      <td>94742.300079</td>\n",
       "      <td>300.769207</td>\n",
       "      <td>NaN</td>\n",
       "      <td>NaN</td>\n",
       "    </tr>\n",
       "  </tbody>\n",
       "</table>\n",
       "</div>"
      ],
      "text/plain": [
       "              df        sum_sq     mean_sq         F   PR(>F)\n",
       "C(Summer)    1.0    122.602129  122.602129  0.407629  0.52364\n",
       "Residual   315.0  94742.300079  300.769207       NaN      NaN"
      ]
     },
     "metadata": {},
     "output_type": "display_data"
    },
    {
     "name": "stdout",
     "output_type": "stream",
     "text": [
      "\n"
     ]
    },
    {
     "data": {
      "text/html": [
       "<table class=\"simpletable\">\n",
       "<caption>Multiple Comparison of Means - Tukey HSD,FWER=0.05</caption>\n",
       "<tr>\n",
       "  <th>group1</th> <th>group2</th> <th>meandiff</th>  <th>lower</th>  <th>upper</th> <th>reject</th>\n",
       "</tr>\n",
       "<tr>\n",
       "   <td>False</td>  <td>True</td>    <td>-1.75</td>  <td>-7.1431</td> <td>3.643</td>  <td>False</td>\n",
       "</tr>\n",
       "</table>"
      ],
      "text/plain": [
       "<class 'statsmodels.iolib.table.SimpleTable'>"
      ]
     },
     "metadata": {},
     "output_type": "display_data"
    },
    {
     "name": "stdout",
     "output_type": "stream",
     "text": [
      "\n",
      "0.10092931613418578\n",
      "\n",
      "Fall:\n"
     ]
    },
    {
     "data": {
      "text/html": [
       "<div>\n",
       "<style scoped>\n",
       "    .dataframe tbody tr th:only-of-type {\n",
       "        vertical-align: middle;\n",
       "    }\n",
       "\n",
       "    .dataframe tbody tr th {\n",
       "        vertical-align: top;\n",
       "    }\n",
       "\n",
       "    .dataframe thead th {\n",
       "        text-align: right;\n",
       "    }\n",
       "</style>\n",
       "<table border=\"1\" class=\"dataframe\">\n",
       "  <thead>\n",
       "    <tr style=\"text-align: right;\">\n",
       "      <th></th>\n",
       "      <th>df</th>\n",
       "      <th>sum_sq</th>\n",
       "      <th>mean_sq</th>\n",
       "      <th>F</th>\n",
       "      <th>PR(&gt;F)</th>\n",
       "    </tr>\n",
       "  </thead>\n",
       "  <tbody>\n",
       "    <tr>\n",
       "      <th>C(Fall)</th>\n",
       "      <td>1.0</td>\n",
       "      <td>430.422208</td>\n",
       "      <td>430.422208</td>\n",
       "      <td>1.435736</td>\n",
       "      <td>0.231731</td>\n",
       "    </tr>\n",
       "    <tr>\n",
       "      <th>Residual</th>\n",
       "      <td>315.0</td>\n",
       "      <td>94434.480000</td>\n",
       "      <td>299.792000</td>\n",
       "      <td>NaN</td>\n",
       "      <td>NaN</td>\n",
       "    </tr>\n",
       "  </tbody>\n",
       "</table>\n",
       "</div>"
      ],
      "text/plain": [
       "             df        sum_sq     mean_sq         F    PR(>F)\n",
       "C(Fall)     1.0    430.422208  430.422208  1.435736  0.231731\n",
       "Residual  315.0  94434.480000  299.792000       NaN       NaN"
      ]
     },
     "metadata": {},
     "output_type": "display_data"
    },
    {
     "name": "stdout",
     "output_type": "stream",
     "text": [
      "\n"
     ]
    },
    {
     "data": {
      "text/html": [
       "<table class=\"simpletable\">\n",
       "<caption>Multiple Comparison of Means - Tukey HSD,FWER=0.05</caption>\n",
       "<tr>\n",
       "  <th>group1</th> <th>group2</th> <th>meandiff</th>  <th>lower</th>  <th>upper</th> <th>reject</th>\n",
       "</tr>\n",
       "<tr>\n",
       "   <td>False</td>  <td>True</td>   <td>-2.7418</td> <td>-7.244</td> <td>1.7603</td>  <td>False</td>\n",
       "</tr>\n",
       "</table>"
      ],
      "text/plain": [
       "<class 'statsmodels.iolib.table.SimpleTable'>"
      ]
     },
     "metadata": {},
     "output_type": "display_data"
    },
    {
     "name": "stdout",
     "output_type": "stream",
     "text": [
      "\n",
      "0.15836749211803972\n",
      "\n",
      "Beverages\n",
      "Winter:\n"
     ]
    },
    {
     "data": {
      "text/html": [
       "<div>\n",
       "<style scoped>\n",
       "    .dataframe tbody tr th:only-of-type {\n",
       "        vertical-align: middle;\n",
       "    }\n",
       "\n",
       "    .dataframe tbody tr th {\n",
       "        vertical-align: top;\n",
       "    }\n",
       "\n",
       "    .dataframe thead th {\n",
       "        text-align: right;\n",
       "    }\n",
       "</style>\n",
       "<table border=\"1\" class=\"dataframe\">\n",
       "  <thead>\n",
       "    <tr style=\"text-align: right;\">\n",
       "      <th></th>\n",
       "      <th>df</th>\n",
       "      <th>sum_sq</th>\n",
       "      <th>mean_sq</th>\n",
       "      <th>F</th>\n",
       "      <th>PR(&gt;F)</th>\n",
       "    </tr>\n",
       "  </thead>\n",
       "  <tbody>\n",
       "    <tr>\n",
       "      <th>C(Winter)</th>\n",
       "      <td>1.0</td>\n",
       "      <td>117.659050</td>\n",
       "      <td>117.659050</td>\n",
       "      <td>0.360372</td>\n",
       "      <td>0.548655</td>\n",
       "    </tr>\n",
       "    <tr>\n",
       "      <th>Residual</th>\n",
       "      <td>382.0</td>\n",
       "      <td>124720.275846</td>\n",
       "      <td>326.492869</td>\n",
       "      <td>NaN</td>\n",
       "      <td>NaN</td>\n",
       "    </tr>\n",
       "  </tbody>\n",
       "</table>\n",
       "</div>"
      ],
      "text/plain": [
       "              df         sum_sq     mean_sq         F    PR(>F)\n",
       "C(Winter)    1.0     117.659050  117.659050  0.360372  0.548655\n",
       "Residual   382.0  124720.275846  326.492869       NaN       NaN"
      ]
     },
     "metadata": {},
     "output_type": "display_data"
    },
    {
     "name": "stdout",
     "output_type": "stream",
     "text": [
      "\n"
     ]
    },
    {
     "data": {
      "text/html": [
       "<table class=\"simpletable\">\n",
       "<caption>Multiple Comparison of Means - Tukey HSD,FWER=0.05</caption>\n",
       "<tr>\n",
       "  <th>group1</th> <th>group2</th> <th>meandiff</th>  <th>lower</th>   <th>upper</th> <th>reject</th>\n",
       "</tr>\n",
       "<tr>\n",
       "   <td>False</td>  <td>True</td>   <td>-1.2244</td> <td>-5.2345</td> <td>2.7858</td>  <td>False</td>\n",
       "</tr>\n",
       "</table>"
      ],
      "text/plain": [
       "<class 'statsmodels.iolib.table.SimpleTable'>"
      ]
     },
     "metadata": {},
     "output_type": "display_data"
    },
    {
     "name": "stdout",
     "output_type": "stream",
     "text": [
      "\n",
      "0.06775619447393243\n",
      "\n",
      "Spring:\n"
     ]
    },
    {
     "data": {
      "text/html": [
       "<div>\n",
       "<style scoped>\n",
       "    .dataframe tbody tr th:only-of-type {\n",
       "        vertical-align: middle;\n",
       "    }\n",
       "\n",
       "    .dataframe tbody tr th {\n",
       "        vertical-align: top;\n",
       "    }\n",
       "\n",
       "    .dataframe thead th {\n",
       "        text-align: right;\n",
       "    }\n",
       "</style>\n",
       "<table border=\"1\" class=\"dataframe\">\n",
       "  <thead>\n",
       "    <tr style=\"text-align: right;\">\n",
       "      <th></th>\n",
       "      <th>df</th>\n",
       "      <th>sum_sq</th>\n",
       "      <th>mean_sq</th>\n",
       "      <th>F</th>\n",
       "      <th>PR(&gt;F)</th>\n",
       "    </tr>\n",
       "  </thead>\n",
       "  <tbody>\n",
       "    <tr>\n",
       "      <th>C(Spring)</th>\n",
       "      <td>1.0</td>\n",
       "      <td>829.403813</td>\n",
       "      <td>829.403813</td>\n",
       "      <td>2.554923</td>\n",
       "      <td>0.110778</td>\n",
       "    </tr>\n",
       "    <tr>\n",
       "      <th>Residual</th>\n",
       "      <td>382.0</td>\n",
       "      <td>124008.531082</td>\n",
       "      <td>324.629663</td>\n",
       "      <td>NaN</td>\n",
       "      <td>NaN</td>\n",
       "    </tr>\n",
       "  </tbody>\n",
       "</table>\n",
       "</div>"
      ],
      "text/plain": [
       "              df         sum_sq     mean_sq         F    PR(>F)\n",
       "C(Spring)    1.0     829.403813  829.403813  2.554923  0.110778\n",
       "Residual   382.0  124008.531082  324.629663       NaN       NaN"
      ]
     },
     "metadata": {},
     "output_type": "display_data"
    },
    {
     "name": "stdout",
     "output_type": "stream",
     "text": [
      "\n"
     ]
    },
    {
     "data": {
      "text/html": [
       "<table class=\"simpletable\">\n",
       "<caption>Multiple Comparison of Means - Tukey HSD,FWER=0.05</caption>\n",
       "<tr>\n",
       "  <th>group1</th> <th>group2</th> <th>meandiff</th>  <th>lower</th>   <th>upper</th> <th>reject</th>\n",
       "</tr>\n",
       "<tr>\n",
       "   <td>False</td>  <td>True</td>   <td>3.1238</td>  <td>-0.7188</td> <td>6.9663</td>  <td>False</td>\n",
       "</tr>\n",
       "</table>"
      ],
      "text/plain": [
       "<class 'statsmodels.iolib.table.SimpleTable'>"
      ]
     },
     "metadata": {},
     "output_type": "display_data"
    },
    {
     "name": "stdout",
     "output_type": "stream",
     "text": [
      "\n",
      "0.1733487032859829\n",
      "\n",
      "Summer:\n"
     ]
    },
    {
     "data": {
      "text/html": [
       "<div>\n",
       "<style scoped>\n",
       "    .dataframe tbody tr th:only-of-type {\n",
       "        vertical-align: middle;\n",
       "    }\n",
       "\n",
       "    .dataframe tbody tr th {\n",
       "        vertical-align: top;\n",
       "    }\n",
       "\n",
       "    .dataframe thead th {\n",
       "        text-align: right;\n",
       "    }\n",
       "</style>\n",
       "<table border=\"1\" class=\"dataframe\">\n",
       "  <thead>\n",
       "    <tr style=\"text-align: right;\">\n",
       "      <th></th>\n",
       "      <th>df</th>\n",
       "      <th>sum_sq</th>\n",
       "      <th>mean_sq</th>\n",
       "      <th>F</th>\n",
       "      <th>PR(&gt;F)</th>\n",
       "    </tr>\n",
       "  </thead>\n",
       "  <tbody>\n",
       "    <tr>\n",
       "      <th>C(Summer)</th>\n",
       "      <td>1.0</td>\n",
       "      <td>279.794939</td>\n",
       "      <td>279.794939</td>\n",
       "      <td>0.858087</td>\n",
       "      <td>0.35486</td>\n",
       "    </tr>\n",
       "    <tr>\n",
       "      <th>Residual</th>\n",
       "      <td>382.0</td>\n",
       "      <td>124558.139957</td>\n",
       "      <td>326.068429</td>\n",
       "      <td>NaN</td>\n",
       "      <td>NaN</td>\n",
       "    </tr>\n",
       "  </tbody>\n",
       "</table>\n",
       "</div>"
      ],
      "text/plain": [
       "              df         sum_sq     mean_sq         F   PR(>F)\n",
       "C(Summer)    1.0     279.794939  279.794939  0.858087  0.35486\n",
       "Residual   382.0  124558.139957  326.068429       NaN      NaN"
      ]
     },
     "metadata": {},
     "output_type": "display_data"
    },
    {
     "name": "stdout",
     "output_type": "stream",
     "text": [
      "\n"
     ]
    },
    {
     "data": {
      "text/html": [
       "<table class=\"simpletable\">\n",
       "<caption>Multiple Comparison of Means - Tukey HSD,FWER=0.05</caption>\n",
       "<tr>\n",
       "  <th>group1</th> <th>group2</th> <th>meandiff</th>  <th>lower</th>  <th>upper</th> <th>reject</th>\n",
       "</tr>\n",
       "<tr>\n",
       "   <td>False</td>  <td>True</td>   <td>-2.187</td>  <td>-6.8289</td> <td>2.455</td>  <td>False</td>\n",
       "</tr>\n",
       "</table>"
      ],
      "text/plain": [
       "<class 'statsmodels.iolib.table.SimpleTable'>"
      ]
     },
     "metadata": {},
     "output_type": "display_data"
    },
    {
     "name": "stdout",
     "output_type": "stream",
     "text": [
      "\n",
      "0.12112963290831022\n",
      "\n",
      "Fall:\n"
     ]
    },
    {
     "data": {
      "text/html": [
       "<div>\n",
       "<style scoped>\n",
       "    .dataframe tbody tr th:only-of-type {\n",
       "        vertical-align: middle;\n",
       "    }\n",
       "\n",
       "    .dataframe tbody tr th {\n",
       "        vertical-align: top;\n",
       "    }\n",
       "\n",
       "    .dataframe thead th {\n",
       "        text-align: right;\n",
       "    }\n",
       "</style>\n",
       "<table border=\"1\" class=\"dataframe\">\n",
       "  <thead>\n",
       "    <tr style=\"text-align: right;\">\n",
       "      <th></th>\n",
       "      <th>df</th>\n",
       "      <th>sum_sq</th>\n",
       "      <th>mean_sq</th>\n",
       "      <th>F</th>\n",
       "      <th>PR(&gt;F)</th>\n",
       "    </tr>\n",
       "  </thead>\n",
       "  <tbody>\n",
       "    <tr>\n",
       "      <th>C(Fall)</th>\n",
       "      <td>1.0</td>\n",
       "      <td>28.504734</td>\n",
       "      <td>28.504734</td>\n",
       "      <td>0.087243</td>\n",
       "      <td>0.767872</td>\n",
       "    </tr>\n",
       "    <tr>\n",
       "      <th>Residual</th>\n",
       "      <td>382.0</td>\n",
       "      <td>124809.430162</td>\n",
       "      <td>326.726257</td>\n",
       "      <td>NaN</td>\n",
       "      <td>NaN</td>\n",
       "    </tr>\n",
       "  </tbody>\n",
       "</table>\n",
       "</div>"
      ],
      "text/plain": [
       "             df         sum_sq     mean_sq         F    PR(>F)\n",
       "C(Fall)     1.0      28.504734   28.504734  0.087243  0.767872\n",
       "Residual  382.0  124809.430162  326.726257       NaN       NaN"
      ]
     },
     "metadata": {},
     "output_type": "display_data"
    },
    {
     "name": "stdout",
     "output_type": "stream",
     "text": [
      "\n"
     ]
    },
    {
     "data": {
      "text/html": [
       "<table class=\"simpletable\">\n",
       "<caption>Multiple Comparison of Means - Tukey HSD,FWER=0.05</caption>\n",
       "<tr>\n",
       "  <th>group1</th> <th>group2</th> <th>meandiff</th>  <th>lower</th>   <th>upper</th> <th>reject</th>\n",
       "</tr>\n",
       "<tr>\n",
       "   <td>False</td>  <td>True</td>   <td>-0.6872</td> <td>-5.2621</td> <td>3.8876</td>  <td>False</td>\n",
       "</tr>\n",
       "</table>"
      ],
      "text/plain": [
       "<class 'statsmodels.iolib.table.SimpleTable'>"
      ]
     },
     "metadata": {},
     "output_type": "display_data"
    },
    {
     "name": "stdout",
     "output_type": "stream",
     "text": [
      "\n",
      "0.03803341728190632\n",
      "\n",
      "Meat/Poultry\n",
      "Winter:\n"
     ]
    },
    {
     "data": {
      "text/html": [
       "<div>\n",
       "<style scoped>\n",
       "    .dataframe tbody tr th:only-of-type {\n",
       "        vertical-align: middle;\n",
       "    }\n",
       "\n",
       "    .dataframe tbody tr th {\n",
       "        vertical-align: top;\n",
       "    }\n",
       "\n",
       "    .dataframe thead th {\n",
       "        text-align: right;\n",
       "    }\n",
       "</style>\n",
       "<table border=\"1\" class=\"dataframe\">\n",
       "  <thead>\n",
       "    <tr style=\"text-align: right;\">\n",
       "      <th></th>\n",
       "      <th>df</th>\n",
       "      <th>sum_sq</th>\n",
       "      <th>mean_sq</th>\n",
       "      <th>F</th>\n",
       "      <th>PR(&gt;F)</th>\n",
       "    </tr>\n",
       "  </thead>\n",
       "  <tbody>\n",
       "    <tr>\n",
       "      <th>C(Winter)</th>\n",
       "      <td>1.0</td>\n",
       "      <td>899.929860</td>\n",
       "      <td>899.929860</td>\n",
       "      <td>1.810575</td>\n",
       "      <td>0.180308</td>\n",
       "    </tr>\n",
       "    <tr>\n",
       "      <th>Residual</th>\n",
       "      <td>163.0</td>\n",
       "      <td>81017.682261</td>\n",
       "      <td>497.040995</td>\n",
       "      <td>NaN</td>\n",
       "      <td>NaN</td>\n",
       "    </tr>\n",
       "  </tbody>\n",
       "</table>\n",
       "</div>"
      ],
      "text/plain": [
       "              df        sum_sq     mean_sq         F    PR(>F)\n",
       "C(Winter)    1.0    899.929860  899.929860  1.810575  0.180308\n",
       "Residual   163.0  81017.682261  497.040995       NaN       NaN"
      ]
     },
     "metadata": {},
     "output_type": "display_data"
    },
    {
     "name": "stdout",
     "output_type": "stream",
     "text": [
      "\n"
     ]
    },
    {
     "data": {
      "text/html": [
       "<table class=\"simpletable\">\n",
       "<caption>Multiple Comparison of Means - Tukey HSD,FWER=0.05</caption>\n",
       "<tr>\n",
       "  <th>group1</th> <th>group2</th> <th>meandiff</th>  <th>lower</th>  <th>upper</th>  <th>reject</th>\n",
       "</tr>\n",
       "<tr>\n",
       "   <td>False</td>  <td>True</td>   <td>4.9113</td>  <td>-2.296</td> <td>12.1186</td>  <td>False</td>\n",
       "</tr>\n",
       "</table>"
      ],
      "text/plain": [
       "<class 'statsmodels.iolib.table.SimpleTable'>"
      ]
     },
     "metadata": {},
     "output_type": "display_data"
    },
    {
     "name": "stdout",
     "output_type": "stream",
     "text": [
      "\n",
      "0.22015321390421172\n",
      "\n",
      "Spring:\n"
     ]
    },
    {
     "data": {
      "text/html": [
       "<div>\n",
       "<style scoped>\n",
       "    .dataframe tbody tr th:only-of-type {\n",
       "        vertical-align: middle;\n",
       "    }\n",
       "\n",
       "    .dataframe tbody tr th {\n",
       "        vertical-align: top;\n",
       "    }\n",
       "\n",
       "    .dataframe thead th {\n",
       "        text-align: right;\n",
       "    }\n",
       "</style>\n",
       "<table border=\"1\" class=\"dataframe\">\n",
       "  <thead>\n",
       "    <tr style=\"text-align: right;\">\n",
       "      <th></th>\n",
       "      <th>df</th>\n",
       "      <th>sum_sq</th>\n",
       "      <th>mean_sq</th>\n",
       "      <th>F</th>\n",
       "      <th>PR(&gt;F)</th>\n",
       "    </tr>\n",
       "  </thead>\n",
       "  <tbody>\n",
       "    <tr>\n",
       "      <th>C(Spring)</th>\n",
       "      <td>1.0</td>\n",
       "      <td>767.709101</td>\n",
       "      <td>767.709101</td>\n",
       "      <td>1.542042</td>\n",
       "      <td>0.216098</td>\n",
       "    </tr>\n",
       "    <tr>\n",
       "      <th>Residual</th>\n",
       "      <td>163.0</td>\n",
       "      <td>81149.903020</td>\n",
       "      <td>497.852166</td>\n",
       "      <td>NaN</td>\n",
       "      <td>NaN</td>\n",
       "    </tr>\n",
       "  </tbody>\n",
       "</table>\n",
       "</div>"
      ],
      "text/plain": [
       "              df        sum_sq     mean_sq         F    PR(>F)\n",
       "C(Spring)    1.0    767.709101  767.709101  1.542042  0.216098\n",
       "Residual   163.0  81149.903020  497.852166       NaN       NaN"
      ]
     },
     "metadata": {},
     "output_type": "display_data"
    },
    {
     "name": "stdout",
     "output_type": "stream",
     "text": [
      "\n"
     ]
    },
    {
     "data": {
      "text/html": [
       "<table class=\"simpletable\">\n",
       "<caption>Multiple Comparison of Means - Tukey HSD,FWER=0.05</caption>\n",
       "<tr>\n",
       "  <th>group1</th> <th>group2</th> <th>meandiff</th>   <th>lower</th>   <th>upper</th> <th>reject</th>\n",
       "</tr>\n",
       "<tr>\n",
       "   <td>False</td>  <td>True</td>   <td>-4.9518</td> <td>-12.8259</td> <td>2.9223</td>  <td>False</td>\n",
       "</tr>\n",
       "</table>"
      ],
      "text/plain": [
       "<class 'statsmodels.iolib.table.SimpleTable'>"
      ]
     },
     "metadata": {},
     "output_type": "display_data"
    },
    {
     "name": "stdout",
     "output_type": "stream",
     "text": [
      "\n",
      "0.22210283817348608\n",
      "\n",
      "Summer:\n"
     ]
    },
    {
     "data": {
      "text/html": [
       "<div>\n",
       "<style scoped>\n",
       "    .dataframe tbody tr th:only-of-type {\n",
       "        vertical-align: middle;\n",
       "    }\n",
       "\n",
       "    .dataframe tbody tr th {\n",
       "        vertical-align: top;\n",
       "    }\n",
       "\n",
       "    .dataframe thead th {\n",
       "        text-align: right;\n",
       "    }\n",
       "</style>\n",
       "<table border=\"1\" class=\"dataframe\">\n",
       "  <thead>\n",
       "    <tr style=\"text-align: right;\">\n",
       "      <th></th>\n",
       "      <th>df</th>\n",
       "      <th>sum_sq</th>\n",
       "      <th>mean_sq</th>\n",
       "      <th>F</th>\n",
       "      <th>PR(&gt;F)</th>\n",
       "    </tr>\n",
       "  </thead>\n",
       "  <tbody>\n",
       "    <tr>\n",
       "      <th>C(Summer)</th>\n",
       "      <td>1.0</td>\n",
       "      <td>206.546266</td>\n",
       "      <td>206.546266</td>\n",
       "      <td>0.412025</td>\n",
       "      <td>0.521845</td>\n",
       "    </tr>\n",
       "    <tr>\n",
       "      <th>Residual</th>\n",
       "      <td>163.0</td>\n",
       "      <td>81711.065855</td>\n",
       "      <td>501.294883</td>\n",
       "      <td>NaN</td>\n",
       "      <td>NaN</td>\n",
       "    </tr>\n",
       "  </tbody>\n",
       "</table>\n",
       "</div>"
      ],
      "text/plain": [
       "              df        sum_sq     mean_sq         F    PR(>F)\n",
       "C(Summer)    1.0    206.546266  206.546266  0.412025  0.521845\n",
       "Residual   163.0  81711.065855  501.294883       NaN       NaN"
      ]
     },
     "metadata": {},
     "output_type": "display_data"
    },
    {
     "name": "stdout",
     "output_type": "stream",
     "text": [
      "\n"
     ]
    },
    {
     "data": {
      "text/html": [
       "<table class=\"simpletable\">\n",
       "<caption>Multiple Comparison of Means - Tukey HSD,FWER=0.05</caption>\n",
       "<tr>\n",
       "  <th>group1</th> <th>group2</th> <th>meandiff</th>   <th>lower</th>   <th>upper</th> <th>reject</th>\n",
       "</tr>\n",
       "<tr>\n",
       "   <td>False</td>  <td>True</td>   <td>-3.0708</td> <td>-12.5175</td> <td>6.3758</td>  <td>False</td>\n",
       "</tr>\n",
       "</table>"
      ],
      "text/plain": [
       "<class 'statsmodels.iolib.table.SimpleTable'>"
      ]
     },
     "metadata": {},
     "output_type": "display_data"
    },
    {
     "name": "stdout",
     "output_type": "stream",
     "text": [
      "\n",
      "0.13725101738070788\n",
      "\n",
      "Fall:\n"
     ]
    },
    {
     "data": {
      "text/html": [
       "<div>\n",
       "<style scoped>\n",
       "    .dataframe tbody tr th:only-of-type {\n",
       "        vertical-align: middle;\n",
       "    }\n",
       "\n",
       "    .dataframe tbody tr th {\n",
       "        vertical-align: top;\n",
       "    }\n",
       "\n",
       "    .dataframe thead th {\n",
       "        text-align: right;\n",
       "    }\n",
       "</style>\n",
       "<table border=\"1\" class=\"dataframe\">\n",
       "  <thead>\n",
       "    <tr style=\"text-align: right;\">\n",
       "      <th></th>\n",
       "      <th>df</th>\n",
       "      <th>sum_sq</th>\n",
       "      <th>mean_sq</th>\n",
       "      <th>F</th>\n",
       "      <th>PR(&gt;F)</th>\n",
       "    </tr>\n",
       "  </thead>\n",
       "  <tbody>\n",
       "    <tr>\n",
       "      <th>C(Fall)</th>\n",
       "      <td>1.0</td>\n",
       "      <td>50.349121</td>\n",
       "      <td>50.349121</td>\n",
       "      <td>0.100247</td>\n",
       "      <td>0.751939</td>\n",
       "    </tr>\n",
       "    <tr>\n",
       "      <th>Residual</th>\n",
       "      <td>163.0</td>\n",
       "      <td>81867.263000</td>\n",
       "      <td>502.253147</td>\n",
       "      <td>NaN</td>\n",
       "      <td>NaN</td>\n",
       "    </tr>\n",
       "  </tbody>\n",
       "</table>\n",
       "</div>"
      ],
      "text/plain": [
       "             df        sum_sq     mean_sq         F    PR(>F)\n",
       "C(Fall)     1.0     50.349121   50.349121  0.100247  0.751939\n",
       "Residual  163.0  81867.263000  502.253147       NaN       NaN"
      ]
     },
     "metadata": {},
     "output_type": "display_data"
    },
    {
     "name": "stdout",
     "output_type": "stream",
     "text": [
      "\n"
     ]
    },
    {
     "data": {
      "text/html": [
       "<table class=\"simpletable\">\n",
       "<caption>Multiple Comparison of Means - Tukey HSD,FWER=0.05</caption>\n",
       "<tr>\n",
       "  <th>group1</th> <th>group2</th> <th>meandiff</th> <th>lower</th> <th>upper</th> <th>reject</th>\n",
       "</tr>\n",
       "<tr>\n",
       "   <td>False</td>  <td>True</td>    <td>1.289</td>  <td>-6.75</td> <td>9.328</td>  <td>False</td>\n",
       "</tr>\n",
       "</table>"
      ],
      "text/plain": [
       "<class 'statsmodels.iolib.table.SimpleTable'>"
      ]
     },
     "metadata": {},
     "output_type": "display_data"
    },
    {
     "name": "stdout",
     "output_type": "stream",
     "text": [
      "\n",
      "0.057519770089143975\n",
      "\n",
      "Total\n",
      "Winter:\n"
     ]
    },
    {
     "data": {
      "text/html": [
       "<div>\n",
       "<style scoped>\n",
       "    .dataframe tbody tr th:only-of-type {\n",
       "        vertical-align: middle;\n",
       "    }\n",
       "\n",
       "    .dataframe tbody tr th {\n",
       "        vertical-align: top;\n",
       "    }\n",
       "\n",
       "    .dataframe thead th {\n",
       "        text-align: right;\n",
       "    }\n",
       "</style>\n",
       "<table border=\"1\" class=\"dataframe\">\n",
       "  <thead>\n",
       "    <tr style=\"text-align: right;\">\n",
       "      <th></th>\n",
       "      <th>df</th>\n",
       "      <th>sum_sq</th>\n",
       "      <th>mean_sq</th>\n",
       "      <th>F</th>\n",
       "      <th>PR(&gt;F)</th>\n",
       "    </tr>\n",
       "  </thead>\n",
       "  <tbody>\n",
       "    <tr>\n",
       "      <th>C(Winter)</th>\n",
       "      <td>1.0</td>\n",
       "      <td>1722.643972</td>\n",
       "      <td>1722.643972</td>\n",
       "      <td>5.143631</td>\n",
       "      <td>0.023436</td>\n",
       "    </tr>\n",
       "    <tr>\n",
       "      <th>Residual</th>\n",
       "      <td>2046.0</td>\n",
       "      <td>685222.058665</td>\n",
       "      <td>334.908142</td>\n",
       "      <td>NaN</td>\n",
       "      <td>NaN</td>\n",
       "    </tr>\n",
       "  </tbody>\n",
       "</table>\n",
       "</div>"
      ],
      "text/plain": [
       "               df         sum_sq      mean_sq         F    PR(>F)\n",
       "C(Winter)     1.0    1722.643972  1722.643972  5.143631  0.023436\n",
       "Residual   2046.0  685222.058665   334.908142       NaN       NaN"
      ]
     },
     "metadata": {},
     "output_type": "display_data"
    },
    {
     "name": "stdout",
     "output_type": "stream",
     "text": [
      "\n"
     ]
    },
    {
     "data": {
      "text/html": [
       "<table class=\"simpletable\">\n",
       "<caption>Multiple Comparison of Means - Tukey HSD,FWER=0.05</caption>\n",
       "<tr>\n",
       "  <th>group1</th> <th>group2</th> <th>meandiff</th>  <th>lower</th>  <th>upper</th> <th>reject</th>\n",
       "</tr>\n",
       "<tr>\n",
       "   <td>False</td>  <td>True</td>   <td>2.0151</td>  <td>0.2726</td> <td>3.7576</td>  <td>True</td> \n",
       "</tr>\n",
       "</table>"
      ],
      "text/plain": [
       "<class 'statsmodels.iolib.table.SimpleTable'>"
      ]
     },
     "metadata": {},
     "output_type": "display_data"
    },
    {
     "name": "stdout",
     "output_type": "stream",
     "text": [
      "\n",
      "0.11011165480837713\n",
      "\n",
      "Spring:\n"
     ]
    },
    {
     "data": {
      "text/html": [
       "<div>\n",
       "<style scoped>\n",
       "    .dataframe tbody tr th:only-of-type {\n",
       "        vertical-align: middle;\n",
       "    }\n",
       "\n",
       "    .dataframe tbody tr th {\n",
       "        vertical-align: top;\n",
       "    }\n",
       "\n",
       "    .dataframe thead th {\n",
       "        text-align: right;\n",
       "    }\n",
       "</style>\n",
       "<table border=\"1\" class=\"dataframe\">\n",
       "  <thead>\n",
       "    <tr style=\"text-align: right;\">\n",
       "      <th></th>\n",
       "      <th>df</th>\n",
       "      <th>sum_sq</th>\n",
       "      <th>mean_sq</th>\n",
       "      <th>F</th>\n",
       "      <th>PR(&gt;F)</th>\n",
       "    </tr>\n",
       "  </thead>\n",
       "  <tbody>\n",
       "    <tr>\n",
       "      <th>C(Spring)</th>\n",
       "      <td>1.0</td>\n",
       "      <td>954.753535</td>\n",
       "      <td>954.753535</td>\n",
       "      <td>2.847601</td>\n",
       "      <td>0.091663</td>\n",
       "    </tr>\n",
       "    <tr>\n",
       "      <th>Residual</th>\n",
       "      <td>2046.0</td>\n",
       "      <td>685989.949102</td>\n",
       "      <td>335.283455</td>\n",
       "      <td>NaN</td>\n",
       "      <td>NaN</td>\n",
       "    </tr>\n",
       "  </tbody>\n",
       "</table>\n",
       "</div>"
      ],
      "text/plain": [
       "               df         sum_sq     mean_sq         F    PR(>F)\n",
       "C(Spring)     1.0     954.753535  954.753535  2.847601  0.091663\n",
       "Residual   2046.0  685989.949102  335.283455       NaN       NaN"
      ]
     },
     "metadata": {},
     "output_type": "display_data"
    },
    {
     "name": "stdout",
     "output_type": "stream",
     "text": [
      "\n"
     ]
    },
    {
     "data": {
      "text/html": [
       "<table class=\"simpletable\">\n",
       "<caption>Multiple Comparison of Means - Tukey HSD,FWER=0.05</caption>\n",
       "<tr>\n",
       "  <th>group1</th> <th>group2</th> <th>meandiff</th>  <th>lower</th>   <th>upper</th> <th>reject</th>\n",
       "</tr>\n",
       "<tr>\n",
       "   <td>False</td>  <td>True</td>   <td>-1.4756</td> <td>-3.1905</td> <td>0.2393</td>  <td>False</td>\n",
       "</tr>\n",
       "</table>"
      ],
      "text/plain": [
       "<class 'statsmodels.iolib.table.SimpleTable'>"
      ]
     },
     "metadata": {},
     "output_type": "display_data"
    },
    {
     "name": "stdout",
     "output_type": "stream",
     "text": [
      "\n",
      "0.08058633373926603\n",
      "\n",
      "Summer:\n"
     ]
    },
    {
     "data": {
      "text/html": [
       "<div>\n",
       "<style scoped>\n",
       "    .dataframe tbody tr th:only-of-type {\n",
       "        vertical-align: middle;\n",
       "    }\n",
       "\n",
       "    .dataframe tbody tr th {\n",
       "        vertical-align: top;\n",
       "    }\n",
       "\n",
       "    .dataframe thead th {\n",
       "        text-align: right;\n",
       "    }\n",
       "</style>\n",
       "<table border=\"1\" class=\"dataframe\">\n",
       "  <thead>\n",
       "    <tr style=\"text-align: right;\">\n",
       "      <th></th>\n",
       "      <th>df</th>\n",
       "      <th>sum_sq</th>\n",
       "      <th>mean_sq</th>\n",
       "      <th>F</th>\n",
       "      <th>PR(&gt;F)</th>\n",
       "    </tr>\n",
       "  </thead>\n",
       "  <tbody>\n",
       "    <tr>\n",
       "      <th>C(Summer)</th>\n",
       "      <td>1.0</td>\n",
       "      <td>117.135902</td>\n",
       "      <td>117.135902</td>\n",
       "      <td>0.348938</td>\n",
       "      <td>0.55478</td>\n",
       "    </tr>\n",
       "    <tr>\n",
       "      <th>Residual</th>\n",
       "      <td>2046.0</td>\n",
       "      <td>686827.566734</td>\n",
       "      <td>335.692848</td>\n",
       "      <td>NaN</td>\n",
       "      <td>NaN</td>\n",
       "    </tr>\n",
       "  </tbody>\n",
       "</table>\n",
       "</div>"
      ],
      "text/plain": [
       "               df         sum_sq     mean_sq         F   PR(>F)\n",
       "C(Summer)     1.0     117.135902  117.135902  0.348938  0.55478\n",
       "Residual   2046.0  686827.566734  335.692848       NaN      NaN"
      ]
     },
     "metadata": {},
     "output_type": "display_data"
    },
    {
     "name": "stdout",
     "output_type": "stream",
     "text": [
      "\n"
     ]
    },
    {
     "data": {
      "text/html": [
       "<table class=\"simpletable\">\n",
       "<caption>Multiple Comparison of Means - Tukey HSD,FWER=0.05</caption>\n",
       "<tr>\n",
       "  <th>group1</th> <th>group2</th> <th>meandiff</th>  <th>lower</th>  <th>upper</th> <th>reject</th>\n",
       "</tr>\n",
       "<tr>\n",
       "   <td>False</td>  <td>True</td>   <td>-0.6332</td> <td>-2.7354</td> <td>1.469</td>  <td>False</td>\n",
       "</tr>\n",
       "</table>"
      ],
      "text/plain": [
       "<class 'statsmodels.iolib.table.SimpleTable'>"
      ]
     },
     "metadata": {},
     "output_type": "display_data"
    },
    {
     "name": "stdout",
     "output_type": "stream",
     "text": [
      "\n",
      "0.034559721406384115\n",
      "\n",
      "Fall:\n"
     ]
    },
    {
     "data": {
      "text/html": [
       "<div>\n",
       "<style scoped>\n",
       "    .dataframe tbody tr th:only-of-type {\n",
       "        vertical-align: middle;\n",
       "    }\n",
       "\n",
       "    .dataframe tbody tr th {\n",
       "        vertical-align: top;\n",
       "    }\n",
       "\n",
       "    .dataframe thead th {\n",
       "        text-align: right;\n",
       "    }\n",
       "</style>\n",
       "<table border=\"1\" class=\"dataframe\">\n",
       "  <thead>\n",
       "    <tr style=\"text-align: right;\">\n",
       "      <th></th>\n",
       "      <th>df</th>\n",
       "      <th>sum_sq</th>\n",
       "      <th>mean_sq</th>\n",
       "      <th>F</th>\n",
       "      <th>PR(&gt;F)</th>\n",
       "    </tr>\n",
       "  </thead>\n",
       "  <tbody>\n",
       "    <tr>\n",
       "      <th>C(Fall)</th>\n",
       "      <td>1.0</td>\n",
       "      <td>1.463615</td>\n",
       "      <td>1.463615</td>\n",
       "      <td>0.004359</td>\n",
       "      <td>0.947365</td>\n",
       "    </tr>\n",
       "    <tr>\n",
       "      <th>Residual</th>\n",
       "      <td>2046.0</td>\n",
       "      <td>686943.239022</td>\n",
       "      <td>335.749384</td>\n",
       "      <td>NaN</td>\n",
       "      <td>NaN</td>\n",
       "    </tr>\n",
       "  </tbody>\n",
       "</table>\n",
       "</div>"
      ],
      "text/plain": [
       "              df         sum_sq     mean_sq         F    PR(>F)\n",
       "C(Fall)      1.0       1.463615    1.463615  0.004359  0.947365\n",
       "Residual  2046.0  686943.239022  335.749384       NaN       NaN"
      ]
     },
     "metadata": {},
     "output_type": "display_data"
    },
    {
     "name": "stdout",
     "output_type": "stream",
     "text": [
      "\n"
     ]
    },
    {
     "data": {
      "text/html": [
       "<table class=\"simpletable\">\n",
       "<caption>Multiple Comparison of Means - Tukey HSD,FWER=0.05</caption>\n",
       "<tr>\n",
       "  <th>group1</th> <th>group2</th> <th>meandiff</th>  <th>lower</th>   <th>upper</th> <th>reject</th>\n",
       "</tr>\n",
       "<tr>\n",
       "   <td>False</td>  <td>True</td>   <td>-0.0641</td> <td>-1.9683</td> <td>1.8401</td>  <td>False</td>\n",
       "</tr>\n",
       "</table>"
      ],
      "text/plain": [
       "<class 'statsmodels.iolib.table.SimpleTable'>"
      ]
     },
     "metadata": {},
     "output_type": "display_data"
    },
    {
     "name": "stdout",
     "output_type": "stream",
     "text": [
      "\n",
      "0.0034986938407594224\n",
      "\n"
     ]
    }
   ],
   "source": [
    "newc = ['Dairy Products', 'Grains/Cereals', 'Produce', 'Seafood',\n",
    "       'Condiments', 'Confections', 'Beverages', 'Meat/Poultry']\n",
    "#for loop looping through newc list above, with nested for loop inside\n",
    "for x in newc:\n",
    "    print(x)\n",
    "    #new dataframe where CategoryName is only specific value, dropping all other rows\n",
    "    q4A = q4.loc[q4['CategoryName'] == x]\n",
    "    q4A = q4A.reset_index(drop=True)\n",
    "    \n",
    "    for y in q4A.columns[4:8]:\n",
    "        print(y + ':')\n",
    "        #one-way ANOVA test\n",
    "        f = 'Quantity ~ C(' + y + ')'\n",
    "        lm = ols(f, q4A).fit()\n",
    "        table = sm.stats.anova_lm(lm, typ=1)\n",
    "        display(table)\n",
    "        print()\n",
    "        #pairwise tukey test\n",
    "        tukey_results = pairwise_tukeyhsd(q4A['Quantity'], q4A[y])\n",
    "        display(tukey_results.summary())\n",
    "        print()\n",
    "        #new dataframes to run cohen's d function\n",
    "        q4B1 = q4A.loc[q4A[y] == True]\n",
    "        q4B2 = q4A.loc[q4A[y] == False] \n",
    "        print(cohens_d(q4B1['Quantity'], q4B2['Quantity']))\n",
    "        print()\n",
    "\n",
    "print('Total')\n",
    "#for loop looping through columns 4 to 7\n",
    "for y in q4.columns[4:8]:\n",
    "    print(y + ':')\n",
    "    #one-way ANOVA test\n",
    "    f = 'Quantity ~ C(' + y + ')'\n",
    "    lm = ols(f, q4).fit()\n",
    "    table = sm.stats.anova_lm(lm, typ=1)\n",
    "    display(table)\n",
    "    print()\n",
    "    #pairwise tukey test\n",
    "    tukey_results = pairwise_tukeyhsd(q4['Quantity'], q4[y])\n",
    "    display(tukey_results.summary())\n",
    "    print()\n",
    "    #new dataframes to run cohen's d function\n",
    "    q41 = q4.loc[q4[y] == True]\n",
    "    q42 = q4.loc[q4[y] == False]\n",
    "    print(cohens_d(q41['Quantity'], q42['Quantity']))\n",
    "    print()"
   ]
  },
  {
   "cell_type": "code",
   "execution_count": 50,
   "metadata": {
    "scrolled": true
   },
   "outputs": [
    {
     "data": {
      "text/html": [
       "<table class=\"simpletable\">\n",
       "<caption>Multiple Comparison of Means - Tukey HSD,FWER=0.05</caption>\n",
       "<tr>\n",
       "  <th>group1</th> <th>group2</th> <th>meandiff</th>  <th>lower</th>   <th>upper</th> <th>reject</th>\n",
       "</tr>\n",
       "<tr>\n",
       "   <td>Fall</td>  <td>Spring</td>  <td>-0.9676</td> <td>-3.8503</td> <td>1.9151</td>  <td>False</td>\n",
       "</tr>\n",
       "<tr>\n",
       "   <td>Fall</td>  <td>Summer</td>  <td>-0.4743</td> <td>-3.8063</td> <td>2.8577</td>  <td>False</td>\n",
       "</tr>\n",
       "<tr>\n",
       "   <td>Fall</td>  <td>Winter</td>  <td>1.4745</td>  <td>-1.4442</td> <td>4.3932</td>  <td>False</td>\n",
       "</tr>\n",
       "<tr>\n",
       "  <td>Spring</td> <td>Summer</td>  <td>0.4933</td>  <td>-2.6307</td> <td>3.6172</td>  <td>False</td>\n",
       "</tr>\n",
       "<tr>\n",
       "  <td>Spring</td> <td>Winter</td>  <td>2.4421</td>  <td>-0.2366</td> <td>5.1208</td>  <td>False</td>\n",
       "</tr>\n",
       "<tr>\n",
       "  <td>Summer</td> <td>Winter</td>  <td>1.9488</td>  <td>-1.2084</td>  <td>5.106</td>  <td>False</td>\n",
       "</tr>\n",
       "</table>"
      ],
      "text/plain": [
       "<class 'statsmodels.iolib.table.SimpleTable'>"
      ]
     },
     "metadata": {},
     "output_type": "display_data"
    }
   ],
   "source": [
    "#pairwise tukey test\n",
    "tukey_results = pairwise_tukeyhsd(q4['Quantity'], q4['season'])\n",
    "display(tukey_results.summary())"
   ]
  },
  {
   "cell_type": "markdown",
   "metadata": {},
   "source": [
    "From our ANOVA and tukey test, our results show that we may reject our null hypothesis that there is no significant difference in quantity ordered due to season for:  \n",
    "Dairy Products in Winter - difference in mean: 4.99 units, effect size: 0.28  \n",
    "Seafood in Spring - difference in mean: -4.95 units, effect size: 0.28  \n",
    "Condiments in Winter - difference in mean: 6.97 units, effect size: 0.36  \n",
    "Condiments in Spring - difference in mean: -5.83 units, effect size: 0.30\n",
    "\n",
    "Condiments in Winter may be up due to the fact that most of buyers' customers will be buying condiments in the Spring for when the weather is better and more people tend to eat outdoors and barbecue. Therefore, ordering more units in Winter could help stock up inventory for Spring. As for Spring, it looks as if our buyers are adjusting their inventory for the higher units purchased in Winter, possibly due to more data coming into them about their customers' needs. Dairy Products could be higher in the Winter to reflect the fact that cows produce less milk due to the cold weather, so buyers are looking to stock up on inventory till the next season comes around As for Seafood, the only thing I could imagine is more of the buyers' customers going fishing in the good weather, so your buyers don't need extra fish inventory.\n",
    "\n",
    "When testing over the whole database rather than seperating based on category of product, our ANOVA test had a p-value under our alpha value for Winter. Our tukey test also confirmed that the mean difference was signficant but when doing tukey over the whole database and using our original categorical season column we saw that we could not reject any of our null hypotheses. To disprove our original ANOVA test confirming rejecting the null hypothesis for winter significantly effecting quantity ordered, we may look at our effect size, which was 11%. This is too small and therefore our difference is merely trivial.\n",
    "\n",
    "Overall, I would recommend adjusting production on Dairy and Condiments in Winter, and Seafood and Condiments in Spring to reflect your buyer's tendencies to purchase more or less during those times for those products."
   ]
  },
  {
   "cell_type": "markdown",
   "metadata": {},
   "source": [
    "## Question 5\n",
    "### Does shipping company used have a statistically significant effect on the freight cost of shipping?\n",
    "\n",
    "$H_0$: there is no significant difference in freight cost due to shipper  \n",
    "$H_\\alpha$: there is a significant difference in freight cost due to shipper"
   ]
  },
  {
   "cell_type": "code",
   "execution_count": 51,
   "metadata": {},
   "outputs": [
    {
     "data": {
      "text/html": [
       "<div>\n",
       "<style scoped>\n",
       "    .dataframe tbody tr th:only-of-type {\n",
       "        vertical-align: middle;\n",
       "    }\n",
       "\n",
       "    .dataframe tbody tr th {\n",
       "        vertical-align: top;\n",
       "    }\n",
       "\n",
       "    .dataframe thead th {\n",
       "        text-align: right;\n",
       "    }\n",
       "</style>\n",
       "<table border=\"1\" class=\"dataframe\">\n",
       "  <thead>\n",
       "    <tr style=\"text-align: right;\">\n",
       "      <th></th>\n",
       "      <th>Id</th>\n",
       "      <th>ShipVia</th>\n",
       "      <th>Freight</th>\n",
       "    </tr>\n",
       "  </thead>\n",
       "  <tbody>\n",
       "    <tr>\n",
       "      <th>825</th>\n",
       "      <td>11073</td>\n",
       "      <td>2</td>\n",
       "      <td>24.95</td>\n",
       "    </tr>\n",
       "    <tr>\n",
       "      <th>826</th>\n",
       "      <td>11074</td>\n",
       "      <td>2</td>\n",
       "      <td>18.44</td>\n",
       "    </tr>\n",
       "    <tr>\n",
       "      <th>827</th>\n",
       "      <td>11075</td>\n",
       "      <td>2</td>\n",
       "      <td>6.19</td>\n",
       "    </tr>\n",
       "    <tr>\n",
       "      <th>828</th>\n",
       "      <td>11076</td>\n",
       "      <td>2</td>\n",
       "      <td>38.28</td>\n",
       "    </tr>\n",
       "    <tr>\n",
       "      <th>829</th>\n",
       "      <td>11077</td>\n",
       "      <td>2</td>\n",
       "      <td>8.53</td>\n",
       "    </tr>\n",
       "  </tbody>\n",
       "</table>\n",
       "</div>"
      ],
      "text/plain": [
       "        Id  ShipVia  Freight\n",
       "825  11073        2    24.95\n",
       "826  11074        2    18.44\n",
       "827  11075        2     6.19\n",
       "828  11076        2    38.28\n",
       "829  11077        2     8.53"
      ]
     },
     "execution_count": 51,
     "metadata": {},
     "output_type": "execute_result"
    }
   ],
   "source": [
    "#SQL query selecting quantity ordered and discount\n",
    "x = \"\"\"SELECT Id, ShipVia, Freight\n",
    "       FROM [Order]\n",
    "       ;\"\"\"\n",
    "q5 = pd.read_sql_query(x, conn)\n",
    "q5.tail()"
   ]
  },
  {
   "cell_type": "code",
   "execution_count": 52,
   "metadata": {},
   "outputs": [
    {
     "data": {
      "text/html": [
       "<div>\n",
       "<style scoped>\n",
       "    .dataframe tbody tr th:only-of-type {\n",
       "        vertical-align: middle;\n",
       "    }\n",
       "\n",
       "    .dataframe tbody tr th {\n",
       "        vertical-align: top;\n",
       "    }\n",
       "\n",
       "    .dataframe thead th {\n",
       "        text-align: right;\n",
       "    }\n",
       "</style>\n",
       "<table border=\"1\" class=\"dataframe\">\n",
       "  <thead>\n",
       "    <tr style=\"text-align: right;\">\n",
       "      <th></th>\n",
       "      <th>Id</th>\n",
       "      <th>Freight</th>\n",
       "    </tr>\n",
       "    <tr>\n",
       "      <th>ShipVia</th>\n",
       "      <th></th>\n",
       "      <th></th>\n",
       "    </tr>\n",
       "  </thead>\n",
       "  <tbody>\n",
       "    <tr>\n",
       "      <th>1</th>\n",
       "      <td>10667.594378</td>\n",
       "      <td>65.001325</td>\n",
       "    </tr>\n",
       "    <tr>\n",
       "      <th>2</th>\n",
       "      <td>10674.963190</td>\n",
       "      <td>86.640644</td>\n",
       "    </tr>\n",
       "    <tr>\n",
       "      <th>3</th>\n",
       "      <td>10641.592157</td>\n",
       "      <td>80.441216</td>\n",
       "    </tr>\n",
       "  </tbody>\n",
       "</table>\n",
       "</div>"
      ],
      "text/plain": [
       "                   Id    Freight\n",
       "ShipVia                         \n",
       "1        10667.594378  65.001325\n",
       "2        10674.963190  86.640644\n",
       "3        10641.592157  80.441216"
      ]
     },
     "execution_count": 52,
     "metadata": {},
     "output_type": "execute_result"
    }
   ],
   "source": [
    "#groupby function by ShipVia function\n",
    "q5.groupby('ShipVia').mean()"
   ]
  },
  {
   "cell_type": "markdown",
   "metadata": {},
   "source": [
    "Shipping company 1 has the lowest freight cost by a large difference, as shipping companies 2 and 3 are nearly 15-20 more dollars on average."
   ]
  },
  {
   "cell_type": "code",
   "execution_count": 53,
   "metadata": {},
   "outputs": [
    {
     "data": {
      "text/html": [
       "<div>\n",
       "<style scoped>\n",
       "    .dataframe tbody tr th:only-of-type {\n",
       "        vertical-align: middle;\n",
       "    }\n",
       "\n",
       "    .dataframe tbody tr th {\n",
       "        vertical-align: top;\n",
       "    }\n",
       "\n",
       "    .dataframe thead th {\n",
       "        text-align: right;\n",
       "    }\n",
       "</style>\n",
       "<table border=\"1\" class=\"dataframe\">\n",
       "  <thead>\n",
       "    <tr style=\"text-align: right;\">\n",
       "      <th></th>\n",
       "      <th>sum_sq</th>\n",
       "      <th>df</th>\n",
       "      <th>F</th>\n",
       "      <th>PR(&gt;F)</th>\n",
       "    </tr>\n",
       "  </thead>\n",
       "  <tbody>\n",
       "    <tr>\n",
       "      <th>C(ShipVia)</th>\n",
       "      <td>6.788200e+04</td>\n",
       "      <td>2.0</td>\n",
       "      <td>2.49781</td>\n",
       "      <td>0.082885</td>\n",
       "    </tr>\n",
       "    <tr>\n",
       "      <th>Residual</th>\n",
       "      <td>1.123753e+07</td>\n",
       "      <td>827.0</td>\n",
       "      <td>NaN</td>\n",
       "      <td>NaN</td>\n",
       "    </tr>\n",
       "  </tbody>\n",
       "</table>\n",
       "</div>"
      ],
      "text/plain": [
       "                  sum_sq     df        F    PR(>F)\n",
       "C(ShipVia)  6.788200e+04    2.0  2.49781  0.082885\n",
       "Residual    1.123753e+07  827.0      NaN       NaN"
      ]
     },
     "metadata": {},
     "output_type": "display_data"
    }
   ],
   "source": [
    "#one-way ANOVA test\n",
    "f = 'Freight ~ C(ShipVia)'\n",
    "lm = ols(f, q5).fit()\n",
    "table = sm.stats.anova_lm(lm, typ=2)\n",
    "display(table)"
   ]
  },
  {
   "cell_type": "code",
   "execution_count": 54,
   "metadata": {},
   "outputs": [
    {
     "data": {
      "text/html": [
       "<table class=\"simpletable\">\n",
       "<caption>Multiple Comparison of Means - Tukey HSD,FWER=0.05</caption>\n",
       "<tr>\n",
       "  <th>group1</th> <th>group2</th> <th>meandiff</th>   <th>lower</th>   <th>upper</th>  <th>reject</th>\n",
       "</tr>\n",
       "<tr>\n",
       "     <td>1</td>      <td>2</td>    <td>21.6393</td>  <td>-1.3965</td> <td>44.6752</td>  <td>False</td>\n",
       "</tr>\n",
       "<tr>\n",
       "     <td>1</td>      <td>3</td>    <td>15.4399</td>  <td>-8.9452</td> <td>39.825</td>   <td>False</td>\n",
       "</tr>\n",
       "<tr>\n",
       "     <td>2</td>      <td>3</td>    <td>-6.1994</td> <td>-29.0811</td> <td>16.6823</td>  <td>False</td>\n",
       "</tr>\n",
       "</table>"
      ],
      "text/plain": [
       "<class 'statsmodels.iolib.table.SimpleTable'>"
      ]
     },
     "metadata": {},
     "output_type": "display_data"
    },
    {
     "data": {
      "image/png": "[encoded data removed]",
      "text/plain": [
       "<Figure size 720x432 with 1 Axes>"
      ]
     },
     "metadata": {
      "needs_background": "light"
     },
     "output_type": "display_data"
    }
   ],
   "source": [
    "#pairwise tukey test\n",
    "tukey_results = pairwise_tukeyhsd(q5['Freight'], q5['ShipVia'])\n",
    "display(tukey_results.summary())\n",
    "tukey_results.plot_simultaneous().show()"
   ]
  },
  {
   "cell_type": "markdown",
   "metadata": {},
   "source": [
    "From both our ANOVA test and Tukey test, we cannot reject the null hypothesis that freight cost is significantly affected by shipping company."
   ]
  },
  {
   "cell_type": "markdown",
   "metadata": {},
   "source": [
    "## Question 6\n",
    "### We will explore questions circulating around processing time (days between order being put in and order being shipped).\n",
    "\n",
    "### Does category of product have a statistically signficiant effect on processing time? If so, which ones?\n",
    "\n",
    "$H_0$: there is no significant difference in processing time due to category of product  \n",
    "$H_\\alpha$: there is a significant difference in order quantity due to category of product"
   ]
  },
  {
   "cell_type": "code",
   "execution_count": 55,
   "metadata": {},
   "outputs": [
    {
     "data": {
      "text/html": [
       "<div>\n",
       "<style scoped>\n",
       "    .dataframe tbody tr th:only-of-type {\n",
       "        vertical-align: middle;\n",
       "    }\n",
       "\n",
       "    .dataframe tbody tr th {\n",
       "        vertical-align: top;\n",
       "    }\n",
       "\n",
       "    .dataframe thead th {\n",
       "        text-align: right;\n",
       "    }\n",
       "</style>\n",
       "<table border=\"1\" class=\"dataframe\">\n",
       "  <thead>\n",
       "    <tr style=\"text-align: right;\">\n",
       "      <th></th>\n",
       "      <th>Id</th>\n",
       "      <th>Quantity</th>\n",
       "      <th>Discount</th>\n",
       "      <th>OrderDate</th>\n",
       "      <th>ShippedDate</th>\n",
       "      <th>CategoryId</th>\n",
       "      <th>CategoryName</th>\n",
       "    </tr>\n",
       "  </thead>\n",
       "  <tbody>\n",
       "    <tr>\n",
       "      <th>2077</th>\n",
       "      <td>11066</td>\n",
       "      <td>3</td>\n",
       "      <td>0.0</td>\n",
       "      <td>2014-05-01</td>\n",
       "      <td>2014-05-04</td>\n",
       "      <td>3</td>\n",
       "      <td>Confections</td>\n",
       "    </tr>\n",
       "    <tr>\n",
       "      <th>2078</th>\n",
       "      <td>11066</td>\n",
       "      <td>42</td>\n",
       "      <td>0.0</td>\n",
       "      <td>2014-05-01</td>\n",
       "      <td>2014-05-04</td>\n",
       "      <td>3</td>\n",
       "      <td>Confections</td>\n",
       "    </tr>\n",
       "    <tr>\n",
       "      <th>2079</th>\n",
       "      <td>11066</td>\n",
       "      <td>35</td>\n",
       "      <td>0.0</td>\n",
       "      <td>2014-05-01</td>\n",
       "      <td>2014-05-04</td>\n",
       "      <td>1</td>\n",
       "      <td>Beverages</td>\n",
       "    </tr>\n",
       "    <tr>\n",
       "      <th>2080</th>\n",
       "      <td>11067</td>\n",
       "      <td>9</td>\n",
       "      <td>0.0</td>\n",
       "      <td>2014-05-04</td>\n",
       "      <td>2014-05-06</td>\n",
       "      <td>8</td>\n",
       "      <td>Seafood</td>\n",
       "    </tr>\n",
       "    <tr>\n",
       "      <th>2081</th>\n",
       "      <td>11069</td>\n",
       "      <td>20</td>\n",
       "      <td>0.0</td>\n",
       "      <td>2014-05-04</td>\n",
       "      <td>2014-05-06</td>\n",
       "      <td>1</td>\n",
       "      <td>Beverages</td>\n",
       "    </tr>\n",
       "  </tbody>\n",
       "</table>\n",
       "</div>"
      ],
      "text/plain": [
       "         Id  Quantity  Discount   OrderDate ShippedDate  CategoryId  \\\n",
       "2077  11066         3       0.0  2014-05-01  2014-05-04           3   \n",
       "2078  11066        42       0.0  2014-05-01  2014-05-04           3   \n",
       "2079  11066        35       0.0  2014-05-01  2014-05-04           1   \n",
       "2080  11067         9       0.0  2014-05-04  2014-05-06           8   \n",
       "2081  11069        20       0.0  2014-05-04  2014-05-06           1   \n",
       "\n",
       "     CategoryName  \n",
       "2077  Confections  \n",
       "2078  Confections  \n",
       "2079    Beverages  \n",
       "2080      Seafood  \n",
       "2081    Beverages  "
      ]
     },
     "execution_count": 55,
     "metadata": {},
     "output_type": "execute_result"
    }
   ],
   "source": [
    "#SQL query selecting quantity ordered and discount\n",
    "x = \"\"\"SELECT o.Id, od.Quantity, od.Discount, o.OrderDate, o.ShippedDate, p.CategoryId, ca.CategoryName\n",
    "       FROM OrderDetail od\n",
    "       JOIN [Order] AS o ON od.OrderId = o.Id\n",
    "       JOIN Product AS p ON od.ProductId = p.Id\n",
    "       JOIN Category AS ca ON p.CategoryId = ca.Id\n",
    "       WHERE o.ShippedDate IS NOT NULL\n",
    "       ;\"\"\"\n",
    "q6 = pd.read_sql_query(x, conn)\n",
    "q6.tail()"
   ]
  },
  {
   "cell_type": "code",
   "execution_count": 56,
   "metadata": {},
   "outputs": [
    {
     "data": {
      "text/html": [
       "<div>\n",
       "<style scoped>\n",
       "    .dataframe tbody tr th:only-of-type {\n",
       "        vertical-align: middle;\n",
       "    }\n",
       "\n",
       "    .dataframe tbody tr th {\n",
       "        vertical-align: top;\n",
       "    }\n",
       "\n",
       "    .dataframe thead th {\n",
       "        text-align: right;\n",
       "    }\n",
       "</style>\n",
       "<table border=\"1\" class=\"dataframe\">\n",
       "  <thead>\n",
       "    <tr style=\"text-align: right;\">\n",
       "      <th></th>\n",
       "      <th>Id</th>\n",
       "      <th>Quantity</th>\n",
       "      <th>Discount</th>\n",
       "      <th>OrderDate</th>\n",
       "      <th>ShippedDate</th>\n",
       "      <th>CategoryId</th>\n",
       "      <th>CategoryName</th>\n",
       "      <th>Daysbeforeship</th>\n",
       "    </tr>\n",
       "  </thead>\n",
       "  <tbody>\n",
       "    <tr>\n",
       "      <th>0</th>\n",
       "      <td>10248</td>\n",
       "      <td>12</td>\n",
       "      <td>0.0</td>\n",
       "      <td>2012-07-04</td>\n",
       "      <td>2012-07-16</td>\n",
       "      <td>4</td>\n",
       "      <td>Dairy Products</td>\n",
       "      <td>12.0</td>\n",
       "    </tr>\n",
       "    <tr>\n",
       "      <th>1</th>\n",
       "      <td>10248</td>\n",
       "      <td>10</td>\n",
       "      <td>0.0</td>\n",
       "      <td>2012-07-04</td>\n",
       "      <td>2012-07-16</td>\n",
       "      <td>5</td>\n",
       "      <td>Grains/Cereals</td>\n",
       "      <td>12.0</td>\n",
       "    </tr>\n",
       "    <tr>\n",
       "      <th>2</th>\n",
       "      <td>10248</td>\n",
       "      <td>5</td>\n",
       "      <td>0.0</td>\n",
       "      <td>2012-07-04</td>\n",
       "      <td>2012-07-16</td>\n",
       "      <td>4</td>\n",
       "      <td>Dairy Products</td>\n",
       "      <td>12.0</td>\n",
       "    </tr>\n",
       "    <tr>\n",
       "      <th>3</th>\n",
       "      <td>10249</td>\n",
       "      <td>9</td>\n",
       "      <td>0.0</td>\n",
       "      <td>2012-07-05</td>\n",
       "      <td>2012-07-10</td>\n",
       "      <td>7</td>\n",
       "      <td>Produce</td>\n",
       "      <td>5.0</td>\n",
       "    </tr>\n",
       "    <tr>\n",
       "      <th>4</th>\n",
       "      <td>10249</td>\n",
       "      <td>40</td>\n",
       "      <td>0.0</td>\n",
       "      <td>2012-07-05</td>\n",
       "      <td>2012-07-10</td>\n",
       "      <td>7</td>\n",
       "      <td>Produce</td>\n",
       "      <td>5.0</td>\n",
       "    </tr>\n",
       "  </tbody>\n",
       "</table>\n",
       "</div>"
      ],
      "text/plain": [
       "      Id  Quantity  Discount  OrderDate ShippedDate  CategoryId  \\\n",
       "0  10248        12       0.0 2012-07-04  2012-07-16           4   \n",
       "1  10248        10       0.0 2012-07-04  2012-07-16           5   \n",
       "2  10248         5       0.0 2012-07-04  2012-07-16           4   \n",
       "3  10249         9       0.0 2012-07-05  2012-07-10           7   \n",
       "4  10249        40       0.0 2012-07-05  2012-07-10           7   \n",
       "\n",
       "     CategoryName  Daysbeforeship  \n",
       "0  Dairy Products            12.0  \n",
       "1  Grains/Cereals            12.0  \n",
       "2  Dairy Products            12.0  \n",
       "3         Produce             5.0  \n",
       "4         Produce             5.0  "
      ]
     },
     "execution_count": 56,
     "metadata": {},
     "output_type": "execute_result"
    }
   ],
   "source": [
    "#change column datatype\n",
    "q6.OrderDate = pd.to_datetime(q6.OrderDate)\n",
    "q6.ShippedDate = pd.to_datetime(q6.ShippedDate)\n",
    "#loop through OrderDate column and calculate days between two dates\n",
    "for idx, x in enumerate(q6.OrderDate):\n",
    "    q6.loc[idx, 'Daysbeforeship'] = (q6.iloc[idx]['ShippedDate'] - q6.iloc[idx]['OrderDate']).days\n",
    "q6.head()"
   ]
  },
  {
   "cell_type": "code",
   "execution_count": 57,
   "metadata": {},
   "outputs": [
    {
     "data": {
      "text/html": [
       "<div>\n",
       "<style scoped>\n",
       "    .dataframe tbody tr th:only-of-type {\n",
       "        vertical-align: middle;\n",
       "    }\n",
       "\n",
       "    .dataframe tbody tr th {\n",
       "        vertical-align: top;\n",
       "    }\n",
       "\n",
       "    .dataframe thead th {\n",
       "        text-align: right;\n",
       "    }\n",
       "</style>\n",
       "<table border=\"1\" class=\"dataframe\">\n",
       "  <thead>\n",
       "    <tr style=\"text-align: right;\">\n",
       "      <th></th>\n",
       "      <th>Id</th>\n",
       "      <th>Quantity</th>\n",
       "      <th>Discount</th>\n",
       "      <th>OrderDate</th>\n",
       "      <th>ShippedDate</th>\n",
       "      <th>CategoryId</th>\n",
       "      <th>CategoryName</th>\n",
       "      <th>Daysbeforeship</th>\n",
       "      <th>Count</th>\n",
       "    </tr>\n",
       "  </thead>\n",
       "  <tbody>\n",
       "    <tr>\n",
       "      <th>0</th>\n",
       "      <td>10248</td>\n",
       "      <td>12</td>\n",
       "      <td>0.0</td>\n",
       "      <td>2012-07-04</td>\n",
       "      <td>2012-07-16</td>\n",
       "      <td>4</td>\n",
       "      <td>Dairy Products</td>\n",
       "      <td>12.0</td>\n",
       "      <td>90</td>\n",
       "    </tr>\n",
       "    <tr>\n",
       "      <th>1</th>\n",
       "      <td>10248</td>\n",
       "      <td>10</td>\n",
       "      <td>0.0</td>\n",
       "      <td>2012-07-04</td>\n",
       "      <td>2012-07-16</td>\n",
       "      <td>5</td>\n",
       "      <td>Grains/Cereals</td>\n",
       "      <td>12.0</td>\n",
       "      <td>174</td>\n",
       "    </tr>\n",
       "    <tr>\n",
       "      <th>2</th>\n",
       "      <td>10248</td>\n",
       "      <td>5</td>\n",
       "      <td>0.0</td>\n",
       "      <td>2012-07-04</td>\n",
       "      <td>2012-07-16</td>\n",
       "      <td>4</td>\n",
       "      <td>Dairy Products</td>\n",
       "      <td>12.0</td>\n",
       "      <td>67</td>\n",
       "    </tr>\n",
       "    <tr>\n",
       "      <th>3</th>\n",
       "      <td>10249</td>\n",
       "      <td>9</td>\n",
       "      <td>0.0</td>\n",
       "      <td>2012-07-05</td>\n",
       "      <td>2012-07-10</td>\n",
       "      <td>7</td>\n",
       "      <td>Produce</td>\n",
       "      <td>5.0</td>\n",
       "      <td>30</td>\n",
       "    </tr>\n",
       "    <tr>\n",
       "      <th>4</th>\n",
       "      <td>10249</td>\n",
       "      <td>40</td>\n",
       "      <td>0.0</td>\n",
       "      <td>2012-07-05</td>\n",
       "      <td>2012-07-10</td>\n",
       "      <td>7</td>\n",
       "      <td>Produce</td>\n",
       "      <td>5.0</td>\n",
       "      <td>111</td>\n",
       "    </tr>\n",
       "  </tbody>\n",
       "</table>\n",
       "</div>"
      ],
      "text/plain": [
       "      Id  Quantity  Discount  OrderDate ShippedDate  CategoryId  \\\n",
       "0  10248        12       0.0 2012-07-04  2012-07-16           4   \n",
       "1  10248        10       0.0 2012-07-04  2012-07-16           5   \n",
       "2  10248         5       0.0 2012-07-04  2012-07-16           4   \n",
       "3  10249         9       0.0 2012-07-05  2012-07-10           7   \n",
       "4  10249        40       0.0 2012-07-05  2012-07-10           7   \n",
       "\n",
       "     CategoryName  Daysbeforeship  Count  \n",
       "0  Dairy Products            12.0     90  \n",
       "1  Grains/Cereals            12.0    174  \n",
       "2  Dairy Products            12.0     67  \n",
       "3         Produce             5.0     30  \n",
       "4         Produce             5.0    111  "
      ]
     },
     "execution_count": 57,
     "metadata": {},
     "output_type": "execute_result"
    }
   ],
   "source": [
    "#map Quantity counts to each quantity value\n",
    "z = q6['Quantity'].value_counts()\n",
    "z1 = z.to_dict()\n",
    "q6['Count'] = q6['Quantity'].map(z1)\n",
    "#looping through Count column and dropping any values less than 4 except when Quantity equals 1\n",
    "for idx, x in enumerate(q6.Count):\n",
    "    if x < 4:\n",
    "        if q6.Quantity[idx] == 1:\n",
    "            pass\n",
    "        else:\n",
    "            q6.drop(index = idx, axis = 0, inplace=True)\n",
    "q6 = q6.reset_index(drop=True)\n",
    "q6.head()"
   ]
  },
  {
   "cell_type": "code",
   "execution_count": 58,
   "metadata": {},
   "outputs": [
    {
     "data": {
      "text/html": [
       "<div>\n",
       "<style scoped>\n",
       "    .dataframe tbody tr th:only-of-type {\n",
       "        vertical-align: middle;\n",
       "    }\n",
       "\n",
       "    .dataframe tbody tr th {\n",
       "        vertical-align: top;\n",
       "    }\n",
       "\n",
       "    .dataframe thead th {\n",
       "        text-align: right;\n",
       "    }\n",
       "</style>\n",
       "<table border=\"1\" class=\"dataframe\">\n",
       "  <thead>\n",
       "    <tr style=\"text-align: right;\">\n",
       "      <th></th>\n",
       "      <th>sum_sq</th>\n",
       "      <th>df</th>\n",
       "      <th>F</th>\n",
       "      <th>PR(&gt;F)</th>\n",
       "    </tr>\n",
       "  </thead>\n",
       "  <tbody>\n",
       "    <tr>\n",
       "      <th>C(CategoryId)</th>\n",
       "      <td>231.434185</td>\n",
       "      <td>7.0</td>\n",
       "      <td>0.737923</td>\n",
       "      <td>0.639805</td>\n",
       "    </tr>\n",
       "    <tr>\n",
       "      <th>Residual</th>\n",
       "      <td>91534.919789</td>\n",
       "      <td>2043.0</td>\n",
       "      <td>NaN</td>\n",
       "      <td>NaN</td>\n",
       "    </tr>\n",
       "  </tbody>\n",
       "</table>\n",
       "</div>"
      ],
      "text/plain": [
       "                     sum_sq      df         F    PR(>F)\n",
       "C(CategoryId)    231.434185     7.0  0.737923  0.639805\n",
       "Residual       91534.919789  2043.0       NaN       NaN"
      ]
     },
     "metadata": {},
     "output_type": "display_data"
    },
    {
     "data": {
      "text/html": [
       "<table class=\"simpletable\">\n",
       "<caption>Multiple Comparison of Means - Tukey HSD,FWER=0.05</caption>\n",
       "<tr>\n",
       "  <th>group1</th> <th>group2</th> <th>meandiff</th>  <th>lower</th>   <th>upper</th> <th>reject</th>\n",
       "</tr>\n",
       "<tr>\n",
       "     <td>1</td>      <td>2</td>    <td>0.0245</td>  <td>-1.7386</td> <td>1.7876</td>  <td>False</td>\n",
       "</tr>\n",
       "<tr>\n",
       "     <td>1</td>      <td>3</td>    <td>-0.0315</td> <td>-1.5683</td> <td>1.5053</td>  <td>False</td>\n",
       "</tr>\n",
       "<tr>\n",
       "     <td>1</td>      <td>4</td>    <td>-0.4093</td> <td>-1.9088</td> <td>1.0903</td>  <td>False</td>\n",
       "</tr>\n",
       "<tr>\n",
       "     <td>1</td>      <td>5</td>    <td>-0.0952</td> <td>-1.8973</td> <td>1.7069</td>  <td>False</td>\n",
       "</tr>\n",
       "<tr>\n",
       "     <td>1</td>      <td>6</td>    <td>-0.1411</td> <td>-2.0283</td> <td>1.7461</td>  <td>False</td>\n",
       "</tr>\n",
       "<tr>\n",
       "     <td>1</td>      <td>7</td>    <td>-1.155</td>  <td>-3.2469</td>  <td>0.937</td>  <td>False</td>\n",
       "</tr>\n",
       "<tr>\n",
       "     <td>1</td>      <td>8</td>    <td>-0.6881</td> <td>-2.2383</td>  <td>0.862</td>  <td>False</td>\n",
       "</tr>\n",
       "<tr>\n",
       "     <td>2</td>      <td>3</td>    <td>-0.056</td>  <td>-1.8772</td> <td>1.7651</td>  <td>False</td>\n",
       "</tr>\n",
       "<tr>\n",
       "     <td>2</td>      <td>4</td>    <td>-0.4338</td> <td>-2.2236</td>  <td>1.356</td>  <td>False</td>\n",
       "</tr>\n",
       "<tr>\n",
       "     <td>2</td>      <td>5</td>    <td>-0.1197</td> <td>-2.1697</td> <td>1.9303</td>  <td>False</td>\n",
       "</tr>\n",
       "<tr>\n",
       "     <td>2</td>      <td>6</td>    <td>-0.1656</td> <td>-2.2907</td> <td>1.9596</td>  <td>False</td>\n",
       "</tr>\n",
       "<tr>\n",
       "     <td>2</td>      <td>7</td>    <td>-1.1795</td> <td>-3.4884</td> <td>1.1295</td>  <td>False</td>\n",
       "</tr>\n",
       "<tr>\n",
       "     <td>2</td>      <td>8</td>    <td>-0.7126</td> <td>-2.5451</td> <td>1.1198</td>  <td>False</td>\n",
       "</tr>\n",
       "<tr>\n",
       "     <td>3</td>      <td>4</td>    <td>-0.3777</td> <td>-1.9451</td> <td>1.1896</td>  <td>False</td>\n",
       "</tr>\n",
       "<tr>\n",
       "     <td>3</td>      <td>5</td>    <td>-0.0636</td> <td>-1.9226</td> <td>1.7953</td>  <td>False</td>\n",
       "</tr>\n",
       "<tr>\n",
       "     <td>3</td>      <td>6</td>    <td>-0.1096</td> <td>-2.051</td>  <td>1.8319</td>  <td>False</td>\n",
       "</tr>\n",
       "<tr>\n",
       "     <td>3</td>      <td>7</td>    <td>-1.1234</td> <td>-3.2645</td> <td>1.0177</td>  <td>False</td>\n",
       "</tr>\n",
       "<tr>\n",
       "     <td>3</td>      <td>8</td>    <td>-0.6566</td> <td>-2.2725</td> <td>0.9592</td>  <td>False</td>\n",
       "</tr>\n",
       "<tr>\n",
       "     <td>4</td>      <td>5</td>    <td>0.3141</td>  <td>-1.5141</td> <td>2.1423</td>  <td>False</td>\n",
       "</tr>\n",
       "<tr>\n",
       "     <td>4</td>      <td>6</td>    <td>0.2682</td>  <td>-1.644</td>  <td>2.1803</td>  <td>False</td>\n",
       "</tr>\n",
       "<tr>\n",
       "     <td>4</td>      <td>7</td>    <td>-0.7457</td> <td>-2.8602</td> <td>1.3688</td>  <td>False</td>\n",
       "</tr>\n",
       "<tr>\n",
       "     <td>4</td>      <td>8</td>    <td>-0.2789</td> <td>-1.8593</td> <td>1.3016</td>  <td>False</td>\n",
       "</tr>\n",
       "<tr>\n",
       "     <td>5</td>      <td>6</td>    <td>-0.0459</td> <td>-2.2035</td> <td>2.1117</td>  <td>False</td>\n",
       "</tr>\n",
       "<tr>\n",
       "     <td>5</td>      <td>7</td>    <td>-1.0598</td> <td>-3.3986</td> <td>1.2791</td>  <td>False</td>\n",
       "</tr>\n",
       "<tr>\n",
       "     <td>5</td>      <td>8</td>    <td>-0.593</td>  <td>-2.4629</td>  <td>1.277</td>  <td>False</td>\n",
       "</tr>\n",
       "<tr>\n",
       "     <td>6</td>      <td>7</td>    <td>-1.0139</td> <td>-3.4189</td> <td>1.3911</td>  <td>False</td>\n",
       "</tr>\n",
       "<tr>\n",
       "     <td>6</td>      <td>8</td>    <td>-0.547</td>  <td>-2.4992</td> <td>1.4051</td>  <td>False</td>\n",
       "</tr>\n",
       "<tr>\n",
       "     <td>7</td>      <td>8</td>    <td>0.4668</td>  <td>-1.6839</td> <td>2.6176</td>  <td>False</td>\n",
       "</tr>\n",
       "</table>"
      ],
      "text/plain": [
       "<class 'statsmodels.iolib.table.SimpleTable'>"
      ]
     },
     "metadata": {},
     "output_type": "display_data"
    },
    {
     "data": {
      "image/png": "[encoded data removed]",
      "text/plain": [
       "<Figure size 720x432 with 1 Axes>"
      ]
     },
     "metadata": {
      "needs_background": "light"
     },
     "output_type": "display_data"
    }
   ],
   "source": [
    "#onw-way ANOVA test\n",
    "f = 'Daysbeforeship ~ C(CategoryId)'\n",
    "lm = ols(f, q6).fit()\n",
    "table = sm.stats.anova_lm(lm, typ=2)\n",
    "display(table)\n",
    "#pairwise tukey test\n",
    "tukey_results = pairwise_tukeyhsd(q6['Daysbeforeship'], q6['CategoryId'])\n",
    "display(tukey_results.summary())\n",
    "tukey_results.plot_simultaneous().show()"
   ]
  },
  {
   "cell_type": "markdown",
   "metadata": {},
   "source": [
    "From both our ANOVA test and Tukey test, we cannot reject the null hypothesis that category of product significantly affects processing time."
   ]
  },
  {
   "cell_type": "markdown",
   "metadata": {},
   "source": [
    "### Does having a discount on the order have a statistically significant effect on processing time?\n",
    "\n",
    "$H_0$: there is no significant difference in processing due to discount being applied  \n",
    "$H_\\alpha$: there is a significant difference in processing due to discount being applied"
   ]
  },
  {
   "cell_type": "code",
   "execution_count": 59,
   "metadata": {},
   "outputs": [
    {
     "data": {
      "text/html": [
       "<div>\n",
       "<style scoped>\n",
       "    .dataframe tbody tr th:only-of-type {\n",
       "        vertical-align: middle;\n",
       "    }\n",
       "\n",
       "    .dataframe tbody tr th {\n",
       "        vertical-align: top;\n",
       "    }\n",
       "\n",
       "    .dataframe thead th {\n",
       "        text-align: right;\n",
       "    }\n",
       "</style>\n",
       "<table border=\"1\" class=\"dataframe\">\n",
       "  <thead>\n",
       "    <tr style=\"text-align: right;\">\n",
       "      <th></th>\n",
       "      <th>Id</th>\n",
       "      <th>Quantity</th>\n",
       "      <th>Discount</th>\n",
       "      <th>OrderDate</th>\n",
       "      <th>ShippedDate</th>\n",
       "      <th>CategoryId</th>\n",
       "      <th>CategoryName</th>\n",
       "      <th>Daysbeforeship</th>\n",
       "      <th>Count</th>\n",
       "      <th>is_Discount</th>\n",
       "    </tr>\n",
       "  </thead>\n",
       "  <tbody>\n",
       "    <tr>\n",
       "      <th>1918</th>\n",
       "      <td>11001</td>\n",
       "      <td>25</td>\n",
       "      <td>0.00</td>\n",
       "      <td>2014-04-06</td>\n",
       "      <td>2014-04-14</td>\n",
       "      <td>5</td>\n",
       "      <td>Grains/Cereals</td>\n",
       "      <td>8.0</td>\n",
       "      <td>80</td>\n",
       "      <td>False</td>\n",
       "    </tr>\n",
       "    <tr>\n",
       "      <th>847</th>\n",
       "      <td>10569</td>\n",
       "      <td>35</td>\n",
       "      <td>0.20</td>\n",
       "      <td>2013-06-16</td>\n",
       "      <td>2013-07-11</td>\n",
       "      <td>4</td>\n",
       "      <td>Dairy Products</td>\n",
       "      <td>25.0</td>\n",
       "      <td>70</td>\n",
       "      <td>True</td>\n",
       "    </tr>\n",
       "    <tr>\n",
       "      <th>431</th>\n",
       "      <td>10412</td>\n",
       "      <td>20</td>\n",
       "      <td>0.10</td>\n",
       "      <td>2013-01-13</td>\n",
       "      <td>2013-01-15</td>\n",
       "      <td>7</td>\n",
       "      <td>Produce</td>\n",
       "      <td>2.0</td>\n",
       "      <td>243</td>\n",
       "      <td>True</td>\n",
       "    </tr>\n",
       "    <tr>\n",
       "      <th>726</th>\n",
       "      <td>10526</td>\n",
       "      <td>8</td>\n",
       "      <td>0.15</td>\n",
       "      <td>2013-05-05</td>\n",
       "      <td>2013-05-15</td>\n",
       "      <td>1</td>\n",
       "      <td>Beverages</td>\n",
       "      <td>10.0</td>\n",
       "      <td>48</td>\n",
       "      <td>True</td>\n",
       "    </tr>\n",
       "    <tr>\n",
       "      <th>1324</th>\n",
       "      <td>10756</td>\n",
       "      <td>6</td>\n",
       "      <td>0.20</td>\n",
       "      <td>2013-11-27</td>\n",
       "      <td>2013-12-02</td>\n",
       "      <td>3</td>\n",
       "      <td>Confections</td>\n",
       "      <td>5.0</td>\n",
       "      <td>87</td>\n",
       "      <td>True</td>\n",
       "    </tr>\n",
       "  </tbody>\n",
       "</table>\n",
       "</div>"
      ],
      "text/plain": [
       "         Id  Quantity  Discount  OrderDate ShippedDate  CategoryId  \\\n",
       "1918  11001        25      0.00 2014-04-06  2014-04-14           5   \n",
       "847   10569        35      0.20 2013-06-16  2013-07-11           4   \n",
       "431   10412        20      0.10 2013-01-13  2013-01-15           7   \n",
       "726   10526         8      0.15 2013-05-05  2013-05-15           1   \n",
       "1324  10756         6      0.20 2013-11-27  2013-12-02           3   \n",
       "\n",
       "        CategoryName  Daysbeforeship  Count  is_Discount  \n",
       "1918  Grains/Cereals             8.0     80        False  \n",
       "847   Dairy Products            25.0     70         True  \n",
       "431          Produce             2.0    243         True  \n",
       "726        Beverages            10.0     48         True  \n",
       "1324     Confections             5.0     87         True  "
      ]
     },
     "metadata": {},
     "output_type": "display_data"
    },
    {
     "data": {
      "text/html": [
       "<div>\n",
       "<style scoped>\n",
       "    .dataframe tbody tr th:only-of-type {\n",
       "        vertical-align: middle;\n",
       "    }\n",
       "\n",
       "    .dataframe tbody tr th {\n",
       "        vertical-align: top;\n",
       "    }\n",
       "\n",
       "    .dataframe thead th {\n",
       "        text-align: right;\n",
       "    }\n",
       "</style>\n",
       "<table border=\"1\" class=\"dataframe\">\n",
       "  <thead>\n",
       "    <tr style=\"text-align: right;\">\n",
       "      <th></th>\n",
       "      <th>sum_sq</th>\n",
       "      <th>df</th>\n",
       "      <th>F</th>\n",
       "      <th>PR(&gt;F)</th>\n",
       "    </tr>\n",
       "  </thead>\n",
       "  <tbody>\n",
       "    <tr>\n",
       "      <th>C(is_Discount)</th>\n",
       "      <td>34.637258</td>\n",
       "      <td>1.0</td>\n",
       "      <td>0.773688</td>\n",
       "      <td>0.379182</td>\n",
       "    </tr>\n",
       "    <tr>\n",
       "      <th>Residual</th>\n",
       "      <td>91731.716715</td>\n",
       "      <td>2049.0</td>\n",
       "      <td>NaN</td>\n",
       "      <td>NaN</td>\n",
       "    </tr>\n",
       "  </tbody>\n",
       "</table>\n",
       "</div>"
      ],
      "text/plain": [
       "                      sum_sq      df         F    PR(>F)\n",
       "C(is_Discount)     34.637258     1.0  0.773688  0.379182\n",
       "Residual        91731.716715  2049.0       NaN       NaN"
      ]
     },
     "metadata": {},
     "output_type": "display_data"
    },
    {
     "data": {
      "text/html": [
       "<table class=\"simpletable\">\n",
       "<caption>Multiple Comparison of Means - Tukey HSD,FWER=0.05</caption>\n",
       "<tr>\n",
       "  <th>group1</th> <th>group2</th> <th>meandiff</th>  <th>lower</th>   <th>upper</th> <th>reject</th>\n",
       "</tr>\n",
       "<tr>\n",
       "   <td>False</td>  <td>True</td>   <td>0.2674</td>  <td>-0.3287</td> <td>0.8635</td>  <td>False</td>\n",
       "</tr>\n",
       "</table>"
      ],
      "text/plain": [
       "<class 'statsmodels.iolib.table.SimpleTable'>"
      ]
     },
     "metadata": {},
     "output_type": "display_data"
    }
   ],
   "source": [
    "#looping through Discount column and creating new column with boolean entries\n",
    "for ind, x in enumerate(q6.Discount):\n",
    "    if x == 0:\n",
    "        q6.loc[ind, 'is_Discount'] = False\n",
    "    else:\n",
    "        q6.loc[ind, 'is_Discount'] = True\n",
    "display(q6.sample(5))\n",
    "#one-way ANOVA test\n",
    "f = 'Daysbeforeship ~ C(is_Discount)'\n",
    "lm = ols(f, q6).fit()\n",
    "table = sm.stats.anova_lm(lm, typ=2)\n",
    "display(table)\n",
    "#pairwise tukey test\n",
    "tukey_results = pairwise_tukeyhsd(q6['Daysbeforeship'], q6['is_Discount'])\n",
    "display(tukey_results.summary())"
   ]
  },
  {
   "cell_type": "markdown",
   "metadata": {},
   "source": [
    "From both our ANOVA test and Tukey test, we cannot reject the null hypothesis that having a discount on order significantly affects processing time."
   ]
  },
  {
   "cell_type": "markdown",
   "metadata": {},
   "source": [
    "### Does size of order have a statistically signficant effect on processing time?\n",
    "\n",
    "$H_0$: there is no significant difference in processing time due to quantity ordered  \n",
    "$H_\\alpha$: there is a significant difference in processing time due to quantity ordered"
   ]
  },
  {
   "cell_type": "code",
   "execution_count": 60,
   "metadata": {},
   "outputs": [
    {
     "data": {
      "text/html": [
       "<div>\n",
       "<style scoped>\n",
       "    .dataframe tbody tr th:only-of-type {\n",
       "        vertical-align: middle;\n",
       "    }\n",
       "\n",
       "    .dataframe tbody tr th {\n",
       "        vertical-align: top;\n",
       "    }\n",
       "\n",
       "    .dataframe thead th {\n",
       "        text-align: right;\n",
       "    }\n",
       "</style>\n",
       "<table border=\"1\" class=\"dataframe\">\n",
       "  <thead>\n",
       "    <tr style=\"text-align: right;\">\n",
       "      <th></th>\n",
       "      <th>sum_sq</th>\n",
       "      <th>df</th>\n",
       "      <th>F</th>\n",
       "      <th>PR(&gt;F)</th>\n",
       "    </tr>\n",
       "  </thead>\n",
       "  <tbody>\n",
       "    <tr>\n",
       "      <th>C(CategoryQ)</th>\n",
       "      <td>126.253107</td>\n",
       "      <td>6.0</td>\n",
       "      <td>0.469338</td>\n",
       "      <td>0.831459</td>\n",
       "    </tr>\n",
       "    <tr>\n",
       "      <th>Residual</th>\n",
       "      <td>91640.100867</td>\n",
       "      <td>2044.0</td>\n",
       "      <td>NaN</td>\n",
       "      <td>NaN</td>\n",
       "    </tr>\n",
       "  </tbody>\n",
       "</table>\n",
       "</div>"
      ],
      "text/plain": [
       "                    sum_sq      df         F    PR(>F)\n",
       "C(CategoryQ)    126.253107     6.0  0.469338  0.831459\n",
       "Residual      91640.100867  2044.0       NaN       NaN"
      ]
     },
     "metadata": {},
     "output_type": "display_data"
    },
    {
     "data": {
      "text/html": [
       "<table class=\"simpletable\">\n",
       "<caption>Multiple Comparison of Means - Tukey HSD,FWER=0.05</caption>\n",
       "<tr>\n",
       "  <th>group1</th> <th>group2</th> <th>meandiff</th>  <th>lower</th>   <th>upper</th> <th>reject</th>\n",
       "</tr>\n",
       "<tr>\n",
       "    <td>1.0</td>    <td>2.0</td>   <td>-0.0891</td> <td>-1.2381</td> <td>1.0599</td>  <td>False</td>\n",
       "</tr>\n",
       "<tr>\n",
       "    <td>1.0</td>    <td>3.0</td>   <td>0.4628</td>  <td>-0.8256</td> <td>1.7513</td>  <td>False</td>\n",
       "</tr>\n",
       "<tr>\n",
       "    <td>1.0</td>    <td>4.0</td>   <td>0.2047</td>  <td>-1.4021</td> <td>1.8116</td>  <td>False</td>\n",
       "</tr>\n",
       "<tr>\n",
       "    <td>1.0</td>    <td>5.0</td>   <td>-0.2872</td> <td>-2.2456</td> <td>1.6712</td>  <td>False</td>\n",
       "</tr>\n",
       "<tr>\n",
       "    <td>1.0</td>    <td>6.0</td>   <td>-0.568</td>  <td>-3.1376</td> <td>2.0016</td>  <td>False</td>\n",
       "</tr>\n",
       "<tr>\n",
       "    <td>1.0</td>    <td>7.0</td>   <td>-0.0199</td> <td>-2.5389</td> <td>2.4992</td>  <td>False</td>\n",
       "</tr>\n",
       "<tr>\n",
       "    <td>2.0</td>    <td>3.0</td>   <td>0.5519</td>  <td>-0.716</td>  <td>1.8199</td>  <td>False</td>\n",
       "</tr>\n",
       "<tr>\n",
       "    <td>2.0</td>    <td>4.0</td>   <td>0.2938</td>  <td>-1.2966</td> <td>1.8843</td>  <td>False</td>\n",
       "</tr>\n",
       "<tr>\n",
       "    <td>2.0</td>    <td>5.0</td>   <td>-0.1981</td> <td>-2.1431</td> <td>1.7469</td>  <td>False</td>\n",
       "</tr>\n",
       "<tr>\n",
       "    <td>2.0</td>    <td>6.0</td>   <td>-0.4789</td> <td>-3.0383</td> <td>2.0805</td>  <td>False</td>\n",
       "</tr>\n",
       "<tr>\n",
       "    <td>2.0</td>    <td>7.0</td>   <td>0.0692</td>  <td>-2.4394</td> <td>2.5778</td>  <td>False</td>\n",
       "</tr>\n",
       "<tr>\n",
       "    <td>3.0</td>    <td>4.0</td>   <td>-0.2581</td> <td>-1.952</td>  <td>1.4358</td>  <td>False</td>\n",
       "</tr>\n",
       "<tr>\n",
       "    <td>3.0</td>    <td>5.0</td>    <td>-0.75</td>  <td>-2.7805</td> <td>1.2805</td>  <td>False</td>\n",
       "</tr>\n",
       "<tr>\n",
       "    <td>3.0</td>    <td>6.0</td>   <td>-1.0308</td> <td>-3.6558</td> <td>1.5941</td>  <td>False</td>\n",
       "</tr>\n",
       "<tr>\n",
       "    <td>3.0</td>    <td>7.0</td>   <td>-0.4827</td> <td>-3.0582</td> <td>2.0927</td>  <td>False</td>\n",
       "</tr>\n",
       "<tr>\n",
       "    <td>4.0</td>    <td>5.0</td>   <td>-0.4919</td> <td>-2.738</td>  <td>1.7541</td>  <td>False</td>\n",
       "</tr>\n",
       "<tr>\n",
       "    <td>4.0</td>    <td>6.0</td>   <td>-0.7727</td> <td>-3.5677</td> <td>2.0223</td>  <td>False</td>\n",
       "</tr>\n",
       "<tr>\n",
       "    <td>4.0</td>    <td>7.0</td>   <td>-0.2246</td> <td>-2.9733</td>  <td>2.524</td>  <td>False</td>\n",
       "</tr>\n",
       "<tr>\n",
       "    <td>5.0</td>    <td>6.0</td>   <td>-0.2808</td> <td>-3.2917</td> <td>2.7301</td>  <td>False</td>\n",
       "</tr>\n",
       "<tr>\n",
       "    <td>5.0</td>    <td>7.0</td>   <td>0.2673</td>  <td>-2.7006</td> <td>3.2352</td>  <td>False</td>\n",
       "</tr>\n",
       "<tr>\n",
       "    <td>6.0</td>    <td>7.0</td>   <td>0.5481</td>  <td>-2.8542</td> <td>3.9504</td>  <td>False</td>\n",
       "</tr>\n",
       "</table>"
      ],
      "text/plain": [
       "<class 'statsmodels.iolib.table.SimpleTable'>"
      ]
     },
     "metadata": {},
     "output_type": "display_data"
    },
    {
     "data": {
      "image/png": "[encoded data removed]",
      "text/plain": [
       "<Figure size 720x432 with 1 Axes>"
      ]
     },
     "metadata": {
      "needs_background": "light"
     },
     "output_type": "display_data"
    }
   ],
   "source": [
    "#looping through Quantity and creating bins\n",
    "for idx, x in enumerate(q6.Quantity):\n",
    "    if 0 < x <= 10:\n",
    "        q6.loc[idx, 'CategoryQ'] = 1\n",
    "    elif 10 < x <= 20:\n",
    "        q6.loc[idx, 'CategoryQ'] = 2\n",
    "    elif 20 < x <= 30:\n",
    "        q6.loc[idx, 'CategoryQ'] = 3\n",
    "    elif 30 < x <= 40:\n",
    "        q6.loc[idx, 'CategoryQ'] = 4\n",
    "    elif 40 < x <= 50:\n",
    "        q6.loc[idx, 'CategoryQ'] = 5\n",
    "    elif 50 < x <= 60:\n",
    "        q6.loc[idx, 'CategoryQ'] = 6\n",
    "    elif 60 < x :\n",
    "        q6.loc[idx, 'CategoryQ'] = 7\n",
    "#one-way ANOVA test\n",
    "f = 'Daysbeforeship ~ C(CategoryQ)'\n",
    "lm = ols(f, q6).fit()\n",
    "table = sm.stats.anova_lm(lm, typ=2)\n",
    "display(table)\n",
    "#pairwise tukey test\n",
    "tukey_results = pairwise_tukeyhsd(q6['Daysbeforeship'], q6['CategoryQ'])\n",
    "display(tukey_results.summary())\n",
    "tukey_results.plot_simultaneous().show()"
   ]
  },
  {
   "cell_type": "markdown",
   "metadata": {},
   "source": [
    "From both our ANOVA test and Tukey test, we cannot reject the null hypothesis that quantity ordered significantly affects processing time."
   ]
  },
  {
   "cell_type": "markdown",
   "metadata": {},
   "source": [
    "### Does shipping company have a statistically significant effect on processing time?\n",
    "\n",
    "$H_0$: there is no significant difference in processing time due to shipper  \n",
    "$H_\\alpha$: there is a significant difference in processing time due to shipper"
   ]
  },
  {
   "cell_type": "code",
   "execution_count": 61,
   "metadata": {},
   "outputs": [
    {
     "data": {
      "text/html": [
       "<div>\n",
       "<style scoped>\n",
       "    .dataframe tbody tr th:only-of-type {\n",
       "        vertical-align: middle;\n",
       "    }\n",
       "\n",
       "    .dataframe tbody tr th {\n",
       "        vertical-align: top;\n",
       "    }\n",
       "\n",
       "    .dataframe thead th {\n",
       "        text-align: right;\n",
       "    }\n",
       "</style>\n",
       "<table border=\"1\" class=\"dataframe\">\n",
       "  <thead>\n",
       "    <tr style=\"text-align: right;\">\n",
       "      <th></th>\n",
       "      <th>Daysbeforeship</th>\n",
       "    </tr>\n",
       "    <tr>\n",
       "      <th>ShipVia</th>\n",
       "      <th></th>\n",
       "    </tr>\n",
       "  </thead>\n",
       "  <tbody>\n",
       "    <tr>\n",
       "      <th>1</th>\n",
       "      <td>8.571429</td>\n",
       "    </tr>\n",
       "    <tr>\n",
       "      <th>2</th>\n",
       "      <td>9.234921</td>\n",
       "    </tr>\n",
       "    <tr>\n",
       "      <th>3</th>\n",
       "      <td>7.473896</td>\n",
       "    </tr>\n",
       "  </tbody>\n",
       "</table>\n",
       "</div>"
      ],
      "text/plain": [
       "         Daysbeforeship\n",
       "ShipVia                \n",
       "1              8.571429\n",
       "2              9.234921\n",
       "3              7.473896"
      ]
     },
     "metadata": {},
     "output_type": "display_data"
    },
    {
     "data": {
      "text/html": [
       "<div>\n",
       "<style scoped>\n",
       "    .dataframe tbody tr th:only-of-type {\n",
       "        vertical-align: middle;\n",
       "    }\n",
       "\n",
       "    .dataframe tbody tr th {\n",
       "        vertical-align: top;\n",
       "    }\n",
       "\n",
       "    .dataframe thead th {\n",
       "        text-align: right;\n",
       "    }\n",
       "</style>\n",
       "<table border=\"1\" class=\"dataframe\">\n",
       "  <thead>\n",
       "    <tr style=\"text-align: right;\">\n",
       "      <th></th>\n",
       "      <th>sum_sq</th>\n",
       "      <th>df</th>\n",
       "      <th>F</th>\n",
       "      <th>PR(&gt;F)</th>\n",
       "    </tr>\n",
       "  </thead>\n",
       "  <tbody>\n",
       "    <tr>\n",
       "      <th>C(ShipVia)</th>\n",
       "      <td>433.501581</td>\n",
       "      <td>2.0</td>\n",
       "      <td>4.676819</td>\n",
       "      <td>0.009563</td>\n",
       "    </tr>\n",
       "    <tr>\n",
       "      <th>Residual</th>\n",
       "      <td>37354.696194</td>\n",
       "      <td>806.0</td>\n",
       "      <td>NaN</td>\n",
       "      <td>NaN</td>\n",
       "    </tr>\n",
       "  </tbody>\n",
       "</table>\n",
       "</div>"
      ],
      "text/plain": [
       "                  sum_sq     df         F    PR(>F)\n",
       "C(ShipVia)    433.501581    2.0  4.676819  0.009563\n",
       "Residual    37354.696194  806.0       NaN       NaN"
      ]
     },
     "metadata": {},
     "output_type": "display_data"
    },
    {
     "data": {
      "text/html": [
       "<table class=\"simpletable\">\n",
       "<caption>Multiple Comparison of Means - Tukey HSD,FWER=0.05</caption>\n",
       "<tr>\n",
       "  <th>group1</th> <th>group2</th> <th>meandiff</th>  <th>lower</th>   <th>upper</th>  <th>reject</th>\n",
       "</tr>\n",
       "<tr>\n",
       "     <td>1</td>      <td>2</td>    <td>0.6635</td>  <td>-0.6982</td> <td>2.0252</td>   <td>False</td>\n",
       "</tr>\n",
       "<tr>\n",
       "     <td>1</td>      <td>3</td>    <td>-1.0975</td> <td>-2.536</td>  <td>0.3409</td>   <td>False</td>\n",
       "</tr>\n",
       "<tr>\n",
       "     <td>2</td>      <td>3</td>    <td>-1.761</td>  <td>-3.1165</td> <td>-0.4055</td>  <td>True</td> \n",
       "</tr>\n",
       "</table>"
      ],
      "text/plain": [
       "<class 'statsmodels.iolib.table.SimpleTable'>"
      ]
     },
     "metadata": {},
     "output_type": "display_data"
    },
    {
     "data": {
      "image/png": "[encoded data removed]",
      "text/plain": [
       "<Figure size 720x432 with 1 Axes>"
      ]
     },
     "metadata": {
      "needs_background": "light"
     },
     "output_type": "display_data"
    }
   ],
   "source": [
    "#SQL query selecting quantity ordered and discount\n",
    "x = \"\"\"SELECT Id, OrderDate, ShippedDate, ShipVia\n",
    "       FROM [Order]\n",
    "       WHERE ShippedDate IS NOT NULL\n",
    "       ;\"\"\"\n",
    "q6A = pd.read_sql_query(x, conn)\n",
    "q6A.tail()\n",
    "\n",
    "#change column datatype\n",
    "q6A.OrderDate = pd.to_datetime(q6A.OrderDate)\n",
    "q6A.ShippedDate = pd.to_datetime(q6A.ShippedDate)\n",
    "#loop through OrderDate column and calculate days between two dates\n",
    "for idx, x in enumerate(q6A.OrderDate):\n",
    "    q6A.loc[idx, 'Daysbeforeship'] = (q6A.iloc[idx]['ShippedDate'] - q6A.iloc[idx]['OrderDate']).days\n",
    "\n",
    "#drop duplicate rows\n",
    "q6B = q6A.drop_duplicates(subset=None, keep='first')\n",
    "q6B.drop(['Id'], axis = 1, inplace = True)\n",
    "q6B = q6B.reset_index(drop=True)\n",
    "#groupby function by ShipVia\n",
    "display(q6B.groupby('ShipVia').mean())\n",
    "#one-way ANOVA test\n",
    "f = 'Daysbeforeship ~ C(ShipVia)'\n",
    "lm = ols(f, q6B).fit()\n",
    "table = sm.stats.anova_lm(lm, typ=2)\n",
    "display(table)\n",
    "#pairwise tukey test\n",
    "tukey_results = pairwise_tukeyhsd(q6B['Daysbeforeship'], q6B['ShipVia'])\n",
    "display(tukey_results.summary())\n",
    "tukey_results.plot_simultaneous().show()"
   ]
  },
  {
   "cell_type": "code",
   "execution_count": 62,
   "metadata": {},
   "outputs": [
    {
     "name": "stdout",
     "output_type": "stream",
     "text": [
      "0.09148299737261549\n",
      "0.17564439393687006\n",
      "0.25819634131476343\n"
     ]
    }
   ],
   "source": [
    "#new dataframes where ShipVia is specific value only\n",
    "q61 = q6B.loc[q6B['ShipVia'] == 1]\n",
    "q62 = q6B.loc[q6B['ShipVia'] == 2]\n",
    "q63 = q6B.loc[q6B['ShipVia'] == 3]\n",
    "#run cohen's d function\n",
    "print(cohens_d(q61['Daysbeforeship'], q62['Daysbeforeship']))\n",
    "print(cohens_d(q61['Daysbeforeship'], q63['Daysbeforeship']))\n",
    "print(cohens_d(q62['Daysbeforeship'], q63['Daysbeforeship']))"
   ]
  },
  {
   "cell_type": "markdown",
   "metadata": {},
   "source": [
    "After testing the effect of shipping company on processing time (time between order date and shipping date), we find that our ANOVA test states we should reject our null hypothesis of no significance and out tukey test confirms that for the relationship between shipping companies 3 and 2 only. Our tukey test states that company 3 has a significant difference in mean of -1.76 days of processing time over 2. Our effect sizes for the three relationships also confirm that only 2 and 3 have a relationship that is not trivial."
   ]
  },
  {
   "cell_type": "code",
   "execution_count": 63,
   "metadata": {},
   "outputs": [
    {
     "data": {
      "text/html": [
       "<div>\n",
       "<style scoped>\n",
       "    .dataframe tbody tr th:only-of-type {\n",
       "        vertical-align: middle;\n",
       "    }\n",
       "\n",
       "    .dataframe tbody tr th {\n",
       "        vertical-align: top;\n",
       "    }\n",
       "\n",
       "    .dataframe thead th {\n",
       "        text-align: right;\n",
       "    }\n",
       "</style>\n",
       "<table border=\"1\" class=\"dataframe\">\n",
       "  <thead>\n",
       "    <tr style=\"text-align: right;\">\n",
       "      <th></th>\n",
       "      <th>Id</th>\n",
       "      <th>CompanyName</th>\n",
       "    </tr>\n",
       "  </thead>\n",
       "  <tbody>\n",
       "    <tr>\n",
       "      <th>0</th>\n",
       "      <td>1</td>\n",
       "      <td>Speedy Express</td>\n",
       "    </tr>\n",
       "    <tr>\n",
       "      <th>1</th>\n",
       "      <td>2</td>\n",
       "      <td>United Package</td>\n",
       "    </tr>\n",
       "    <tr>\n",
       "      <th>2</th>\n",
       "      <td>3</td>\n",
       "      <td>Federal Shipping</td>\n",
       "    </tr>\n",
       "  </tbody>\n",
       "</table>\n",
       "</div>"
      ],
      "text/plain": [
       "   Id       CompanyName\n",
       "0   1    Speedy Express\n",
       "1   2    United Package\n",
       "2   3  Federal Shipping"
      ]
     },
     "execution_count": 63,
     "metadata": {},
     "output_type": "execute_result"
    }
   ],
   "source": [
    "#SQL query selecting quantity ordered and discount\n",
    "x = \"\"\"SELECT Id, CompanyName\n",
    "       FROM Shipper\n",
    "       ;\"\"\"\n",
    "q7 = pd.read_sql_query(x, conn)\n",
    "#drop duplicate rows\n",
    "q7.drop_duplicates(subset=None, keep='first')"
   ]
  },
  {
   "cell_type": "code",
   "execution_count": 64,
   "metadata": {},
   "outputs": [
    {
     "data": {
      "text/html": [
       "<div>\n",
       "<style scoped>\n",
       "    .dataframe tbody tr th:only-of-type {\n",
       "        vertical-align: middle;\n",
       "    }\n",
       "\n",
       "    .dataframe tbody tr th {\n",
       "        vertical-align: top;\n",
       "    }\n",
       "\n",
       "    .dataframe thead th {\n",
       "        text-align: right;\n",
       "    }\n",
       "</style>\n",
       "<table border=\"1\" class=\"dataframe\">\n",
       "  <thead>\n",
       "    <tr style=\"text-align: right;\">\n",
       "      <th></th>\n",
       "      <th>ShipVia</th>\n",
       "      <th>Freight</th>\n",
       "      <th>UnitPrice</th>\n",
       "      <th>Quantity</th>\n",
       "      <th>Discount</th>\n",
       "    </tr>\n",
       "  </thead>\n",
       "  <tbody>\n",
       "    <tr>\n",
       "      <th>1548</th>\n",
       "      <td>3</td>\n",
       "      <td>35.43</td>\n",
       "      <td>34.8</td>\n",
       "      <td>15</td>\n",
       "      <td>0.10</td>\n",
       "    </tr>\n",
       "    <tr>\n",
       "      <th>369</th>\n",
       "      <td>2</td>\n",
       "      <td>93.63</td>\n",
       "      <td>44.0</td>\n",
       "      <td>12</td>\n",
       "      <td>0.00</td>\n",
       "    </tr>\n",
       "    <tr>\n",
       "      <th>1630</th>\n",
       "      <td>1</td>\n",
       "      <td>143.28</td>\n",
       "      <td>21.0</td>\n",
       "      <td>10</td>\n",
       "      <td>0.00</td>\n",
       "    </tr>\n",
       "    <tr>\n",
       "      <th>1308</th>\n",
       "      <td>3</td>\n",
       "      <td>31.43</td>\n",
       "      <td>6.0</td>\n",
       "      <td>6</td>\n",
       "      <td>0.00</td>\n",
       "    </tr>\n",
       "    <tr>\n",
       "      <th>765</th>\n",
       "      <td>2</td>\n",
       "      <td>58.88</td>\n",
       "      <td>38.0</td>\n",
       "      <td>15</td>\n",
       "      <td>0.25</td>\n",
       "    </tr>\n",
       "  </tbody>\n",
       "</table>\n",
       "</div>"
      ],
      "text/plain": [
       "      ShipVia  Freight  UnitPrice  Quantity  Discount\n",
       "1548        3    35.43       34.8        15      0.10\n",
       "369         2    93.63       44.0        12      0.00\n",
       "1630        1   143.28       21.0        10      0.00\n",
       "1308        3    31.43        6.0         6      0.00\n",
       "765         2    58.88       38.0        15      0.25"
      ]
     },
     "execution_count": 64,
     "metadata": {},
     "output_type": "execute_result"
    }
   ],
   "source": [
    "#SQL query selecting quantity ordered and discount\n",
    "x = \"\"\"SELECT o.ShipVia, o.Freight, od.UnitPrice, od.Quantity, od.Discount\n",
    "       FROM [Order] as o\n",
    "       JOIN Orderdetail AS od ON o.Id = od.OrderId\n",
    "       ;\"\"\"\n",
    "q7A = pd.read_sql_query(x, conn)\n",
    "q7A.sample(5)"
   ]
  },
  {
   "cell_type": "code",
   "execution_count": 65,
   "metadata": {},
   "outputs": [
    {
     "data": {
      "text/html": [
       "<div>\n",
       "<style scoped>\n",
       "    .dataframe tbody tr th:only-of-type {\n",
       "        vertical-align: middle;\n",
       "    }\n",
       "\n",
       "    .dataframe tbody tr th {\n",
       "        vertical-align: top;\n",
       "    }\n",
       "\n",
       "    .dataframe thead th {\n",
       "        text-align: right;\n",
       "    }\n",
       "</style>\n",
       "<table border=\"1\" class=\"dataframe\">\n",
       "  <thead>\n",
       "    <tr style=\"text-align: right;\">\n",
       "      <th></th>\n",
       "      <th>ShipVia</th>\n",
       "      <th>Freight</th>\n",
       "      <th>UnitPrice</th>\n",
       "      <th>Quantity</th>\n",
       "      <th>Discount</th>\n",
       "      <th>Profit</th>\n",
       "    </tr>\n",
       "  </thead>\n",
       "  <tbody>\n",
       "    <tr>\n",
       "      <th>2029</th>\n",
       "      <td>3</td>\n",
       "      <td>84.74</td>\n",
       "      <td>32.8</td>\n",
       "      <td>70</td>\n",
       "      <td>0.1</td>\n",
       "      <td>1981.66</td>\n",
       "    </tr>\n",
       "    <tr>\n",
       "      <th>1520</th>\n",
       "      <td>2</td>\n",
       "      <td>72.19</td>\n",
       "      <td>9.2</td>\n",
       "      <td>2</td>\n",
       "      <td>0.0</td>\n",
       "      <td>-53.79</td>\n",
       "    </tr>\n",
       "    <tr>\n",
       "      <th>766</th>\n",
       "      <td>2</td>\n",
       "      <td>58.88</td>\n",
       "      <td>12.5</td>\n",
       "      <td>20</td>\n",
       "      <td>0.0</td>\n",
       "      <td>191.12</td>\n",
       "    </tr>\n",
       "    <tr>\n",
       "      <th>1213</th>\n",
       "      <td>2</td>\n",
       "      <td>2.96</td>\n",
       "      <td>19.0</td>\n",
       "      <td>5</td>\n",
       "      <td>0.0</td>\n",
       "      <td>92.04</td>\n",
       "    </tr>\n",
       "    <tr>\n",
       "      <th>551</th>\n",
       "      <td>2</td>\n",
       "      <td>180.45</td>\n",
       "      <td>22.8</td>\n",
       "      <td>25</td>\n",
       "      <td>0.0</td>\n",
       "      <td>389.55</td>\n",
       "    </tr>\n",
       "  </tbody>\n",
       "</table>\n",
       "</div>"
      ],
      "text/plain": [
       "      ShipVia  Freight  UnitPrice  Quantity  Discount   Profit\n",
       "2029        3    84.74       32.8        70       0.1  1981.66\n",
       "1520        2    72.19        9.2         2       0.0   -53.79\n",
       "766         2    58.88       12.5        20       0.0   191.12\n",
       "1213        2     2.96       19.0         5       0.0    92.04\n",
       "551         2   180.45       22.8        25       0.0   389.55"
      ]
     },
     "execution_count": 65,
     "metadata": {},
     "output_type": "execute_result"
    }
   ],
   "source": [
    "#create new column with profit values as entries\n",
    "q7A['Profit'] = (q7A.UnitPrice*q7A.Quantity*(1-q7A.Discount)) - q7A.Freight\n",
    "q7A.sample(5)"
   ]
  },
  {
   "cell_type": "code",
   "execution_count": 66,
   "metadata": {
    "scrolled": false
   },
   "outputs": [
    {
     "data": {
      "text/html": [
       "<div>\n",
       "<style scoped>\n",
       "    .dataframe tbody tr th:only-of-type {\n",
       "        vertical-align: middle;\n",
       "    }\n",
       "\n",
       "    .dataframe tbody tr th {\n",
       "        vertical-align: top;\n",
       "    }\n",
       "\n",
       "    .dataframe thead th {\n",
       "        text-align: right;\n",
       "    }\n",
       "</style>\n",
       "<table border=\"1\" class=\"dataframe\">\n",
       "  <thead>\n",
       "    <tr style=\"text-align: right;\">\n",
       "      <th></th>\n",
       "      <th>Freight</th>\n",
       "      <th>UnitPrice</th>\n",
       "      <th>Quantity</th>\n",
       "      <th>Discount</th>\n",
       "      <th>Profit</th>\n",
       "    </tr>\n",
       "    <tr>\n",
       "      <th>ShipVia</th>\n",
       "      <th></th>\n",
       "      <th></th>\n",
       "      <th></th>\n",
       "      <th></th>\n",
       "      <th></th>\n",
       "    </tr>\n",
       "  </thead>\n",
       "  <tbody>\n",
       "    <tr>\n",
       "      <th>1</th>\n",
       "      <td>80.946053</td>\n",
       "      <td>24.454768</td>\n",
       "      <td>24.642415</td>\n",
       "      <td>0.061300</td>\n",
       "      <td>459.053851</td>\n",
       "    </tr>\n",
       "    <tr>\n",
       "      <th>2</th>\n",
       "      <td>105.983576</td>\n",
       "      <td>27.883542</td>\n",
       "      <td>23.084491</td>\n",
       "      <td>0.054965</td>\n",
       "      <td>511.548407</td>\n",
       "    </tr>\n",
       "    <tr>\n",
       "      <th>3</th>\n",
       "      <td>98.364558</td>\n",
       "      <td>25.754651</td>\n",
       "      <td>23.958140</td>\n",
       "      <td>0.052636</td>\n",
       "      <td>496.062524</td>\n",
       "    </tr>\n",
       "  </tbody>\n",
       "</table>\n",
       "</div>"
      ],
      "text/plain": [
       "            Freight  UnitPrice   Quantity  Discount      Profit\n",
       "ShipVia                                                        \n",
       "1         80.946053  24.454768  24.642415  0.061300  459.053851\n",
       "2        105.983576  27.883542  23.084491  0.054965  511.548407\n",
       "3         98.364558  25.754651  23.958140  0.052636  496.062524"
      ]
     },
     "execution_count": 66,
     "metadata": {},
     "output_type": "execute_result"
    }
   ],
   "source": [
    "#groupby function by ShipVia\n",
    "q7A.groupby('ShipVia').mean()"
   ]
  },
  {
   "cell_type": "code",
   "execution_count": 67,
   "metadata": {},
   "outputs": [
    {
     "data": {
      "image/png": "[encoded data removed]",
      "text/plain": [
       "<Figure size 720x432 with 1 Axes>"
      ]
     },
     "metadata": {
      "needs_background": "light"
     },
     "output_type": "display_data"
    }
   ],
   "source": [
    "#set fig size\n",
    "plt.figure(figsize=(10,6))\n",
    "#seaborn distribution plot with arguments\n",
    "sns.distplot(q62['Daysbeforeship'], hist=True, kde=True, \n",
    "             bins=int(20), color = 'sienna', \n",
    "             hist_kws={'edgecolor':'black'},\n",
    "             kde_kws={'linewidth': 1, 'label': 'United Package'})\n",
    "#seaborn distribution plot with arguments\n",
    "sns.distplot(q63['Daysbeforeship'], hist=True, kde=True, \n",
    "             bins=int(20), color = 'gold', \n",
    "             hist_kws={'edgecolor':'black'},\n",
    "             kde_kws={'linewidth': 1, 'label': 'Federal Shipping'})\n",
    "#set both mean lines\n",
    "plt.axvline(x=q62['Daysbeforeship'].mean(), color='sienna', linestyle='--')\n",
    "plt.axvline(x=q63['Daysbeforeship'].mean(), color='gold', linestyle='-')\n",
    "#save figure as png\n",
    "plt.savefig('ShipProcessingTimeDensity.png')"
   ]
  },
  {
   "cell_type": "code",
   "execution_count": 68,
   "metadata": {},
   "outputs": [
    {
     "data": {
      "image/png": "[encoded data removed]",
      "text/plain": [
       "<Figure size 720x432 with 1 Axes>"
      ]
     },
     "metadata": {
      "needs_background": "light"
     },
     "output_type": "display_data"
    }
   ],
   "source": [
    "#new dataframes where ShipVia is specific value only\n",
    "q7A2= q7A.loc[q7A['ShipVia'] == 2]\n",
    "q7A3 = q7A.loc[q7A['ShipVia'] != 3]\n",
    "#set fig size\n",
    "plt.figure(figsize=(10,6))\n",
    "#seaborn distribution plot with arguments\n",
    "sns.distplot(q7A2['Quantity'], hist=True, kde=True, \n",
    "             bins=int(20), color = 'sienna', \n",
    "             hist_kws={'edgecolor':'black'},\n",
    "             kde_kws={'linewidth': 1, 'label': 'United Package'})\n",
    "#seaborn distribution plot with arguments\n",
    "sns.distplot(q7A3['Quantity'], hist=True, kde=True, \n",
    "             bins=int(20), color = 'gold', \n",
    "             hist_kws={'edgecolor':'black'},\n",
    "             kde_kws={'linewidth': 1, 'label': 'Federal Shipping'})\n",
    "#set both mean lines\n",
    "plt.axvline(x=q7A2['Quantity'].mean(), color='sienna', linestyle='--')\n",
    "plt.axvline(x=q7A3['Quantity'].mean(), color='gold', linestyle='-')\n",
    "#save figure as png\n",
    "plt.savefig('ShipQuantityDensity.png')"
   ]
  },
  {
   "cell_type": "markdown",
   "metadata": {},
   "source": [
    "Although, we know that Federal Shipping has a significantly less processing time than United Package, Northwind makes more profit on average using United Package rather than Federal Shipping. This is unusual as United Package also charges the largest freight cost, therefore, there must be other factors influencing profit such as Unit Price. In our two density graphs, we may observe that more orders of the same quantities than federal shipping does, whereas Federal shipping has more orders with less processing time than United Package does."
   ]
  },
  {
   "cell_type": "markdown",
   "metadata": {},
   "source": [
    "## Results\n",
    "##### Question 1\n",
    "Does discount amount have a statistically significant effect on the quantity of a product in an order? If so, at what level(s) of discount? **Reject Null Hypothesis and levels 0.01-0.06 and 0.15 are the best.**  \n",
    "##### Question 2\n",
    "Is there a statistically significant difference in the level(s) of discount offered by UK employees and USA employees?  **Reject Null Hypothesis**  \n",
    "Does the level(s) of discount offered by US employees have a statistically significant effect on the quantity ordered? If so, at what level(s) of discount?  **Reject Null Hypothesis and levels 0.01-0.06 and 0.15 are the best.**  \n",
    "Does the level(s) of discount offered by UK employees have a statistically significant effect on the quantity ordered? If so, at what level(s) of discount? **Reject Null Hypothesis and level 0.25 is the best.**    \n",
    "##### Question 3\n",
    "Does the age of the employee have a statistically significant effect on number of orders processed? **Cannot reject Null Hypothesis.**  \n",
    "Does having a managerial position in Northwind have a statistically significant effect on number of orders recieved? **Cannot reject Null Hypothesis.**  \n",
    "Does the age of the employee have a statistically significant effect on the quantity of a product in an order? **Cannot reject Null Hypothesis.**  \n",
    "Does having manager in your title have a statistically significant effect on quantity ordered by the customer? **Reject Null Hypothesis and 4.83 greater difference in mean when customers' employees making the order have a managerial position.**  \n",
    "##### Question 4\n",
    "For each category type of product, does the season in which the order was placed have a statistically significant effect on the quantity of a product in an order? **Reject Null Hypothesis for Dairy Products in Winter: +4.99 units, Seafood in Spring: -4.95 units, Condiments in Winter: +6.97 units, and Condiments in Spring: -5.83 units.**  \n",
    "##### Question 5\n",
    "Does shipping company used have a statistically significant effect on the freight cost of shipping? **Cannot reject Null Hypothesis.**   \n",
    "##### Question 6\n",
    "Does category of product have a statistically signficiant effect on processing time? If so, which ones? **Cannot reject Null Hypothesis.**  \n",
    "Does having a discount on the order have a statistically significant effect on processing time? **Cannot reject Null Hypothesis.**   \n",
    "Does size of order have a statistically signficant effect on processing time? **Cannot reject Null Hypothesis.**  \n",
    "Does shipping company have a statistically significant effect on processing time? **Reject Null Hypothesis for difference between Shipping Company 2 (United Package) and 3 (Federal Shipping) with a mean difference of -1.76 days in favor of United Package. United Package has a greater average freight cost however.**"
   ]
  },
  {
   "cell_type": "markdown",
   "metadata": {},
   "source": [
    "## Further Steps\n",
    "\n",
    "$-$ Further investigate if lowering discount level below suggested 15% is better  \n",
    "$-$ Find out optimal levels of discount for each product for their seasonal demand (if that exists)  \n",
    "$-$ Explore where to lower costs whether in employee demmographic or shipping  "
   ]
  }
 ],
 "metadata": {
  "kernelspec": {
   "display_name": "Python [conda env:learn-env] *",
   "language": "python",
   "name": "conda-env-learn-env-py"
  },
  "language_info": {
   "codemirror_mode": {
    "name": "ipython",
    "version": 3
   },
   "file_extension": ".py",
   "mimetype": "text/x-python",
   "name": "python",
   "nbconvert_exporter": "python",
   "pygments_lexer": "ipython3",
   "version": "3.6.6"
  }
 },
 "nbformat": 4,
 "nbformat_minor": 2
}
